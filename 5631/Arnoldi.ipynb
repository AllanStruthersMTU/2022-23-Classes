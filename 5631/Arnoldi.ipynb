{
 "cells": [
  {
   "cell_type": "markdown",
   "id": "7b756372-dbf1-4c78-9003-cd8d725a560b",
   "metadata": {},
   "source": [
    "# Import Matrix and Check Arnoldi\n",
    "I am going to import a matrix from SparseSuite and make sure I understand the output from Arnoldi"
   ]
  },
  {
   "cell_type": "code",
   "execution_count": 13,
   "id": "5ba017b6-ffc3-4886-b49e-5a9bd0d3150a",
   "metadata": {},
   "outputs": [
    {
     "ename": "LoadError",
     "evalue": "MatrixDepot.DataError(\"no matrix according to baart found\")",
     "output_type": "error",
     "traceback": [
      "MatrixDepot.DataError(\"no matrix according to baart found\")",
      "",
      "Stacktrace:",
      "  [1] daterr(s::String)",
      "    @ MatrixDepot C:\\Users\\struther\\.julia\\packages\\MatrixDepot\\GEDc3\\src\\common.jl:6",
      "  [2] mdata(db::MatrixDepot.MatrixDatabase, p::String)",
      "    @ MatrixDepot C:\\Users\\struther\\.julia\\packages\\MatrixDepot\\GEDc3\\src\\common.jl:483",
      "  [3] _broadcast_getindex_evalf",
      "    @ .\\broadcast.jl:648 [inlined]",
      "  [4] _broadcast_getindex",
      "    @ .\\broadcast.jl:621 [inlined]",
      "  [5] getindex",
      "    @ .\\broadcast.jl:575 [inlined]",
      "  [6] copy",
      "    @ .\\broadcast.jl:922 [inlined]",
      "  [7] materialize",
      "    @ .\\broadcast.jl:883 [inlined]",
      "  [8] buildnametable1(db::MatrixDepot.MatrixDatabase, hdr::String, p::Symbol, maxrow::Int64)",
      "    @ MatrixDepot C:\\Users\\struther\\.julia\\packages\\MatrixDepot\\GEDc3\\src\\markdown.jl:95",
      "  [9] overview(db::MatrixDepot.MatrixDatabase)",
      "    @ MatrixDepot C:\\Users\\struther\\.julia\\packages\\MatrixDepot\\GEDc3\\src\\markdown.jl:127",
      " [10] mdinfo (repeats 2 times)",
      "    @ C:\\Users\\struther\\.julia\\packages\\MatrixDepot\\GEDc3\\src\\markdown.jl:143 [inlined]",
      " [11] top-level scope",
      "    @ In[13]:2",
      " [12] eval",
      "    @ .\\boot.jl:360 [inlined]",
      " [13] include_string(mapexpr::typeof(REPL.softscope), mod::Module, code::String, filename::String)",
      "    @ Base .\\loading.jl:1116"
     ]
    }
   ],
   "source": [
    "using MatrixMarket, KrylovKit, MatrixDepot\n",
    "mdinfo()"
   ]
  },
  {
   "cell_type": "code",
   "execution_count": 4,
   "id": "37f5694b-5560-43de-87dc-b67164eb41db",
   "metadata": {},
   "outputs": [
    {
     "name": "stdout",
     "output_type": "stream",
     "text": [
      "  0.015361 seconds (17.17 k allocations: 1.119 MiB, 99.33% compilation time)\n",
      "  0.000071 seconds (9 allocations: 5.141 KiB)\n"
     ]
    },
    {
     "data": {
      "text/plain": [
       "3×6 Matrix{Float64}:\n",
       " 22.4553       -0.531046   0.231626  22.4553   0.574138   0.077626\n",
       " -2.02705e-15  -1.78785    0.835253   0.0     -1.90352    0.905487\n",
       " -4.36948e-16  -0.714981  -2.01919    0.0     -0.644747  -1.90352"
      ]
     },
     "execution_count": 4,
     "metadata": {},
     "output_type": "execute_result"
    }
   ],
   "source": [
    "using \n",
    "\n",
    "function PowerMethodStep(A,X)\n",
    "    b=size(X)[2]\n",
    "    Ib = Matrix(1.0I, b, b)\n",
    "    AX=A*X\n",
    "    (qr(AX).Q)*Ib\n",
    "end\n",
    "\n",
    "# Creating a test problem\n",
    "(m,b)=(45,3); A=rand(m,m);\n",
    "X0 = rand(m,b);\n",
    "(T,Z)=schur(A);T=T[1:b,1:b];Z=Z[:,1:b]\n",
    "\n",
    "# Testing the Out of Place Function\n",
    "X=copy(X0);\n",
    "@time X = PowerMethodStep(A,X)\n",
    "@time X = PowerMethodStep(A,X)\n",
    "\n",
    "MaxIter=1000\n",
    "for k in 1:MaxIter\n",
    "    X = PowerMethodStep(A,X)\n",
    "end\n",
    "[X'*A*X T]"
   ]
  },
  {
   "cell_type": "markdown",
   "id": "ab3e28d9-1ddb-4c06-8e9c-4d16844f5593",
   "metadata": {},
   "source": [
    "This indicates that the X approximates the orthogonal basis for the dominant eigenspace of A which is contained in the top rows of Z.  "
   ]
  },
  {
   "cell_type": "code",
   "execution_count": null,
   "id": "8a18dbcf-0538-49ed-b736-966c99e2863f",
   "metadata": {},
   "outputs": [],
   "source": []
  }
 ],
 "metadata": {
  "kernelspec": {
   "display_name": "Julia 1.6.3",
   "language": "julia",
   "name": "julia-1.6"
  },
  "language_info": {
   "file_extension": ".jl",
   "mimetype": "application/julia",
   "name": "julia",
   "version": "1.6.3"
  }
 },
 "nbformat": 4,
 "nbformat_minor": 5
}
