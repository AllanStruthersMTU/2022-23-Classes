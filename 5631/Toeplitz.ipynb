{
 "cells": [
  {
   "cell_type": "markdown",
   "id": "8f6e1192-0441-48e2-a3a7-941302fea81f",
   "metadata": {
    "tags": []
   },
   "source": [
    "# Toeplitz Matrices: Fast multiplication and Solves\n",
    "\n",
    "There are a few special categories of matrices that have fast matrix multiplication and solves.  Julia has a package that gives very efficient\n",
    "tools for working with many of these. We are going to look at some classes that have fast Fast Fourier Transform (FFT) based operations.\n",
    "\n",
    "The package is called ToeplitzMatrices but it includes other related named matruix classes.\n",
    "\n",
    "When you first use a non-core package you need to load it "
   ]
  },
  {
   "cell_type": "code",
   "execution_count": 4,
   "id": "8bd567bf-4a0b-4bb6-bad5-1a7738a4f418",
   "metadata": {},
   "outputs": [
    {
     "ename": "LoadError",
     "evalue": "ArgumentError: Package ToeplitzMatrices not found in current path:\n- Run `import Pkg; Pkg.add(\"ToeplitzMatrices\")` to install the ToeplitzMatrices package.\n",
     "output_type": "error",
     "traceback": [
      "ArgumentError: Package ToeplitzMatrices not found in current path:\n- Run `import Pkg; Pkg.add(\"ToeplitzMatrices\")` to install the ToeplitzMatrices package.\n",
      "",
      "Stacktrace:",
      " [1] require(into::Module, mod::Symbol)",
      "   @ Base .\\loading.jl:893",
      " [2] eval",
      "   @ .\\boot.jl:360 [inlined]",
      " [3] include_string(mapexpr::typeof(REPL.softscope), mod::Module, code::String, filename::String)",
      "   @ Base .\\loading.jl:1116"
     ]
    }
   ],
   "source": [
    "using SparseArrays, LinearAlgebra, ToeplitzMatrices"
   ]
  },
  {
   "cell_type": "code",
   "execution_count": 5,
   "id": "4a07d741-361b-4929-8020-54f6a49e7162",
   "metadata": {},
   "outputs": [
    {
     "name": "stderr",
     "output_type": "stream",
     "text": [
      "\u001b[32m\u001b[1m   Resolving\u001b[22m\u001b[39m package versions...\n",
      "\u001b[32m\u001b[1m   Installed\u001b[22m\u001b[39m FFTW_jll ───────── v3.3.10+0\n",
      "\u001b[32m\u001b[1m   Installed\u001b[22m\u001b[39m IntelOpenMP_jll ── v2018.0.3+2\n",
      "\u001b[32m\u001b[1m   Installed\u001b[22m\u001b[39m MKL_jll ────────── v2022.1.0+0\n",
      "\u001b[32m\u001b[1m   Installed\u001b[22m\u001b[39m ToeplitzMatrices ─ v0.7.1\n",
      "\u001b[32m\u001b[1m   Installed\u001b[22m\u001b[39m FFTW ───────────── v1.5.0\n",
      "\u001b[32m\u001b[1m   Installed\u001b[22m\u001b[39m AbstractFFTs ───── v1.2.1\n",
      "\u001b[32m\u001b[1m   Installed\u001b[22m\u001b[39m Polynomials ────── v3.2.0\n",
      "\u001b[32m\u001b[1m   Installed\u001b[22m\u001b[39m DSP ────────────── v0.7.7\n",
      "\u001b[32m\u001b[1m    Updating\u001b[22m\u001b[39m `C:\\Users\\struther\\.julia\\environments\\v1.6\\Project.toml`\n",
      " \u001b[90m [c751599d] \u001b[39m\u001b[92m+ ToeplitzMatrices v0.7.1\u001b[39m\n",
      "\u001b[32m\u001b[1m    Updating\u001b[22m\u001b[39m `C:\\Users\\struther\\.julia\\environments\\v1.6\\Manifest.toml`\n",
      " \u001b[90m [621f4979] \u001b[39m\u001b[92m+ AbstractFFTs v1.2.1\u001b[39m\n",
      " \u001b[90m [717857b8] \u001b[39m\u001b[92m+ DSP v0.7.7\u001b[39m\n",
      " \u001b[90m [7a1cc6ca] \u001b[39m\u001b[92m+ FFTW v1.5.0\u001b[39m\n",
      " \u001b[90m [f27b6e38] \u001b[39m\u001b[92m+ Polynomials v3.2.0\u001b[39m\n",
      " \u001b[90m [c751599d] \u001b[39m\u001b[92m+ ToeplitzMatrices v0.7.1\u001b[39m\n",
      " \u001b[90m [f5851436] \u001b[39m\u001b[92m+ FFTW_jll v3.3.10+0\u001b[39m\n",
      " \u001b[90m [1d5cc7b8] \u001b[39m\u001b[92m+ IntelOpenMP_jll v2018.0.3+2\u001b[39m\n",
      " \u001b[90m [856f044c] \u001b[39m\u001b[92m+ MKL_jll v2022.1.0+0\u001b[39m\n",
      " \u001b[90m [4af54fe1] \u001b[39m\u001b[92m+ LazyArtifacts\u001b[39m\n",
      "\u001b[32m\u001b[1mPrecompiling\u001b[22m\u001b[39m project...\n",
      "\u001b[32m  ✓ \u001b[39m\u001b[90mFFTW_jll\u001b[39m\n",
      "\u001b[32m  ✓ \u001b[39m\u001b[90mAbstractFFTs\u001b[39m\n",
      "\u001b[32m  ✓ \u001b[39m\u001b[90mIntelOpenMP_jll\u001b[39m\n",
      "\u001b[32m  ✓ \u001b[39m\u001b[90mMKL_jll\u001b[39m\n",
      "\u001b[32m  ✓ \u001b[39m\u001b[90mPolynomials\u001b[39m\n",
      "\u001b[32m  ✓ \u001b[39m\u001b[90mFFTW\u001b[39m\n",
      "\u001b[32m  ✓ \u001b[39m\u001b[90mDSP\u001b[39m\n",
      "\u001b[32m  ✓ \u001b[39mToeplitzMatrices\n",
      "  8 dependencies successfully precompiled in 13 seconds (171 already precompiled)\n"
     ]
    }
   ],
   "source": [
    "import Pkg; Pkg.add(\"ToeplitzMatrices\")"
   ]
  },
  {
   "cell_type": "markdown",
   "id": "730848a0-f811-4d7a-87f9-dbe7f5730b41",
   "metadata": {},
   "source": [
    "We also need an FFT package!"
   ]
  },
  {
   "cell_type": "code",
   "execution_count": 8,
   "id": "218130ea-172d-4fbd-928a-5694dfefe2c1",
   "metadata": {},
   "outputs": [
    {
     "name": "stderr",
     "output_type": "stream",
     "text": [
      "\u001b[32m\u001b[1m   Resolving\u001b[22m\u001b[39m package versions...\n",
      "\u001b[32m\u001b[1m    Updating\u001b[22m\u001b[39m `C:\\Users\\struther\\.julia\\environments\\v1.6\\Project.toml`\n",
      " \u001b[90m [7a1cc6ca] \u001b[39m\u001b[92m+ FFTW v1.5.0\u001b[39m\n",
      "\u001b[32m\u001b[1m  No Changes\u001b[22m\u001b[39m to `C:\\Users\\struther\\.julia\\environments\\v1.6\\Manifest.toml`\n"
     ]
    }
   ],
   "source": [
    "import Pkg; Pkg.add(\"FFTW\")"
   ]
  },
  {
   "cell_type": "markdown",
   "id": "3967d8c8-fd90-41b4-b9db-84d08675a097",
   "metadata": {},
   "source": [
    "## Note on Packages\n",
    "Once you have added a package you say \"using\" just like any other package.  Packages you have installed persist in you Julia install. You do not need to reinstall them every time!\n",
    "\n",
    "## Note on ToeplitzMatrix Package\n",
    "The Toeplitz package has installed a bunch of types of matrices"
   ]
  },
  {
   "cell_type": "code",
   "execution_count": 14,
   "id": "77f32ef7-57de-4460-8bcb-e10d14e2df43",
   "metadata": {},
   "outputs": [
    {
     "data": {
      "text/plain": [
       "4×4 Toeplitz{Float64}:\n",
       "  7.0  -3.0   4.0  12.0\n",
       "  8.0   7.0  -3.0   4.0\n",
       "  9.0   8.0   7.0  -3.0\n",
       " 10.0   9.0   8.0   7.0"
      ]
     },
     "execution_count": 14,
     "metadata": {},
     "output_type": "execute_result"
    }
   ],
   "source": [
    "using  LinearAlgebra, ToeplitzMatrices, FFTW\n",
    "T= Toeplitz([7.,8,9,10],[7,-3,4,12])"
   ]
  },
  {
   "cell_type": "code",
   "execution_count": 15,
   "id": "f6a09d4c-3dae-460e-92b0-907bb0adc00a",
   "metadata": {},
   "outputs": [
    {
     "data": {
      "text/plain": [
       "5×5 SymmetricToeplitz{Float64}:\n",
       "  7.0   8.0  9.0  10.0  12.0\n",
       "  8.0   7.0  8.0   9.0  10.0\n",
       "  9.0   8.0  7.0   8.0   9.0\n",
       " 10.0   9.0  8.0   7.0   8.0\n",
       " 12.0  10.0  9.0   8.0   7.0"
      ]
     },
     "execution_count": 15,
     "metadata": {},
     "output_type": "execute_result"
    }
   ],
   "source": [
    "T= SymmetricToeplitz([7.0,8,9,10,12])"
   ]
  },
  {
   "cell_type": "code",
   "execution_count": 19,
   "id": "c818f2eb-26be-4eb9-b4fa-e56a3b4d83af",
   "metadata": {},
   "outputs": [
    {
     "data": {
      "text/plain": [
       "5×5 TriangularToeplitz{Float64}:\n",
       " 7.0  8.0  9.0  10.0  12.0\n",
       " 0.0  7.0  8.0   9.0  10.0\n",
       " 0.0  0.0  7.0   8.0   9.0\n",
       " 0.0  0.0  0.0   7.0   8.0\n",
       " 0.0  0.0  0.0   0.0   7.0"
      ]
     },
     "execution_count": 19,
     "metadata": {},
     "output_type": "execute_result"
    }
   ],
   "source": [
    "TriangularToeplitz([7.0,8,9,10,12],:U)   # U or L"
   ]
  },
  {
   "cell_type": "code",
   "execution_count": 24,
   "id": "235ddc1e-ac58-4ad0-a348-762a4e03e17a",
   "metadata": {},
   "outputs": [
    {
     "data": {
      "text/plain": [
       "4×4 Hankel{Float64}:\n",
       "  7.0   8.0   9.0  10.0\n",
       "  8.0   9.0  10.0  -3.0\n",
       "  9.0  10.0  -3.0   4.0\n",
       " 10.0  -3.0   4.0  19.0"
      ]
     },
     "execution_count": 24,
     "metadata": {},
     "output_type": "execute_result"
    }
   ],
   "source": [
    "T= Hankel([7.,8,9,10],[10,-3,4,19])"
   ]
  },
  {
   "cell_type": "code",
   "execution_count": 25,
   "id": "93a897a7-cdda-497b-b464-80233e4609ae",
   "metadata": {},
   "outputs": [
    {
     "data": {
      "text/plain": [
       "4×4 Circulant{Float64}:\n",
       "  7.0  10.0   9.0   8.0\n",
       "  8.0   7.0  10.0   9.0\n",
       "  9.0   8.0   7.0  10.0\n",
       " 10.0   9.0   8.0   7.0"
      ]
     },
     "execution_count": 25,
     "metadata": {},
     "output_type": "execute_result"
    }
   ],
   "source": [
    "T= Circulant([7.,8,9,10])"
   ]
  },
  {
   "cell_type": "markdown",
   "id": "8baba9bf-6669-4257-8b53-8c7ce91b22b0",
   "metadata": {},
   "source": [
    "To time things we need larger matrices. "
   ]
  },
  {
   "cell_type": "code",
   "execution_count": 43,
   "id": "e77edb0d-c6dd-420c-845f-7735764e4004",
   "metadata": {},
   "outputs": [
    {
     "name": "stdout",
     "output_type": "stream",
     "text": [
      "  0.000167 seconds (63 allocations: 33.250 KiB)\n",
      "  0.000312 seconds (1 allocation: 4.125 KiB)\n",
      "  0.000082 seconds (63 allocations: 33.250 KiB)\n",
      "  0.008200 seconds (4 allocations: 2.008 MiB)\n"
     ]
    }
   ],
   "source": [
    "m=512;\n",
    "t=rand(m); x= rand(m)\n",
    "T=Circulant(t); TMat = Matrix(T)\n",
    "@time b1=T*x\n",
    "@time b2=TMat*x\n",
    "@time x1=T\\b1\n",
    "@time x2=TMat\\b2;"
   ]
  },
  {
   "cell_type": "markdown",
   "id": "91af10da-7664-4d03-b5a1-c03730ed5056",
   "metadata": {
    "tags": []
   },
   "source": [
    "# Questions\n",
    "\n",
    "## How does it do this magic?\n",
    "\n",
    "## How can I use this magic?\n",
    "\n",
    "## When should I use this magic?\n",
    "\n",
    "## Are there Block Analogues? "
   ]
  },
  {
   "cell_type": "code",
   "execution_count": null,
   "id": "d9e34d21-1642-4385-b8e5-662945da6f7c",
   "metadata": {},
   "outputs": [],
   "source": []
  }
 ],
 "metadata": {
  "kernelspec": {
   "display_name": "Julia 1.6.3",
   "language": "julia",
   "name": "julia-1.6"
  },
  "language_info": {
   "file_extension": ".jl",
   "mimetype": "application/julia",
   "name": "julia",
   "version": "1.6.3"
  }
 },
 "nbformat": 4,
 "nbformat_minor": 5
}
