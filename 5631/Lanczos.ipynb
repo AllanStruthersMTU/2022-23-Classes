{
 "cells": [
  {
   "cell_type": "markdown",
   "id": "7b756372-dbf1-4c78-9003-cd8d725a560b",
   "metadata": {
    "tags": []
   },
   "source": [
    "# Re Check Arnoldi\n",
    "I am going to make sure I understand the output from Arnoldi.  I am going to use our stripey PDE matrix with a few extra non-zeros."
   ]
  },
  {
   "cell_type": "code",
   "execution_count": 30,
   "id": "5ba017b6-ffc3-4886-b49e-5a9bd0d3150a",
   "metadata": {},
   "outputs": [
    {
     "name": "stdout",
     "output_type": "stream",
     "text": [
      "  0.000027 seconds (3 allocations: 9.594 KiB)\n",
      "  0.000012 seconds (2 allocations: 9.594 KiB)\n",
      "  0.000016 seconds (2 allocations: 9.672 KiB)\n",
      "  0.000011 seconds (2 allocations: 9.578 KiB)\n",
      "  0.000013 seconds (2 allocations: 9.828 KiB)\n",
      "  0.000020 seconds (1 allocation: 9.500 KiB)\n",
      "  0.000016 seconds (2 allocations: 10.156 KiB)\n",
      "  0.000024 seconds (2 allocations: 9.641 KiB)\n",
      "  0.000019 seconds (1 allocation: 9.500 KiB)\n",
      "  0.000040 seconds (1 allocation: 9.500 KiB)\n",
      "  0.000037 seconds (2 allocations: 10.828 KiB)\n",
      "  0.000021 seconds (1 allocation: 9.500 KiB)\n",
      "  0.000018 seconds (1 allocation: 9.500 KiB)\n",
      "  0.000024 seconds (1 allocation: 9.500 KiB)\n",
      "  0.000033 seconds (1 allocation: 9.500 KiB)\n",
      "  0.000018 seconds (3 allocations: 12.328 KiB)\n",
      "  0.000018 seconds (1 allocation: 9.500 KiB)\n",
      "  0.000031 seconds (1 allocation: 9.500 KiB)\n",
      "  0.000019 seconds (1 allocation: 9.500 KiB)\n",
      "  0.000062 seconds (1 allocation: 9.500 KiB)\n",
      "  0.000034 seconds (1 allocation: 9.500 KiB)\n",
      "  0.000503 seconds (1 allocation: 9.500 KiB)\n",
      "  0.000226 seconds (2 allocations: 14.562 KiB)\n",
      "  0.000034 seconds (1 allocation: 9.500 KiB)\n",
      "  0.000024 seconds (1 allocation: 9.500 KiB)\n",
      "  0.000024 seconds (1 allocation: 9.500 KiB)\n",
      "  0.000028 seconds (1 allocation: 9.500 KiB)\n",
      "  0.000025 seconds (1 allocation: 9.500 KiB)\n",
      "  0.000026 seconds (1 allocation: 9.500 KiB)\n",
      "  0.000035 seconds (1 allocation: 9.500 KiB)\n",
      "  0.000027 seconds (1 allocation: 9.500 KiB)\n",
      "  0.000031 seconds (2 allocations: 10.031 KiB)\n",
      "  0.000031 seconds (1 allocation: 9.500 KiB)\n",
      "  0.000046 seconds (2 allocations: 19.562 KiB)\n",
      "  0.000028 seconds (1 allocation: 9.500 KiB)\n",
      "  0.000032 seconds (1 allocation: 9.500 KiB)\n",
      "  0.000031 seconds (1 allocation: 9.500 KiB)\n",
      "  0.000032 seconds (1 allocation: 9.500 KiB)\n",
      "  0.000249 seconds (1 allocation: 9.500 KiB)\n",
      "  0.000159 seconds (1 allocation: 9.500 KiB)\n",
      "  0.000143 seconds (1 allocation: 9.500 KiB)\n",
      "  0.000182 seconds (1 allocation: 9.500 KiB)\n",
      "  0.000131 seconds (1 allocation: 9.500 KiB)\n"
     ]
    }
   ],
   "source": [
    "using LinearAlgebra, KrylovKit, SparseArrays\n",
    "n=1200\n",
    "A=spzeros(n,n);\n",
    "for i in 2:n\n",
    "    A[i,i]=-2.0; A[i,i-1]=1.0; A[i-1,i]=1.0\n",
    "end\n",
    "A[1,n]=A[n,1]=1.0;A[1,1]=-2.0\n",
    "A[4,5]=A[5,4]=-5.0\n",
    "v=rand(n)\n",
    "\n",
    "k=44;\n",
    "iterator = ArnoldiIterator(A, v)\n",
    "factorization = initialize(iterator)\n",
    "for i in 1:k-1\n",
    "@time expand!(iterator, factorization)\n",
    "end\n",
    "\n",
    "\n",
    "(VInt, H, res, normRes, b) = factorization\n",
    "\n",
    "V=zeros(n,k); Idk = Matrix(1.0I,k,k)\n",
    "v=zeros(n)\n",
    "for i in 1:k\n",
    "    V[:,i]=KrylovKit.unproject!(v,VInt,Idk[:,i])\n",
    "end"
   ]
  },
  {
   "cell_type": "markdown",
   "id": "cc5d230d-fe9c-4e4b-b302-4b73faa00281",
   "metadata": {},
   "source": [
    "# Checking the output!"
   ]
  },
  {
   "cell_type": "markdown",
   "id": "535384c9-0021-4305-9247-ee154d0a3ab3",
   "metadata": {},
   "source": [
    "The \"Hessenberg Matrix\" H and the \"Orthonormal Basis\" V are stored in some funky format!  "
   ]
  },
  {
   "cell_type": "code",
   "execution_count": 7,
   "id": "9f3740db-7a51-4ead-b926-088085156d98",
   "metadata": {},
   "outputs": [
    {
     "data": {
      "text/plain": [
       "4×4 KrylovKit.PackedHessenberg{Float64, Vector{Float64}}:\n",
       " -0.649145   1.39562   7.89299e-17  -7.15573e-18\n",
       "  1.39562   -3.26867   1.98797      -1.73472e-17\n",
       "   ⋅         1.98797  -2.97307       4.30386\n",
       "   ⋅          ⋅        4.30386      -0.717615"
      ]
     },
     "execution_count": 7,
     "metadata": {},
     "output_type": "execute_result"
    }
   ],
   "source": [
    "H"
   ]
  },
  {
   "cell_type": "code",
   "execution_count": 9,
   "id": "84918316-3574-4e02-893d-3299e16456b2",
   "metadata": {},
   "outputs": [
    {
     "data": {
      "text/plain": [
       "KrylovKit.OrthonormalBasis{Vector{Float64}}([[0.08983825711983799, 0.09141342403883565, 0.007134438684786458, 0.02871004730575601, 0.11333120590567722, 0.11008366581493809, 0.006622536643451796, 0.0393622416214493, 0.10966427845770524, 0.04933308338987032  …  0.04851621073542553, 0.060771851553656664, 0.10434960498150948, 0.010112291936337647, 0.08171321606257434, 0.0743635684323047, 0.01232231138860188, 0.028619255733110544, 0.1537078763063814, 0.02182206313922496], [-0.005820380154682161, -0.018997803647114304, 0.07916642496072263, -0.42870317014334336, -0.13367626735391464, -0.02060265206236209, 0.10067230927596478, 0.045223146695498845, -0.04259430353499065, 0.07814874688092324  …  0.053922988760452595, 0.05071012601571133, -0.05021232385267749, 0.1235315872348259, -0.01856305395022511, -0.0045993361204265636, 0.0618631517562634, 0.09126419567842874, -0.1126354805999481, 0.15338587687784608], [0.0008170694430253, -0.03940392501060965, -0.17969201253091172, 0.08229434990684091, 0.9030099361428986, -0.10703198145761461, 0.07198173442481277, 0.03044137006393725, -0.04211090355072056, 0.005273318089374093  …  0.00998396502899073, -0.008435378274099702, -0.017652607586033913, 0.03713941932112728, -0.009385594388727507, -0.03335959972782761, 0.07442333689962273, 0.012610829445804139, -0.056723086556484704, 0.022980392143168993], [-0.0009428114665255604, -0.04169522096725659, -0.06722852425200483, -0.8741946279794972, 0.1454344590873779, 0.21185606916707309, -0.04802218774132025, -0.007065716638419686, 0.018451813657722114, -0.03506795227822387  …  -0.02980496774339931, -0.027112147755753338, 0.025871498164107512, -0.05494504895882867, 0.007330571017569886, 0.009693600190092942, -0.016569268521421966, -0.035191391586999264, 0.04747168722537989, -0.07864349903498602]])"
      ]
     },
     "execution_count": 9,
     "metadata": {},
     "output_type": "execute_result"
    }
   ],
   "source": [
    "VInt"
   ]
  },
  {
   "cell_type": "markdown",
   "id": "c914c54a-19d9-46e9-b9f3-f5c37d976aa2",
   "metadata": {},
   "source": [
    "You can convert the H to a normal format using Matrix."
   ]
  },
  {
   "cell_type": "code",
   "execution_count": 5,
   "id": "4645b97b-cfb9-4bb6-83e1-18f9d32c969e",
   "metadata": {},
   "outputs": [
    {
     "data": {
      "text/plain": [
       "4×4 Matrix{Float64}:\n",
       " -0.649145   1.39562   7.89299e-17  -7.15573e-18\n",
       "  1.39562   -3.26867   1.98797      -1.73472e-17\n",
       "  0.0        1.98797  -2.97307       4.30386\n",
       "  0.0        0.0       4.30386      -0.717615"
      ]
     },
     "execution_count": 5,
     "metadata": {},
     "output_type": "execute_result"
    }
   ],
   "source": [
    "Matrix(H)"
   ]
  },
  {
   "cell_type": "markdown",
   "id": "5b3b5436-91a1-41f0-99d1-9d4b403d4414",
   "metadata": {},
   "source": [
    "You can not convert the basis to a matrix using matrix.  You need to use the trick up above."
   ]
  },
  {
   "cell_type": "code",
   "execution_count": 12,
   "id": "711c7144-e1f0-4026-b473-99c279755af3",
   "metadata": {},
   "outputs": [
    {
     "ename": "LoadError",
     "evalue": "MethodError: no method matching (Matrix{T} where T)(::KrylovKit.OrthonormalBasis{Vector{Float64}})\n\u001b[0mClosest candidates are:\n\u001b[0m  (Matrix{T} where T)(\u001b[91m::Union{QR, LinearAlgebra.QRCompactWY}\u001b[39m) at C:\\buildbot\\worker\\package_win64\\build\\usr\\share\\julia\\stdlib\\v1.6\\LinearAlgebra\\src\\qr.jl:434\n\u001b[0m  (Matrix{T} where T)(\u001b[91m::QRPivoted\u001b[39m) at C:\\buildbot\\worker\\package_win64\\build\\usr\\share\\julia\\stdlib\\v1.6\\LinearAlgebra\\src\\qr.jl:441\n\u001b[0m  (Matrix{T} where T)(\u001b[91m::SuiteSparse.CHOLMOD.Dense{T}\u001b[39m) where T at C:\\buildbot\\worker\\package_win64\\build\\usr\\share\\julia\\stdlib\\v1.6\\SuiteSparse\\src\\cholmod.jl:990\n\u001b[0m  ...",
     "output_type": "error",
     "traceback": [
      "MethodError: no method matching (Matrix{T} where T)(::KrylovKit.OrthonormalBasis{Vector{Float64}})\n\u001b[0mClosest candidates are:\n\u001b[0m  (Matrix{T} where T)(\u001b[91m::Union{QR, LinearAlgebra.QRCompactWY}\u001b[39m) at C:\\buildbot\\worker\\package_win64\\build\\usr\\share\\julia\\stdlib\\v1.6\\LinearAlgebra\\src\\qr.jl:434\n\u001b[0m  (Matrix{T} where T)(\u001b[91m::QRPivoted\u001b[39m) at C:\\buildbot\\worker\\package_win64\\build\\usr\\share\\julia\\stdlib\\v1.6\\LinearAlgebra\\src\\qr.jl:441\n\u001b[0m  (Matrix{T} where T)(\u001b[91m::SuiteSparse.CHOLMOD.Dense{T}\u001b[39m) where T at C:\\buildbot\\worker\\package_win64\\build\\usr\\share\\julia\\stdlib\\v1.6\\SuiteSparse\\src\\cholmod.jl:990\n\u001b[0m  ...",
      "",
      "Stacktrace:",
      " [1] top-level scope",
      "   @ In[12]:1",
      " [2] eval",
      "   @ .\\boot.jl:360 [inlined]",
      " [3] include_string(mapexpr::typeof(REPL.softscope), mod::Module, code::String, filename::String)",
      "   @ Base .\\loading.jl:1116"
     ]
    }
   ],
   "source": [
    "Matrix(VInt)"
   ]
  },
  {
   "cell_type": "markdown",
   "id": "6fa6a3cd-9cbc-4dc5-b63c-add48935342f",
   "metadata": {},
   "source": [
    "The question last week was: How in the heck are they stored and why are they stored that way?  Lets see if we can work out the how for H using the  documentation\n",
    "https://jutho.github.io/KrylovKit.jl/latest/man/implementation/"
   ]
  },
  {
   "cell_type": "code",
   "execution_count": 18,
   "id": "346115d3-3e93-4511-a53c-b96626e64dec",
   "metadata": {},
   "outputs": [
    {
     "data": {
      "text/plain": [
       "4×4 KrylovKit.PackedHessenberg{Float64, Vector{Float64}}:\n",
       " -0.649145   1.39562   7.89299e-17  -7.15573e-18\n",
       "  1.39562   -3.26867   1.98797      -1.73472e-17\n",
       "   ⋅         1.98797  -2.97307       4.30386\n",
       "   ⋅          ⋅        4.30386      -0.717615"
      ]
     },
     "execution_count": 18,
     "metadata": {},
     "output_type": "execute_result"
    }
   ],
   "source": [
    "H"
   ]
  },
  {
   "cell_type": "code",
   "execution_count": 26,
   "id": "8d039fc7-1792-44df-9de8-67422eac89f7",
   "metadata": {},
   "outputs": [
    {
     "data": {
      "text/plain": [
       "14-element Vector{Float64}:\n",
       " -0.6491445535952282\n",
       "  1.395615326131287\n",
       "  1.3956153261312874\n",
       " -3.2686655553495525\n",
       "  1.9879692160106683\n",
       "  7.892991815694472e-17\n",
       "  1.9879692160106683\n",
       " -2.9730674767799607\n",
       "  4.3038642795977\n",
       " -7.15573433840433e-18\n",
       " -1.734723475976807e-17\n",
       "  4.303864279597698\n",
       " -0.7176145213985711\n",
       "  1.6777589676245104"
      ]
     },
     "execution_count": 26,
     "metadata": {},
     "output_type": "execute_result"
    }
   ],
   "source": [
    "H.data"
   ]
  },
  {
   "cell_type": "markdown",
   "id": "a1a4da9d-faa5-4c1f-8511-7001dffb3c7b",
   "metadata": {},
   "source": [
    "# Lanczos Version\n",
    "Lets see if the Lanczos version is lighter weight. "
   ]
  },
  {
   "cell_type": "code",
   "execution_count": 32,
   "id": "712e9b34-4cfc-41a7-99d1-7c586a6b5302",
   "metadata": {},
   "outputs": [
    {
     "name": "stdout",
     "output_type": "stream",
     "text": [
      "  0.000032 seconds (4 allocations: 9.641 KiB)\n",
      "  0.000015 seconds (1 allocation: 9.500 KiB)\n",
      "  0.000010 seconds (1 allocation: 9.500 KiB)\n"
     ]
    }
   ],
   "source": [
    "k=4;\n",
    "iterator = LanczosIterator(A, v)\n",
    "factorization = initialize(iterator)\n",
    "for i in 1:k-1\n",
    "@time expand!(iterator, factorization)\n",
    "end\n",
    "\n",
    "(VInt, T, res, normRes, b) = factorization\n",
    "\n",
    "V=zeros(n,k); Idk = Matrix(1.0I,k,k)\n",
    "v=zeros(n)\n",
    "for i in 1:k\n",
    "    V[:,i]=KrylovKit.unproject!(v,VInt,Idk[:,i])\n",
    "end"
   ]
  },
  {
   "cell_type": "code",
   "execution_count": 33,
   "id": "a3086d09-18de-4cb6-83a8-9df10bfa61f0",
   "metadata": {},
   "outputs": [
    {
     "data": {
      "text/plain": [
       "4×4 SymTridiagonal{Float64, Vector{Float64}}:\n",
       " -1.9862    1.41901    ⋅         ⋅ \n",
       "  1.41901  -1.99878   1.00525    ⋅ \n",
       "   ⋅        1.00525  -2.00537   1.21279\n",
       "   ⋅         ⋅        1.21279  -2.00907"
      ]
     },
     "execution_count": 33,
     "metadata": {},
     "output_type": "execute_result"
    }
   ],
   "source": [
    "T"
   ]
  },
  {
   "cell_type": "code",
   "execution_count": 42,
   "id": "7265ee5f-c1da-457e-b86a-388577c655b5",
   "metadata": {},
   "outputs": [
    {
     "data": {
      "text/plain": [
       "12-element SparseVector{Float64, Int64} with 8 stored entries:\n",
       "  [1 ]  =  -1.9862\n",
       "  [2 ]  =  1.41901\n",
       "  [5 ]  =  1.41901\n",
       "  [6 ]  =  -1.99878\n",
       "  [7 ]  =  1.00525\n",
       "  [10]  =  1.00525\n",
       "  [11]  =  -2.00537\n",
       "  [12]  =  1.21279"
      ]
     },
     "execution_count": 42,
     "metadata": {},
     "output_type": "execute_result"
    }
   ],
   "source": [
    "T[1:12]"
   ]
  },
  {
   "cell_type": "code",
   "execution_count": 46,
   "id": "c7da8ed4-79e4-4b12-8c98-bbfc62fa2db1",
   "metadata": {},
   "outputs": [
    {
     "data": {
      "text/plain": [
       "(:dv, :ev)"
      ]
     },
     "execution_count": 46,
     "metadata": {},
     "output_type": "execute_result"
    }
   ],
   "source": [
    "fieldnames(SymTridiagonal)"
   ]
  },
  {
   "cell_type": "code",
   "execution_count": 50,
   "id": "9f1dc041-2c64-4d49-9c82-68bd68c4ba6e",
   "metadata": {},
   "outputs": [
    {
     "data": {
      "text/plain": [
       "(AbstractVector{T} where T, AbstractVector{T} where T)"
      ]
     },
     "execution_count": 50,
     "metadata": {},
     "output_type": "execute_result"
    }
   ],
   "source": [
    "fieldtypes(SymTridiagonal)"
   ]
  },
  {
   "cell_type": "markdown",
   "id": "75304443-f749-45d8-a0af-1494492ae6af",
   "metadata": {},
   "source": [
    "Hit tab to see what will auto complete! "
   ]
  },
  {
   "cell_type": "code",
   "execution_count": 49,
   "id": "13f8c8ba-93f5-48ad-9891-67f49288dd4b",
   "metadata": {},
   "outputs": [
    {
     "data": {
      "text/plain": [
       "4-element Vector{Float64}:\n",
       " 1.4190109646396867\n",
       " 1.0052529354598954\n",
       " 1.2127885589649672\n",
       " 0.7215560812472576"
      ]
     },
     "execution_count": 49,
     "metadata": {},
     "output_type": "execute_result"
    }
   ],
   "source": [
    "T."
   ]
  },
  {
   "cell_type": "code",
   "execution_count": null,
   "id": "263ac6b1-d1d4-4011-8916-466f5031807e",
   "metadata": {},
   "outputs": [],
   "source": []
  }
 ],
 "metadata": {
  "kernelspec": {
   "display_name": "Julia 1.6.3",
   "language": "julia",
   "name": "julia-1.6"
  },
  "language_info": {
   "file_extension": ".jl",
   "mimetype": "application/julia",
   "name": "julia",
   "version": "1.6.3"
  }
 },
 "nbformat": 4,
 "nbformat_minor": 5
}
