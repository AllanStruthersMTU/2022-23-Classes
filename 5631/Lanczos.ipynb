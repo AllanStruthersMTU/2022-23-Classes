{
 "cells": [
  {
   "cell_type": "markdown",
   "id": "7b756372-dbf1-4c78-9003-cd8d725a560b",
   "metadata": {
    "tags": []
   },
   "source": [
    "# Re Check Arnoldi\n",
    "I am going to make sure I understand the output from Arnoldi.  I am going to use our stripey PDE matrix with a few extra non-zeros."
   ]
  },
  {
   "cell_type": "code",
   "execution_count": 14,
   "id": "5ba017b6-ffc3-4886-b49e-5a9bd0d3150a",
   "metadata": {},
   "outputs": [
    {
     "name": "stdout",
     "output_type": "stream",
     "text": [
      "  0.000014 seconds (3 allocations: 1.156 KiB)\n",
      "  0.000011 seconds (2 allocations: 1.156 KiB)\n",
      "  0.000015 seconds (2 allocations: 1.234 KiB)\n",
      "  0.000012 seconds (2 allocations: 1.141 KiB)\n",
      "  0.000010 seconds (2 allocations: 1.391 KiB)\n",
      "  0.000009 seconds (1 allocation: 1.062 KiB)\n",
      "  0.000020 seconds (2 allocations: 1.719 KiB)\n",
      "  0.000023 seconds (2 allocations: 1.203 KiB)\n",
      "  0.000020 seconds (1 allocation: 1.062 KiB)\n",
      "  0.000022 seconds (1 allocation: 1.062 KiB)\n",
      "  0.000028 seconds (2 allocations: 2.391 KiB)\n",
      "  0.000037 seconds (1 allocation: 1.062 KiB)\n",
      "  0.000039 seconds (1 allocation: 1.062 KiB)\n",
      "  0.000035 seconds (1 allocation: 1.062 KiB)\n",
      "  0.000045 seconds (1 allocation: 1.062 KiB)\n",
      "  0.000045 seconds (3 allocations: 3.891 KiB)\n",
      "  0.000029 seconds (1 allocation: 1.062 KiB)\n",
      "  0.000038 seconds (1 allocation: 1.062 KiB)\n",
      "  0.000037 seconds (1 allocation: 1.062 KiB)\n",
      "  0.000038 seconds (1 allocation: 1.062 KiB)\n",
      "  0.000054 seconds (1 allocation: 1.062 KiB)\n",
      "  0.000038 seconds (1 allocation: 1.062 KiB)\n",
      "  0.000047 seconds (2 allocations: 6.125 KiB)\n"
     ]
    }
   ],
   "source": [
    "using LinearAlgebra, KrylovKit, SparseArrays\n",
    "n=123\n",
    "A=spzeros(n,n);\n",
    "for i in 2:n\n",
    "    A[i,i]=-2.0; A[i,i-1]=1.0; A[i-1,i]=1.0\n",
    "end\n",
    "A[1,n]=A[n,1]=1.0;A[1,1]=-2.0\n",
    "A[4,5]=A[5,4]=-5.0\n",
    "v=rand(n)\n",
    "\n",
    "k=24;\n",
    "iterator = ArnoldiIterator(A, v)\n",
    "factorization = initialize(iterator)\n",
    "for i in 1:k-1\n",
    "@time expand!(iterator, factorization)\n",
    "end\n",
    "\n",
    "\n",
    "(VInt, H, res, normRes, b) = factorization\n",
    "\n",
    "V=zeros(n,k); Idk = Matrix(1.0I,k,k)\n",
    "v=zeros(n)\n",
    "for i in 1:k\n",
    "    V[:,i]=KrylovKit.unproject!(v,VInt,Idk[:,i])\n",
    "end"
   ]
  },
  {
   "cell_type": "markdown",
   "id": "cc5d230d-fe9c-4e4b-b302-4b73faa00281",
   "metadata": {},
   "source": [
    "# Checking the output!"
   ]
  },
  {
   "cell_type": "markdown",
   "id": "535384c9-0021-4305-9247-ee154d0a3ab3",
   "metadata": {},
   "source": [
    "The \"Hessenberg Matrix\" H and the \"Orthonormal Basis\" V are stored in some funky format!  "
   ]
  },
  {
   "cell_type": "code",
   "execution_count": 4,
   "id": "9f3740db-7a51-4ead-b926-088085156d98",
   "metadata": {},
   "outputs": [
    {
     "data": {
      "text/plain": [
       "4×4 KrylovKit.PackedHessenberg{Float64, Vector{Float64}}:\n",
       " -0.538224   1.19174  -6.62448e-17   9.831e-17\n",
       "  1.19174   -3.05841   1.82896      -9.33769e-17\n",
       "   ⋅         1.82896  -2.23778       4.25725\n",
       "   ⋅          ⋅        4.25725      -1.67186"
      ]
     },
     "execution_count": 4,
     "metadata": {},
     "output_type": "execute_result"
    }
   ],
   "source": [
    "H"
   ]
  },
  {
   "cell_type": "code",
   "execution_count": 5,
   "id": "84918316-3574-4e02-893d-3299e16456b2",
   "metadata": {},
   "outputs": [
    {
     "data": {
      "text/plain": [
       "KrylovKit.OrthonormalBasis{Vector{Float64}}([[0.030043400693052547, 0.035246734226876734, 0.01977148706888059, 0.00999638600485033, 0.0850804516288017, 0.07398928690185987, 0.03447097859614454, 0.11368055442475661, 0.043544824062698384, 0.08494709198594323  …  0.12860098483549626, 0.10650686996226838, 0.0798684202651795, 0.0788972663004718, 0.0029165008806411917, 0.15279991769174936, 0.13988088273301427, 0.04860212823907761, 0.037728342800050635, 0.02964456508846018], [0.01760003241791088, -0.001433147123993222, 0.013712471236066375, -0.35263126791167265, -0.08421429979951826, 0.009562261073456467, 0.11519417447244427, -0.07397586294833985, 0.11325907927283228, 0.027040309415826497  …  0.008514630408678798, 0.04428855486874519, 0.05760876594482876, -0.027309066064669988, 0.19084259003123305, -0.0676004173953913, -0.002578115363383518, 0.0894190054649515, 0.01938040399764111, 0.02050625784219444], [0.0010373839359692708, -0.006675471918598616, -0.198535980187832, 0.027142976211574646, 0.8650797591136065, -0.025738751792397603, 0.008982451103402584, 0.008026149131122517, 0.011506462525007012, -0.011111275223381243  …  -0.055145930839600024, -0.007615981850826208, -0.009420129157005788, 0.06863073918255462, 0.056646590232755895, -0.03574796684693494, -0.08070790331182147, 0.029264336399646915, 0.04673456206443152, 0.012770095250879712], [-0.006071614486663825, -0.04614825822755452, -0.012171914391869319, -0.9096326536494056, 0.04657111649296159, 0.19976584258732621, -0.05314739802610288, 0.03704171791425109, -0.048739194668092435, -0.011910396047393235  …  -0.007024874192845787, -0.03461829037809187, -0.010943440385554821, 0.026658566527185075, -0.07110002908647596, 0.021393349872726144, -0.004923059246902397, -0.04476090139437945, 0.004157813189416325, 0.003124863928445503]])"
      ]
     },
     "execution_count": 5,
     "metadata": {},
     "output_type": "execute_result"
    }
   ],
   "source": [
    "VInt"
   ]
  },
  {
   "cell_type": "markdown",
   "id": "c914c54a-19d9-46e9-b9f3-f5c37d976aa2",
   "metadata": {},
   "source": [
    "You can convert the H to a normal format using Matrix."
   ]
  },
  {
   "cell_type": "code",
   "execution_count": 8,
   "id": "4645b97b-cfb9-4bb6-83e1-18f9d32c969e",
   "metadata": {},
   "outputs": [
    {
     "data": {
      "text/plain": [
       "4×4 Matrix{Float64}:\n",
       " -0.538224   1.19174  -6.62448e-17   9.831e-17\n",
       "  1.19174   -3.05841   1.82896      -9.33769e-17\n",
       "  0.0        1.82896  -2.23778       4.25725\n",
       "  0.0        0.0       4.25725      -1.67186"
      ]
     },
     "execution_count": 8,
     "metadata": {},
     "output_type": "execute_result"
    }
   ],
   "source": [
    "Matrix(H)"
   ]
  },
  {
   "cell_type": "markdown",
   "id": "5b3b5436-91a1-41f0-99d1-9d4b403d4414",
   "metadata": {},
   "source": [
    "You can not convert the basis to a matrix using matrix.  You need to use the trick up above."
   ]
  },
  {
   "cell_type": "code",
   "execution_count": 9,
   "id": "711c7144-e1f0-4026-b473-99c279755af3",
   "metadata": {},
   "outputs": [
    {
     "ename": "LoadError",
     "evalue": "MethodError: no method matching (Matrix{T} where T)(::KrylovKit.OrthonormalBasis{Vector{Float64}})\n\u001b[0mClosest candidates are:\n\u001b[0m  (Matrix{T} where T)(\u001b[91m::Union{QR, LinearAlgebra.QRCompactWY}\u001b[39m) at C:\\buildbot\\worker\\package_win64\\build\\usr\\share\\julia\\stdlib\\v1.6\\LinearAlgebra\\src\\qr.jl:434\n\u001b[0m  (Matrix{T} where T)(\u001b[91m::QRPivoted\u001b[39m) at C:\\buildbot\\worker\\package_win64\\build\\usr\\share\\julia\\stdlib\\v1.6\\LinearAlgebra\\src\\qr.jl:441\n\u001b[0m  (Matrix{T} where T)(\u001b[91m::SuiteSparse.CHOLMOD.Dense{T}\u001b[39m) where T at C:\\buildbot\\worker\\package_win64\\build\\usr\\share\\julia\\stdlib\\v1.6\\SuiteSparse\\src\\cholmod.jl:990\n\u001b[0m  ...",
     "output_type": "error",
     "traceback": [
      "MethodError: no method matching (Matrix{T} where T)(::KrylovKit.OrthonormalBasis{Vector{Float64}})\n\u001b[0mClosest candidates are:\n\u001b[0m  (Matrix{T} where T)(\u001b[91m::Union{QR, LinearAlgebra.QRCompactWY}\u001b[39m) at C:\\buildbot\\worker\\package_win64\\build\\usr\\share\\julia\\stdlib\\v1.6\\LinearAlgebra\\src\\qr.jl:434\n\u001b[0m  (Matrix{T} where T)(\u001b[91m::QRPivoted\u001b[39m) at C:\\buildbot\\worker\\package_win64\\build\\usr\\share\\julia\\stdlib\\v1.6\\LinearAlgebra\\src\\qr.jl:441\n\u001b[0m  (Matrix{T} where T)(\u001b[91m::SuiteSparse.CHOLMOD.Dense{T}\u001b[39m) where T at C:\\buildbot\\worker\\package_win64\\build\\usr\\share\\julia\\stdlib\\v1.6\\SuiteSparse\\src\\cholmod.jl:990\n\u001b[0m  ...",
      "",
      "Stacktrace:",
      " [1] top-level scope",
      "   @ In[9]:1",
      " [2] eval",
      "   @ .\\boot.jl:360 [inlined]",
      " [3] include_string(mapexpr::typeof(REPL.softscope), mod::Module, code::String, filename::String)",
      "   @ Base .\\loading.jl:1116"
     ]
    }
   ],
   "source": [
    "Matrix(VInt)"
   ]
  },
  {
   "cell_type": "markdown",
   "id": "6fa6a3cd-9cbc-4dc5-b63c-add48935342f",
   "metadata": {},
   "source": [
    "The question last week was: How in the heck are they stored and why are they stored that way?  Lets see if we can work out the how for H using the  documentation\n",
    "https://jutho.github.io/KrylovKit.jl/latest/man/implementation/"
   ]
  },
  {
   "cell_type": "code",
   "execution_count": 10,
   "id": "346115d3-3e93-4511-a53c-b96626e64dec",
   "metadata": {},
   "outputs": [
    {
     "data": {
      "text/plain": [
       "4×4 KrylovKit.PackedHessenberg{Float64, Vector{Float64}}:\n",
       " -0.538224   1.19174  -6.62448e-17   9.831e-17\n",
       "  1.19174   -3.05841   1.82896      -9.33769e-17\n",
       "   ⋅         1.82896  -2.23778       4.25725\n",
       "   ⋅          ⋅        4.25725      -1.67186"
      ]
     },
     "execution_count": 10,
     "metadata": {},
     "output_type": "execute_result"
    }
   ],
   "source": [
    "H"
   ]
  },
  {
   "cell_type": "code",
   "execution_count": 11,
   "id": "8d039fc7-1792-44df-9de8-67422eac89f7",
   "metadata": {},
   "outputs": [
    {
     "data": {
      "text/plain": [
       "14-element Vector{Float64}:\n",
       " -0.5382242814984691\n",
       "  1.1917356276955264\n",
       "  1.1917356276955264\n",
       " -3.058407654079403\n",
       "  1.8289552137201512\n",
       " -6.624475273886432e-17\n",
       "  1.8289552137201521\n",
       " -2.2377750217592514\n",
       "  4.257250487317393\n",
       "  9.831003199012311e-17\n",
       " -9.337691210531407e-17\n",
       "  4.257250487317392\n",
       " -1.6718645035063286\n",
       "  2.3779721799465205"
      ]
     },
     "execution_count": 11,
     "metadata": {},
     "output_type": "execute_result"
    }
   ],
   "source": [
    "H.data"
   ]
  },
  {
   "cell_type": "markdown",
   "id": "a1a4da9d-faa5-4c1f-8511-7001dffb3c7b",
   "metadata": {},
   "source": [
    "# Lanczos Version\n",
    "Lets see if the Lanczos version is lighter weight. "
   ]
  },
  {
   "cell_type": "code",
   "execution_count": 15,
   "id": "712e9b34-4cfc-41a7-99d1-7c586a6b5302",
   "metadata": {},
   "outputs": [
    {
     "name": "stdout",
     "output_type": "stream",
     "text": [
      "  0.000011 seconds (4 allocations: 1.203 KiB)\n",
      "  0.000009 seconds (1 allocation: 1.062 KiB)\n",
      "  0.000004 seconds (1 allocation: 1.062 KiB)\n",
      "  0.000023 seconds (4 allocations: 1.297 KiB)\n",
      "  0.000034 seconds (1 allocation: 1.062 KiB)\n",
      "  0.000010 seconds (1 allocation: 1.062 KiB)\n",
      "  0.000013 seconds (1 allocation: 1.062 KiB)\n",
      "  0.000019 seconds (4 allocations: 1.484 KiB)\n",
      "  0.000018 seconds (1 allocation: 1.062 KiB)\n",
      "  0.000010 seconds (1 allocation: 1.062 KiB)\n",
      "  0.000015 seconds (1 allocation: 1.062 KiB)\n",
      "  0.000023 seconds (1 allocation: 1.062 KiB)\n",
      "  0.000020 seconds (1 allocation: 1.062 KiB)\n",
      "  0.000010 seconds (1 allocation: 1.062 KiB)\n",
      "  0.000020 seconds (1 allocation: 1.062 KiB)\n",
      "  0.000015 seconds (4 allocations: 1.859 KiB)\n",
      "  0.000011 seconds (1 allocation: 1.062 KiB)\n",
      "  0.000026 seconds (1 allocation: 1.062 KiB)\n",
      "  0.000011 seconds (1 allocation: 1.062 KiB)\n",
      "  0.000012 seconds (1 allocation: 1.062 KiB)\n",
      "  0.000024 seconds (1 allocation: 1.062 KiB)\n",
      "  0.000021 seconds (1 allocation: 1.062 KiB)\n",
      "  0.000013 seconds (1 allocation: 1.062 KiB)\n",
      "  0.000012 seconds (1 allocation: 1.062 KiB)\n",
      "  0.000046 seconds (1 allocation: 1.062 KiB)\n",
      "  0.000046 seconds (1 allocation: 1.062 KiB)\n",
      "  0.000033 seconds (1 allocation: 1.062 KiB)\n",
      "  0.000037 seconds (1 allocation: 1.062 KiB)\n",
      "  0.000057 seconds (1 allocation: 1.062 KiB)\n",
      "  0.000037 seconds (1 allocation: 1.062 KiB)\n",
      "  0.000044 seconds (1 allocation: 1.062 KiB)\n",
      "  0.000036 seconds (4 allocations: 2.656 KiB)\n",
      "  0.000027 seconds (1 allocation: 1.062 KiB)\n",
      "  0.000038 seconds (1 allocation: 1.062 KiB)\n",
      "  0.000035 seconds (1 allocation: 1.062 KiB)\n",
      "  0.000052 seconds (1 allocation: 1.062 KiB)\n",
      "  0.000043 seconds (1 allocation: 1.062 KiB)\n",
      "  0.000040 seconds (1 allocation: 1.062 KiB)\n",
      "  0.000048 seconds (1 allocation: 1.062 KiB)\n",
      "  0.000056 seconds (1 allocation: 1.062 KiB)\n",
      "  0.000049 seconds (1 allocation: 1.062 KiB)\n",
      "  0.000029 seconds (1 allocation: 1.062 KiB)\n",
      "  0.000041 seconds (1 allocation: 1.062 KiB)\n"
     ]
    }
   ],
   "source": [
    "k=44;\n",
    "iterator = LanczosIterator(A, v)\n",
    "factorization = initialize(iterator)\n",
    "for i in 1:k-1\n",
    "@time expand!(iterator, factorization)\n",
    "end\n",
    "\n",
    "(VInt, T, res, normRes, b) = factorization\n",
    "\n",
    "V=zeros(n,k); Idk = Matrix(1.0I,k,k)\n",
    "v=zeros(n)\n",
    "for i in 1:k\n",
    "    V[:,i]=KrylovKit.unproject!(v,VInt,Idk[:,i])\n",
    "end"
   ]
  },
  {
   "cell_type": "code",
   "execution_count": 16,
   "id": "a3086d09-18de-4cb6-83a8-9df10bfa61f0",
   "metadata": {},
   "outputs": [
    {
     "data": {
      "text/plain": [
       "44×44 SymTridiagonal{Float64, Vector{Float64}}:\n",
       " -2.15164   1.45179     ⋅          ⋅        …    ⋅          ⋅          ⋅ \n",
       "  1.45179  -1.94997    0.930648    ⋅             ⋅          ⋅          ⋅ \n",
       "   ⋅        0.930648  -2.01787    1.07148        ⋅          ⋅          ⋅ \n",
       "   ⋅         ⋅         1.07148   -1.96987        ⋅          ⋅          ⋅ \n",
       "   ⋅         ⋅          ⋅         0.975095       ⋅          ⋅          ⋅ \n",
       "   ⋅         ⋅          ⋅          ⋅        …    ⋅          ⋅          ⋅ \n",
       "   ⋅         ⋅          ⋅          ⋅             ⋅          ⋅          ⋅ \n",
       "   ⋅         ⋅          ⋅          ⋅             ⋅          ⋅          ⋅ \n",
       "   ⋅         ⋅          ⋅          ⋅             ⋅          ⋅          ⋅ \n",
       "   ⋅         ⋅          ⋅          ⋅             ⋅          ⋅          ⋅ \n",
       "   ⋅         ⋅          ⋅          ⋅        …    ⋅          ⋅          ⋅ \n",
       "   ⋅         ⋅          ⋅          ⋅             ⋅          ⋅          ⋅ \n",
       "   ⋅         ⋅          ⋅          ⋅             ⋅          ⋅          ⋅ \n",
       "  ⋮                                         ⋱                        \n",
       "   ⋅         ⋅          ⋅          ⋅             ⋅          ⋅          ⋅ \n",
       "   ⋅         ⋅          ⋅          ⋅             ⋅          ⋅          ⋅ \n",
       "   ⋅         ⋅          ⋅          ⋅             ⋅          ⋅          ⋅ \n",
       "   ⋅         ⋅          ⋅          ⋅        …    ⋅          ⋅          ⋅ \n",
       "   ⋅         ⋅          ⋅          ⋅             ⋅          ⋅          ⋅ \n",
       "   ⋅         ⋅          ⋅          ⋅             ⋅          ⋅          ⋅ \n",
       "   ⋅         ⋅          ⋅          ⋅             ⋅          ⋅          ⋅ \n",
       "   ⋅         ⋅          ⋅          ⋅             ⋅          ⋅          ⋅ \n",
       "   ⋅         ⋅          ⋅          ⋅        …   1.02043     ⋅          ⋅ \n",
       "   ⋅         ⋅          ⋅          ⋅           -1.68713    0.968044    ⋅ \n",
       "   ⋅         ⋅          ⋅          ⋅            0.968044  -2.30383    1.00893\n",
       "   ⋅         ⋅          ⋅          ⋅             ⋅         1.00893   -1.751"
      ]
     },
     "execution_count": 16,
     "metadata": {},
     "output_type": "execute_result"
    }
   ],
   "source": [
    "T"
   ]
  },
  {
   "cell_type": "code",
   "execution_count": 18,
   "id": "7265ee5f-c1da-457e-b86a-388577c655b5",
   "metadata": {},
   "outputs": [
    {
     "data": {
      "text/plain": [
       "67-element SparseVector{Float64, Int64} with 5 stored entries:\n",
       "  [1 ]  =  -2.15164\n",
       "  [2 ]  =  1.45179\n",
       "  [45]  =  1.45179\n",
       "  [46]  =  -1.94997\n",
       "  [47]  =  0.930648"
      ]
     },
     "execution_count": 18,
     "metadata": {},
     "output_type": "execute_result"
    }
   ],
   "source": [
    "T[1:67]"
   ]
  },
  {
   "cell_type": "code",
   "execution_count": 19,
   "id": "c7da8ed4-79e4-4b12-8c98-bbfc62fa2db1",
   "metadata": {},
   "outputs": [
    {
     "data": {
      "text/plain": [
       "(:dv, :ev)"
      ]
     },
     "execution_count": 19,
     "metadata": {},
     "output_type": "execute_result"
    }
   ],
   "source": [
    "fieldnames(SymTridiagonal)"
   ]
  },
  {
   "cell_type": "code",
   "execution_count": 21,
   "id": "9f1dc041-2c64-4d49-9c82-68bd68c4ba6e",
   "metadata": {},
   "outputs": [
    {
     "data": {
      "text/plain": [
       "(AbstractVector{T} where T, AbstractVector{T} where T)"
      ]
     },
     "execution_count": 21,
     "metadata": {},
     "output_type": "execute_result"
    }
   ],
   "source": [
    "fieldtypes(SymTridiagonal)"
   ]
  },
  {
   "cell_type": "markdown",
   "id": "75304443-f749-45d8-a0af-1494492ae6af",
   "metadata": {},
   "source": [
    "Hit tab to see what will auto complete! "
   ]
  },
  {
   "cell_type": "code",
   "execution_count": 24,
   "id": "13f8c8ba-93f5-48ad-9891-67f49288dd4b",
   "metadata": {},
   "outputs": [
    {
     "data": {
      "text/plain": [
       "44-element Vector{Float64}:\n",
       " 1.4517863432296139\n",
       " 0.9306475118023718\n",
       " 1.0714811429115676\n",
       " 0.9750946384802397\n",
       " 1.0029577914602104\n",
       " 0.9689933621590465\n",
       " 0.9901759811073895\n",
       " 1.0062802710718244\n",
       " 1.012527126290215\n",
       " 0.9636531785447324\n",
       " 0.999480845606413\n",
       " 1.0016190901644226\n",
       " 1.0144996513303934\n",
       " ⋮\n",
       " 0.9967388989889141\n",
       " 1.075503716994485\n",
       " 0.8509002252397687\n",
       " 1.0535574095586977\n",
       " 1.0153517122755402\n",
       " 0.9156763272445044\n",
       " 1.103845168584392\n",
       " 0.8701894915447802\n",
       " 1.0204251482963664\n",
       " 0.9680444052034848\n",
       " 1.0089337365741942\n",
       " 0.9942296364025498"
      ]
     },
     "execution_count": 24,
     "metadata": {},
     "output_type": "execute_result"
    }
   ],
   "source": [
    "T.ev"
   ]
  },
  {
   "cell_type": "code",
   "execution_count": null,
   "id": "263ac6b1-d1d4-4011-8916-466f5031807e",
   "metadata": {},
   "outputs": [],
   "source": []
  }
 ],
 "metadata": {
  "kernelspec": {
   "display_name": "Julia 1.6.3",
   "language": "julia",
   "name": "julia-1.6"
  },
  "language_info": {
   "file_extension": ".jl",
   "mimetype": "application/julia",
   "name": "julia",
   "version": "1.6.3"
  }
 },
 "nbformat": 4,
 "nbformat_minor": 5
}
