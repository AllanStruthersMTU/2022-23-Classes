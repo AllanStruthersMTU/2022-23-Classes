{
 "cells": [
  {
   "cell_type": "markdown",
   "id": "8f6e1192-0441-48e2-a3a7-941302fea81f",
   "metadata": {
    "tags": []
   },
   "source": [
    "# Iterative Solvers and Sparse Matrices\n",
    "We are looking at the traditional sparse solvers in Chapter 3.  Largely because they are easy to implement and monitor the convergence of.\n",
    "\n",
    "We want to solve $A x=b$ and we split a matrix $A=L+D+U$ into Lower Triangular, Diagonal, and Upper \n",
    "Triangular parts so we want to solve $(L+D+U) x^k = b$ where we have written $x^k$ to remind us that \n",
    "our target is an iterative solver we hope to have $x_k \\rightarrow x^\\infty = A^{-1} b$.\n",
    "\n",
    "## Jacobi Iteration\n",
    "The Jacobi iteration moves all but the diagonal portion to the other right side while \"lagging\" the iteration \n",
    "on the right hand side i.e. $ D x^{k+1} = b -  U x^k -L x^k $ \n",
    "The Jacobi iteration is \n",
    "$$x^{k+1} = D^{-1} \\left( b -  (U+L) x^k \\right) $$\n",
    "\n",
    "## Gauss-Seidell Iteration\n",
    "The Gauss-Seidell iteration moves only the lower triangular portion to the right side while \"lagging\" the iteration \n",
    "$(D+U) x^{k+1} = b -L x^k $\n",
    "The GS iteration is \n",
    "$$ x^{k+1} = (D+U)^{-1} \\left( b -  L x^k \\right). $$\n",
    "\n",
    "## Reasonably Efficient Implementation in Julia\n",
    "These are both easy to implement in Julia.  We are going to look at some help to try to make sure we are as \n",
    "efficient as possible.  I am using our purely stripey matrix as an example. You should think what happens if\n",
    "with the periodic version including the extreme off-diagonals. "
   ]
  },
  {
   "cell_type": "code",
   "execution_count": 39,
   "id": "c05098ac-9544-47c3-8bd2-dfbe8f673291",
   "metadata": {},
   "outputs": [
    {
     "name": "stdout",
     "output_type": "stream",
     "text": [
      "  0.000049 seconds (67 allocations: 29.078 KiB)\n",
      "  0.000008 seconds (3 allocations: 528 bytes)\n"
     ]
    },
    {
     "data": {
      "text/plain": [
       "1"
      ]
     },
     "execution_count": 39,
     "metadata": {},
     "output_type": "execute_result"
    }
   ],
   "source": [
    "using SparseArrays, LinearAlgebra\n",
    "m=12; dia=-4.0;\n",
    "A = spzeros(m,m)\n",
    "for i in 2:m\n",
    "    A[i,i]=dia; A[i-1,i]=A[i,i-1]=1.0\n",
    "end\n",
    "A[1,1]=dia\n",
    "# A[m,1]=A[m,1]=1.0\n",
    "L=tril(A,-1); U=triu(A,1); D=tril(triu(A)) \n",
    "DU=D+U\n",
    "b=rand(m);x=rand(m)\n",
    "@time BackSlashx=A\\b\n",
    "@time x=DU\\(b-L*x)\n",
    "1"
   ]
  },
  {
   "cell_type": "markdown",
   "id": "91af10da-7664-4d03-b5a1-c03730ed5056",
   "metadata": {
    "tags": []
   },
   "source": [
    "# Questions\n",
    "\n",
    "## How Do I Implement J and GS Efficiently?\n",
    "\n",
    "## When Do J and GS make sense?\n",
    "\n",
    "## When Do J and GS Converge?\n",
    "\n",
    "## How Fast do J and GS Converge?\n",
    "\n",
    "## Are there Block Analogues? "
   ]
  },
  {
   "cell_type": "code",
   "execution_count": null,
   "id": "4f755bb2-fdaa-46b3-b403-e899f9ad9395",
   "metadata": {},
   "outputs": [],
   "source": []
  }
 ],
 "metadata": {
  "kernelspec": {
   "display_name": "Julia 1.6.3",
   "language": "julia",
   "name": "julia-1.6"
  },
  "language_info": {
   "file_extension": ".jl",
   "mimetype": "application/julia",
   "name": "julia",
   "version": "1.6.3"
  }
 },
 "nbformat": 4,
 "nbformat_minor": 5
}
