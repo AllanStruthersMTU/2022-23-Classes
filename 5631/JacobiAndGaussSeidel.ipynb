{
 "cells": [
  {
   "cell_type": "markdown",
   "id": "0b104b9e-5a45-4e41-bc01-6a8c0ea99417",
   "metadata": {},
   "source": [
    "# Iterative Solvers and Sparse Matrices"
   ]
  },
  {
   "cell_type": "markdown",
   "id": "8f6e1192-0441-48e2-a3a7-941302fea81f",
   "metadata": {
    "tags": []
   },
   "source": [
    "# Iterative Solvers and Sparse Matrices\n",
    "We are looking at the traditional sparse solvers in Chapter 3.  Largely because they are easy to implement and monitor the convergence of.\n",
    "\n",
    "We want to solve $A x=b$ and we split a matrix $A=L+D+U$ into Lower Triangular, Diagonal, and Upper \n",
    "Triangular parts so we want to solve $(L+D+U) x^k = b$ where we have written $x^k$ to remind us that \n",
    "our target is an iterative solver we hope to have $x_k \\rightarrow x^\\infty = A^{-1} b$.\n",
    "\n",
    "## Jacobi Iteration\n",
    "The Jacobi iteration moves all but the diagonal portion to the other right side while \"lagging\" the iteration \n",
    "on the right hand side i.e. \n",
    "$\n",
    "D x^{k+1) = b -  U x^k -L x^k \n",
    "$\n",
    "The Jacobi iteration is \n",
    "$$\n",
    "x^{k+1) = D^{-1} \\left( b -  (U+L) x^k \\right) \n",
    "$$\n",
    "\n",
    "## Gauss-Seidell Iteration\n",
    "The Gauss-Seidell iteration moves only the lower triangular portion to the right side while \"lagging\" the iteration \n",
    "$\n",
    "(D+U) x^{k+1) = b -L x^k \n",
    "$\n",
    "The GS iteration is \n",
    "$$\n",
    "x^{k+1) = (D+U)^{-1} \\left( b -  L x^k \\right). \n",
    "$$\n",
    "\n",
    "## Reasonably Efficient Implementation in Julia\n",
    "These are both easy to implement in Julia.  We are going to look at some help to try to make sure we are as \n",
    "efficient as possible.  I am using our purely stripey matrix as an example. You should think what happensif\n",
    "IO switch to the periodic version with the extreme off-diagonals. "
   ]
  },
  {
   "cell_type": "code",
   "execution_count": 36,
   "id": "c05098ac-9544-47c3-8bd2-dfbe8f673291",
   "metadata": {},
   "outputs": [
    {
     "name": "stdout",
     "output_type": "stream",
     "text": [
      "  0.000120 seconds (67 allocations: 156.758 KiB)\n",
      "  0.000010 seconds (3 allocations: 3.188 KiB)\n"
     ]
    },
    {
     "data": {
      "text/plain": [
       "1"
      ]
     },
     "execution_count": 36,
     "metadata": {},
     "output_type": "execute_result"
    }
   ],
   "source": [
    "using SparseArrays, LinearAlgebra\n",
    "m=124; dia=-4.0;\n",
    "A = spzeros(m,m)\n",
    "for i in 2:m\n",
    "    A[i,i]=dia; A[i-1,i]=A[i,i-1]=1.0\n",
    "end\n",
    "A[1,1]=dia\n",
    "A[m,1]=A[m,1]=1.0\n",
    "L=tril(A,-1); U=triu(A,1); D=tril(triu(A)) \n",
    "DU=D+U\n",
    "b=rand(m);x=rand(m)\n",
    "@time BackSlashx=A\\b\n",
    "@time x=DU\\(b-L*x)\n",
    "1"
   ]
  },
  {
   "cell_type": "markdown",
   "id": "9210e163-15a6-4a45-b6a9-8adb8d5b9a70",
   "metadata": {},
   "source": [
    "## Doing Things with Sparse Matrices"
   ]
  },
  {
   "cell_type": "markdown",
   "id": "d12cd3c0-8f24-4c3a-8cbd-c3450c7906ca",
   "metadata": {},
   "source": [
    "All you can really do with a native sparse matrix is blindingly fast multiplication! There are however quite a lot of things you can do with just multiplication. "
   ]
  },
  {
   "cell_type": "code",
   "execution_count": 74,
   "id": "aca2a6a3-b0b6-416f-9705-f74859d8c2eb",
   "metadata": {},
   "outputs": [
    {
     "data": {
      "text/plain": [
       "12×2 Matrix{Float64}:\n",
       "  0.0894609   0.0938673\n",
       " -0.174471   -0.182279\n",
       "  0.250668    0.260098\n",
       " -0.313895   -0.322801\n",
       "  0.360387    0.366744\n",
       " -0.387003   -0.389372\n",
       "  0.391514    0.389372\n",
       " -0.372887   -0.366744\n",
       "  0.331521    0.322801\n",
       " -0.269381   -0.260098\n",
       "  0.189985    0.182279\n",
       " -0.0982212  -0.0938673"
      ]
     },
     "execution_count": 74,
     "metadata": {},
     "output_type": "execute_result"
    }
   ],
   "source": [
    "x=rand(m)\n",
    "for i in 1:123\n",
    "    x=A*x\n",
    "    x=x/norm(x)\n",
    "end\n",
    " [x (eigen(Matrix(A)).vectors)[:,1]]"
   ]
  },
  {
   "cell_type": "markdown",
   "id": "d2904c6b-1ef0-4092-9b29-9c82dd3a60a9",
   "metadata": {},
   "source": [
    "## Jacobi Iteration\n",
    "Here is our first Iterative solver.  It is called the Jacobi iteration. "
   ]
  },
  {
   "cell_type": "code",
   "execution_count": 76,
   "id": "753687f9-4237-482b-ae7d-b31f8940373f",
   "metadata": {},
   "outputs": [
    {
     "data": {
      "text/plain": [
       "12×2 Matrix{Float64}:\n",
       " 0.879035    0.879035\n",
       " 0.478901    0.478901\n",
       " 0.00512292  0.00512292\n",
       " 0.611677    0.611677\n",
       " 0.900986    0.900986\n",
       " 0.893156    0.893156\n",
       " 0.274658    0.274658\n",
       " 0.931816    0.931816\n",
       " 0.992835    0.992835\n",
       " 0.721366    0.721366\n",
       " 0.621596    0.621596\n",
       " 0.619942    0.619942"
      ]
     },
     "execution_count": 76,
     "metadata": {},
     "output_type": "execute_result"
    }
   ],
   "source": [
    "x=rand(m); b=rand(m)\n",
    "Aoff=A+2.0*I\n",
    "for i in 1:1234\n",
    "    x = -0.5*(b-Aoff*x)\n",
    "end\n",
    "[A*x b]"
   ]
  },
  {
   "cell_type": "code",
   "execution_count": null,
   "id": "d1cd7298-703f-42ed-b1be-c62aec8914e0",
   "metadata": {},
   "outputs": [],
   "source": []
  }
 ],
 "metadata": {
  "kernelspec": {
   "display_name": "Julia 1.6.3",
   "language": "julia",
   "name": "julia-1.6"
  },
  "language_info": {
   "file_extension": ".jl",
   "mimetype": "application/julia",
   "name": "julia",
   "version": "1.6.3"
  }
 },
 "nbformat": 4,
 "nbformat_minor": 5
}
