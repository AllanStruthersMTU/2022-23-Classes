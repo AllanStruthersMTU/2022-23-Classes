{
 "cells": [
  {
   "cell_type": "markdown",
   "id": "7b756372-dbf1-4c78-9003-cd8d725a560b",
   "metadata": {},
   "source": [
    "# Test Matrices\n",
    "It would be nice to be able to make test matrices with *known* spectra so that we would\n",
    "know how well our algorithms will converge. \n",
    "\n",
    "Specifically we would like to make matrices of various sizes with specified *clustered* eigenvalues."
   ]
  },
  {
   "cell_type": "markdown",
   "id": "69a1b705-23ab-4b95-a13a-14500153cee7",
   "metadata": {
    "tags": []
   },
   "source": [
    "## General Hard Real Clusters"
   ]
  },
  {
   "cell_type": "code",
   "execution_count": null,
   "id": "e92c3f86-6815-48e6-9c95-7f9f0625472c",
   "metadata": {},
   "outputs": [],
   "source": []
  },
  {
   "cell_type": "code",
   "execution_count": 7,
   "id": "bf53d963-3962-4947-928a-3b806260c80d",
   "metadata": {},
   "outputs": [
    {
     "data": {
      "text/plain": [
       "12×12 Matrix{Float64}:\n",
       "  41.1908    25.4228     -57.0058   …  -2.77355   -42.7027   -17.3546\n",
       " -48.6986   -33.3808      84.0111       2.26847    63.0059    27.7606\n",
       "  29.3563    20.7515     -43.4907      -4.11665   -34.5113   -13.9205\n",
       "  15.0375    10.8639     -26.9078      -0.167718  -18.2191    -8.94847\n",
       "  -1.26239    0.0171286   -4.05969      2.465      -2.46768   -2.76984\n",
       " -43.1916   -31.9769      76.412    …   1.99706    54.818     25.1872\n",
       "   6.82486    6.70847    -15.0072      -1.65756   -11.6489    -4.86766\n",
       "  43.7331    31.4375     -73.6316      -2.63073   -55.38     -23.8656\n",
       " -13.0521    -9.82499     23.3189       1.97699    18.7798     8.05945\n",
       " -36.1333   -26.3259      56.1386      10.5219     43.1512    16.6702\n",
       "  42.0823    31.9231     -72.9894   …  -4.49766   -48.9861   -22.6002\n",
       " -99.8364   -70.6276     160.187       10.0822    121.222     52.2896"
      ]
     },
     "execution_count": 7,
     "metadata": {},
     "output_type": "execute_result"
    }
   ],
   "source": [
    "using LinearAlgebra;\n",
    "(n1,n2,n7)=(3,4,5)\n",
    "n=n1+n2+n7\n",
    "X = randn(n,n);\n",
    "Lambdas = [1.0*ones(n1); 2.0*ones(n2); 7.0*ones(n7)];\n",
    "A=X*diagm(Lambdas)*inv(X)"
   ]
  },
  {
   "cell_type": "markdown",
   "id": "8dc6a029-1a96-4165-9451-add5a6df25de",
   "metadata": {
    "tags": []
   },
   "source": [
    "## Symmetric Hard Real Clusters"
   ]
  },
  {
   "cell_type": "code",
   "execution_count": 6,
   "id": "5ba017b6-ffc3-4886-b49e-5a9bd0d3150a",
   "metadata": {},
   "outputs": [
    {
     "data": {
      "text/plain": [
       "12×12 Matrix{Float64}:\n",
       "  2.36327     0.228759  -0.806164   …  -0.825125    0.344257  -0.20235\n",
       "  0.228759    4.23845    0.21518       -0.172412    0.310035  -0.48282\n",
       " -0.806164    0.21518    4.10637        0.759221    1.18037   -0.745494\n",
       "  0.0442597  -1.01017    0.225364      -0.0460254   0.907965   1.53641\n",
       "  1.20608    -0.89042   -0.585432      -0.225977    1.47155    0.148607\n",
       " -0.288874    1.63096   -0.801211   …  -0.284164    0.839697   0.567472\n",
       " -1.25785    -1.60961   -0.0924787      0.457585    0.120271   0.499867\n",
       " -0.984405    0.542544   1.35854        0.598197    0.647366   0.436339\n",
       "  0.278302   -0.468579   0.17178       -0.0751751   0.546423  -1.73226\n",
       " -0.825125   -0.172412   0.759221       2.22146     0.302207  -0.189051\n",
       "  0.344257    0.310035   1.18037    …   0.302207    4.64519   -0.750351\n",
       " -0.20235    -0.48282   -0.745494      -0.189051   -0.750351   3.70035"
      ]
     },
     "execution_count": 6,
     "metadata": {},
     "output_type": "execute_result"
    }
   ],
   "source": [
    "using LinearAlgebra;\n",
    "(n1,n2,n7)=(3,4,5)\n",
    "n=n1+n2+n7\n",
    "Q = qr(randn(n,n)).Q;\n",
    "Lambdas = [1.0*ones(n1); 2.0*ones(n2); 7.0*ones(n7)];\n",
    "A=Q*diagm(Lambdas)*Q'"
   ]
  },
  {
   "cell_type": "markdown",
   "id": "f1d2267b-cd4f-4b7f-b5b4-1bc5dd2cb880",
   "metadata": {
    "tags": []
   },
   "source": [
    "## General Soft Real Clusters"
   ]
  },
  {
   "cell_type": "code",
   "execution_count": 18,
   "id": "505db829-8bc8-41d3-9a60-aa5a777530e3",
   "metadata": {},
   "outputs": [
    {
     "data": {
      "text/plain": [
       "12×12 Matrix{Float64}:\n",
       "  1.98642    0.796161   -0.0282474  …   1.27505   -0.362556    0.499207\n",
       " -1.69455    3.10738     0.302603       0.857239  -1.24971     3.91288\n",
       "  0.872017  -0.0628688   1.01144       -0.597284  -5.94831    -0.721657\n",
       "  1.69059   -0.0858435  -0.341319       7.20414   -2.77321    -2.1401\n",
       " -1.95715   -0.111778   -0.0848746     -2.40398    0.208994    1.47332\n",
       " -1.90921    0.938499    0.686032   …   3.1735    -0.841232    3.60879\n",
       "  1.23096   -0.17172    -1.36953       -1.25775   -0.108356   -1.2427\n",
       " -0.764146  -1.84981     0.751763       1.79147    1.25253    -2.19494\n",
       " -1.35708   -1.5586      0.744174      -0.924924   0.0718291  -0.770136\n",
       "  2.65804    1.97954    -0.641526       7.48958   -0.429164   -0.219691\n",
       "  1.46083    1.00712    -1.28457    …   1.20961    4.92828     0.254968\n",
       " -1.01059    3.03397    -0.272629       0.621352  -0.321311    7.09505"
      ]
     },
     "execution_count": 18,
     "metadata": {},
     "output_type": "execute_result"
    }
   ],
   "source": [
    "using LinearAlgebra, Random, Distributions\n",
    "Random.seed!(987654321)\n",
    "(n1,n2,n7)=(3,4,5)\n",
    "n=n1+n2+n7\n",
    "X = randn(n,n)\n",
    "d = Normal(1, 0.01)\n",
    "Lambdas = [1.0*rand(d,n1); 2.0*rand(d,n2); 7.0*rand(d,n7)]\n",
    "A=X*diagm(Lambdas)*inv(X)"
   ]
  },
  {
   "cell_type": "markdown",
   "id": "6f423e86-c6fa-40c1-b185-ba36da7dfd3a",
   "metadata": {},
   "source": [
    "## Complex Conjugate Eigenpairs\n",
    "To make a CC pair (a, b) and (a, -b) use the block \n",
    "     a b\n",
    "    -b a\n",
    "or as many copies as you want on the diagonal. "
   ]
  },
  {
   "cell_type": "code",
   "execution_count": 34,
   "id": "0f57bc0a-dca7-4cd7-a959-d26ee92c7166",
   "metadata": {},
   "outputs": [
    {
     "data": {
      "text/plain": [
       "10×10 Matrix{Float64}:\n",
       "  3.30792     0.503864   0.487193  …  -0.558308     2.52175    -0.0116936\n",
       " -1.30525     1.23398   -0.277292      0.00381626  -0.759534   -0.0536902\n",
       "  0.616552    0.176431   1.25219      -1.77058     -0.245075    0.376206\n",
       " -0.616232    2.30237   -0.379986      0.993051     0.466201   -1.55668\n",
       "  0.0232792   1.71107    1.61071      -0.342428    -1.04138     0.180757\n",
       " -1.5272      0.72073    0.399364  …   0.575745    -0.030672    2.75164\n",
       "  1.39418    -0.94509    0.950139     -0.0641761    0.0544401  -1.10642\n",
       "  0.0448852   0.124427   1.65919       1.11414     -0.966124    0.349154\n",
       "  1.09976     0.20374    1.00727       0.665473     2.54383    -0.178563\n",
       " -1.87638     0.342442  -0.728229     -0.203141    -1.27108     1.55843"
      ]
     },
     "execution_count": 34,
     "metadata": {},
     "output_type": "execute_result"
    }
   ],
   "source": [
    "using LinearAlgebra, Random, Distributions\n",
    "(n1,nBlock,n7)=(3,3,1)\n",
    "Block = [1.2 3.4;-3.4 1.2]\n",
    "n=n1+2*nBlock+n7\n",
    "Q = qr(randn(n,n)).Q;\n",
    "A = zeros(n,n);\n",
    "for i in 1:nBlock\n",
    "    A[2i-1:2i,2i-1:2i]=Block\n",
    "end\n",
    "for i in 2*nBlock+1:2*nBlock+n1\n",
    "    A[i,i]=1.0\n",
    "end\n",
    "for i in 2*nBlock+n1+1:n\n",
    "    A[i,i]=7.0\n",
    "end\n",
    "A=Q*A*Q'"
   ]
  }
 ],
 "metadata": {
  "kernelspec": {
   "display_name": "Julia 1.6.3",
   "language": "julia",
   "name": "julia-1.6"
  },
  "language_info": {
   "file_extension": ".jl",
   "mimetype": "application/julia",
   "name": "julia",
   "version": "1.6.3"
  }
 },
 "nbformat": 4,
 "nbformat_minor": 5
}
