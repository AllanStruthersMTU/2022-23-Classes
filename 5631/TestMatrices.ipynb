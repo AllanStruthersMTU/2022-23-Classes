{
 "cells": [
  {
   "cell_type": "markdown",
   "id": "7b756372-dbf1-4c78-9003-cd8d725a560b",
   "metadata": {},
   "source": [
    "# Test Matrices\n",
    "It would be nice to be able to make test matrices with *known* spectra so that we would\n",
    "know how well our algorithms will converge. \n",
    "\n",
    "Specifically we would like to make matrices of various sizes with specified *clustered* eigenvalues."
   ]
  },
  {
   "cell_type": "markdown",
   "id": "69a1b705-23ab-4b95-a13a-14500153cee7",
   "metadata": {
    "tags": []
   },
   "source": [
    "## General Hard Real Clusters"
   ]
  },
  {
   "cell_type": "code",
   "execution_count": 7,
   "id": "bf53d963-3962-4947-928a-3b806260c80d",
   "metadata": {},
   "outputs": [
    {
     "data": {
      "text/plain": [
       "12×12 Matrix{Float64}:\n",
       "  41.1908    25.4228     -57.0058   …  -2.77355   -42.7027   -17.3546\n",
       " -48.6986   -33.3808      84.0111       2.26847    63.0059    27.7606\n",
       "  29.3563    20.7515     -43.4907      -4.11665   -34.5113   -13.9205\n",
       "  15.0375    10.8639     -26.9078      -0.167718  -18.2191    -8.94847\n",
       "  -1.26239    0.0171286   -4.05969      2.465      -2.46768   -2.76984\n",
       " -43.1916   -31.9769      76.412    …   1.99706    54.818     25.1872\n",
       "   6.82486    6.70847    -15.0072      -1.65756   -11.6489    -4.86766\n",
       "  43.7331    31.4375     -73.6316      -2.63073   -55.38     -23.8656\n",
       " -13.0521    -9.82499     23.3189       1.97699    18.7798     8.05945\n",
       " -36.1333   -26.3259      56.1386      10.5219     43.1512    16.6702\n",
       "  42.0823    31.9231     -72.9894   …  -4.49766   -48.9861   -22.6002\n",
       " -99.8364   -70.6276     160.187       10.0822    121.222     52.2896"
      ]
     },
     "execution_count": 7,
     "metadata": {},
     "output_type": "execute_result"
    }
   ],
   "source": [
    "using LinearAlgebra;\n",
    "(n1,n2,n7)=(3,4,5)\n",
    "n=n1+n2+n7\n",
    "X = randn(n,n);\n",
    "Lambdas = [1.0*ones(n1); 2.0*ones(n2); 7.0*ones(n7)];\n",
    "A=X*diagm(Lambdas)*inv(X)"
   ]
  },
  {
   "cell_type": "markdown",
   "id": "8dc6a029-1a96-4165-9451-add5a6df25de",
   "metadata": {
    "tags": []
   },
   "source": [
    "## Symmetric Hard Real Clusters"
   ]
  },
  {
   "cell_type": "code",
   "execution_count": 1,
   "id": "5ba017b6-ffc3-4886-b49e-5a9bd0d3150a",
   "metadata": {},
   "outputs": [
    {
     "data": {
      "text/plain": [
       "12×12 Matrix{Float64}:\n",
       "  3.05603    -0.0669122  -1.11048    …   0.278106   -0.11762    0.796008\n",
       " -0.0669122   3.98774     0.910679       0.905267    0.364217   0.16879\n",
       " -1.11048     0.910679    5.31378        0.0901222   0.352181   0.365568\n",
       " -0.925495    0.126408    0.0945181     -0.336196    1.01222    1.23675\n",
       "  1.00736     0.360628   -1.1274         0.29613     2.06939   -0.112961\n",
       " -0.554173    1.20661     0.195573   …   0.452463    0.586789  -0.985611\n",
       "  0.248229   -0.355737   -0.370693       0.140431   -0.259293   0.256824\n",
       "  0.623601    1.66658    -0.833527       0.845311   -0.938512   0.184004\n",
       " -0.585568   -0.56159    -1.19825       -0.848303   -0.406292  -0.256628\n",
       "  0.278106    0.905267    0.0901222      2.21072     0.378416   0.0214266\n",
       " -0.11762     0.364217    0.352181   …   0.378416    4.2821    -0.360694\n",
       "  0.796008    0.16879     0.365568       0.0214266  -0.360694   6.23955"
      ]
     },
     "execution_count": 1,
     "metadata": {},
     "output_type": "execute_result"
    }
   ],
   "source": [
    "using LinearAlgebra;\n",
    "(n1,n2,n7)=(3,4,5)\n",
    "n=n1+n2+n7\n",
    "Q = qr(randn(n,n)).Q;\n",
    "Lambdas = [1.0*ones(n1); 2.0*ones(n2); 7.0*ones(n7)];\n",
    "A=Q*diagm(Lambdas)*Q'"
   ]
  },
  {
   "cell_type": "markdown",
   "id": "f1d2267b-cd4f-4b7f-b5b4-1bc5dd2cb880",
   "metadata": {
    "tags": []
   },
   "source": [
    "## General Soft Real Clusters"
   ]
  },
  {
   "cell_type": "code",
   "execution_count": 14,
   "id": "505db829-8bc8-41d3-9a60-aa5a777530e3",
   "metadata": {},
   "outputs": [
    {
     "data": {
      "text/plain": [
       "12-element Vector{Float64}:\n",
       " 0.9998884368975044\n",
       " 1.0000151125048702\n",
       " 1.000149658922654\n",
       " 1.9998103162829837\n",
       " 1.9998322470965966\n",
       " 2.0000357723570907\n",
       " 2.0002682160685006\n",
       " 6.998999872900427\n",
       " 6.999064642745004\n",
       " 6.999412395569702\n",
       " 7.000264041692489\n",
       " 7.000908826447349"
      ]
     },
     "execution_count": 14,
     "metadata": {},
     "output_type": "execute_result"
    }
   ],
   "source": [
    "using LinearAlgebra, Random, Distributions\n",
    "Random.seed!(987654321)\n",
    "(n1,n2,n7)=(3,4,5)\n",
    "n=n1+n2+n7\n",
    "X = randn(n,n)\n",
    "d = Normal(1, 0.0001)\n",
    "Lambdas = [1.0*rand(d,n1); 2.0*rand(d,n2); 7.0*rand(d,n7)]\n",
    "A=X*diagm(Lambdas)*inv(X)\n",
    "eigen(A).values"
   ]
  },
  {
   "cell_type": "markdown",
   "id": "6f423e86-c6fa-40c1-b185-ba36da7dfd3a",
   "metadata": {},
   "source": [
    "## Complex Conjugate Eigenpairs\n",
    "To make a CC pair (a, b) and (a, -b) use the block \n",
    "     a b\n",
    "    -b a\n",
    "or as many copies as you want on the diagonal. "
   ]
  },
  {
   "cell_type": "code",
   "execution_count": 5,
   "id": "0f57bc0a-dca7-4cd7-a959-d26ee92c7166",
   "metadata": {},
   "outputs": [
    {
     "data": {
      "text/plain": [
       "10-element Vector{ComplexF64}:\n",
       " 0.9999999999999992 + 0.0im\n",
       " 0.9999999999999998 + 0.0im\n",
       " 1.0000000000000007 + 0.0im\n",
       " 1.1999999999999997 - 3.4000000000000004im\n",
       " 1.1999999999999997 - 3.399999999999999im\n",
       " 1.1999999999999997 + 3.399999999999999im\n",
       " 1.1999999999999997 + 3.4000000000000004im\n",
       "                1.2 - 3.4000000000000004im\n",
       "                1.2 + 3.4000000000000004im\n",
       " 6.9999999999999964 + 0.0im"
      ]
     },
     "execution_count": 5,
     "metadata": {},
     "output_type": "execute_result"
    }
   ],
   "source": [
    "using LinearAlgebra, Random, Distributions\n",
    "(n1,nBlock,n7)=(3,3,1)\n",
    "Block = [1.2 3.4;-3.4 1.2]\n",
    "n=n1+2*nBlock+n7\n",
    "Q = qr(randn(n,n)).Q;\n",
    "A = zeros(n,n);\n",
    "for i in 1:nBlock\n",
    "    A[2i-1:2i,2i-1:2i]=Block\n",
    "end\n",
    "for i in 2*nBlock+1:2*nBlock+n1\n",
    "    A[i,i]=1.0\n",
    "end\n",
    "for i in 2*nBlock+n1+1:n\n",
    "    A[i,i]=7.0\n",
    "end\n",
    "A=Q*A*Q'\n",
    "eigen(A).values"
   ]
  },
  {
   "cell_type": "code",
   "execution_count": null,
   "id": "ece572fc-8f45-4892-b997-a5eeaecaff1a",
   "metadata": {},
   "outputs": [],
   "source": []
  }
 ],
 "metadata": {
  "kernelspec": {
   "display_name": "Julia 1.6.3",
   "language": "julia",
   "name": "julia-1.6"
  },
  "language_info": {
   "file_extension": ".jl",
   "mimetype": "application/julia",
   "name": "julia",
   "version": "1.6.3"
  }
 },
 "nbformat": 4,
 "nbformat_minor": 5
}
