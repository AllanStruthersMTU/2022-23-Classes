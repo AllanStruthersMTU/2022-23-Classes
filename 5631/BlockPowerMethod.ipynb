{
 "cells": [
  {
   "cell_type": "markdown",
   "id": "7b756372-dbf1-4c78-9003-cd8d725a560b",
   "metadata": {},
   "source": [
    "# Block Power Method for Eigenvectors\n",
    "While trying to motivate the Arnoldi process to iteratively generate an orthogonal basis for a Krylov space $\\mathscr{K}_k(A,v)= \\mbox{span}\\left(v,A v,\\cdots,A^{k-1}v \\right)$ we talked about the Block Power Method to compute Invariant Spaces associated with the large eigenvalues of a matrix. \n",
    "\n",
    "## Simple Demonstration\n",
    "Making an out of place step. Running it a bunch and comparing the output  "
   ]
  },
  {
   "cell_type": "code",
   "execution_count": 56,
   "id": "37f5694b-5560-43de-87dc-b67164eb41db",
   "metadata": {},
   "outputs": [
    {
     "name": "stdout",
     "output_type": "stream",
     "text": [
      "  0.011325 seconds (17.17 k allocations: 1.120 MiB, 99.34% compilation time)\n",
      "  0.000084 seconds (9 allocations: 5.141 KiB)\n"
     ]
    },
    {
     "data": {
      "text/plain": [
       "3×6 Matrix{Float64}:\n",
       " 22.5504       -0.207519   0.419913  22.5504  0.401272   0.544347\n",
       "  7.30555e-16  -1.47835    0.801701   0.0     0.84797   -1.87517\n",
       " -6.28937e-16  -0.601673  -2.13427    0.0     1.30624    0.84797"
      ]
     },
     "execution_count": 56,
     "metadata": {},
     "output_type": "execute_result"
    }
   ],
   "source": [
    "using Plots, LinearAlgebra\n",
    "\n",
    "function PowerMethodStep(A,X)\n",
    "    b=size(X)[2]\n",
    "    I2 = Matrix(1.0I, b, b)\n",
    "    AX=A*X\n",
    "    (qr(AX).Q)*I2\n",
    "end\n",
    "\n",
    "# Creating a test problem\n",
    "(m,b)=(45,3); A=rand(m,m);\n",
    "X0 = rand(m,b);\n",
    "(T,Z)=schur(A);T=T[1:b,1:b];Z=Z[:,1:b]\n",
    "\n",
    "# Testing the Out of Place Function\n",
    "X=copy(X0);\n",
    "@time X = PowerMethodStep(A,X)\n",
    "@time X = PowerMethodStep(A,X)\n",
    "\n",
    "MaxIter=1000\n",
    "for k in 1:MaxIter\n",
    "    X = PowerMethodStep(A,X)\n",
    "end\n",
    "[X'*A*X T]"
   ]
  },
  {
   "cell_type": "markdown",
   "id": "ab3e28d9-1ddb-4c06-8e9c-4d16844f5593",
   "metadata": {},
   "source": [
    "This indicates that the X approximates the orthogonal basis for the dominant eigenspace of A which is contained in the top rows of Z.  "
   ]
  },
  {
   "cell_type": "code",
   "execution_count": null,
   "id": "8a18dbcf-0538-49ed-b736-966c99e2863f",
   "metadata": {},
   "outputs": [],
   "source": []
  }
 ],
 "metadata": {
  "kernelspec": {
   "display_name": "Julia 1.6.3",
   "language": "julia",
   "name": "julia-1.6"
  },
  "language_info": {
   "file_extension": ".jl",
   "mimetype": "application/julia",
   "name": "julia",
   "version": "1.6.3"
  }
 },
 "nbformat": 4,
 "nbformat_minor": 5
}
