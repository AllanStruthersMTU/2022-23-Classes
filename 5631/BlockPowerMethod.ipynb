{
 "cells": [
  {
   "cell_type": "markdown",
   "id": "7b756372-dbf1-4c78-9003-cd8d725a560b",
   "metadata": {},
   "source": [
    "# Block Power Method for Eigenvectors\n",
    "While trying to motivate the Arnoldi process to iteratively generate an orthogonal basis for a Krylov space $\\mathscr{K}_k(A,v)= \\mbox{span}\\left(v,A v,\\cdots,A^{k-1}v \\right)$ we talked about the Block Power Method to compute Invariant Spaces associated with the large eigenvalues of a matrix. \n",
    "\n",
    "## Simple Demonstration\n",
    "Making an out of place step. Running it a bunch and comparing the output  "
   ]
  },
  {
   "cell_type": "code",
   "execution_count": 4,
   "id": "37f5694b-5560-43de-87dc-b67164eb41db",
   "metadata": {},
   "outputs": [
    {
     "name": "stdout",
     "output_type": "stream",
     "text": [
      "  0.015361 seconds (17.17 k allocations: 1.119 MiB, 99.33% compilation time)\n",
      "  0.000071 seconds (9 allocations: 5.141 KiB)\n"
     ]
    },
    {
     "data": {
      "text/plain": [
       "3×6 Matrix{Float64}:\n",
       " 22.4553       -0.531046   0.231626  22.4553   0.574138   0.077626\n",
       " -2.02705e-15  -1.78785    0.835253   0.0     -1.90352    0.905487\n",
       " -4.36948e-16  -0.714981  -2.01919    0.0     -0.644747  -1.90352"
      ]
     },
     "execution_count": 4,
     "metadata": {},
     "output_type": "execute_result"
    }
   ],
   "source": [
    "using Plots, LinearAlgebra\n",
    "\n",
    "function PowerMethodStep(A,X)\n",
    "    b=size(X)[2]\n",
    "    Ib = Matrix(1.0I, b, b)\n",
    "    AX=A*X\n",
    "    (qr(AX).Q)*Ib\n",
    "end\n",
    "\n",
    "# Creating a test problem\n",
    "(m,b)=(45,3); A=rand(m,m);\n",
    "X0 = rand(m,b);\n",
    "(T,Z)=schur(A);T=T[1:b,1:b];Z=Z[:,1:b]\n",
    "\n",
    "# Testing the Out of Place Function\n",
    "X=copy(X0);\n",
    "@time X = PowerMethodStep(A,X)\n",
    "@time X = PowerMethodStep(A,X)\n",
    "\n",
    "MaxIter=1000\n",
    "for k in 1:MaxIter\n",
    "    X = PowerMethodStep(A,X)\n",
    "end\n",
    "[X'*A*X T]"
   ]
  },
  {
   "cell_type": "markdown",
   "id": "ab3e28d9-1ddb-4c06-8e9c-4d16844f5593",
   "metadata": {},
   "source": [
    "This indicates that the X approximates the orthogonal basis for the dominant eigenspace of A which is contained in the top rows of Z.  "
   ]
  },
  {
   "cell_type": "code",
   "execution_count": null,
   "id": "8a18dbcf-0538-49ed-b736-966c99e2863f",
   "metadata": {},
   "outputs": [],
   "source": []
  }
 ],
 "metadata": {
  "kernelspec": {
   "display_name": "Julia 1.6.3",
   "language": "julia",
   "name": "julia-1.6"
  },
  "language_info": {
   "file_extension": ".jl",
   "mimetype": "application/julia",
   "name": "julia",
   "version": "1.6.3"
  }
 },
 "nbformat": 4,
 "nbformat_minor": 5
}
