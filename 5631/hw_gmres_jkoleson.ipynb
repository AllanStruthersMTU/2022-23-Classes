{
 "cells": [
  {
   "cell_type": "markdown",
   "id": "190eb861-d6e3-4577-9e10-dc91b99224e7",
   "metadata": {},
   "source": [
    "Jonathan Oleson\n",
    "\n",
    "GMRES\n",
    "\n",
    "MA 5631, Advanced Numerical Linear Algebra, Dr. Allan Struthers\n",
    "\n",
    "Michigan Technological University"
   ]
  },
  {
   "cell_type": "markdown",
   "id": "240f6746-0e0c-416b-9b6f-c0daf8a6375f",
   "metadata": {},
   "source": [
    "Adapted from a notebook by Dr. Allan Struthers"
   ]
  },
  {
   "cell_type": "markdown",
   "id": "7b756372-dbf1-4c78-9003-cd8d725a560b",
   "metadata": {},
   "source": [
    "# Check Arnoldi\n",
    "Modify the code here to give a dimension 30 Krylov space for a 345-dimensional 1:-2:1 Dirichlet Laplacian matrix with one extra entry A[12,17]=1.3."
   ]
  },
  {
   "cell_type": "code",
   "execution_count": 55,
   "id": "9a00e33f-9776-4f1d-991e-672c5bd8d7e5",
   "metadata": {},
   "outputs": [],
   "source": [
    "using LinearAlgebra, KrylovKit, SparseArrays\n",
    "n=345\n",
    "A=spzeros(n,n);\n",
    "for i in 2:n\n",
    "    A[i,i]=-2.0; A[i,i-1]=1.0; A[i-1,i]=1.0\n",
    "end\n",
    "A[1,n]=A[n,1]=1.0;A[1,1]=-2.0\n",
    "A[12,17]=1.3\n",
    "v = rand(n)\n",
    "v1 = copy(v)\n",
    "\n",
    "k=30;"
   ]
  },
  {
   "cell_type": "code",
   "execution_count": 56,
   "id": "5ba017b6-ffc3-4886-b49e-5a9bd0d3150a",
   "metadata": {
    "tags": []
   },
   "outputs": [
    {
     "data": {
      "text/plain": [
       "arnoldi_jko (generic function with 1 method)"
      ]
     },
     "execution_count": 56,
     "metadata": {},
     "output_type": "execute_result"
    }
   ],
   "source": [
    "function arnoldi_jko(A, v, k)\n",
    "    n = length(v)\n",
    "    iterator = ArnoldiIterator(A, v)\n",
    "    factorization = initialize(iterator)\n",
    "    for i in 1:k-1\n",
    "        expand!(iterator, factorization)\n",
    "    end\n",
    "\n",
    "    (VInt, H, res, normRes, b) = factorization\n",
    "\n",
    "    V=zeros(n,k); Idk = Matrix(1.0I,k,k)\n",
    "    v=zeros(n)\n",
    "    for i in 1:k\n",
    "        V[:,i]=KrylovKit.unproject!(v,VInt,Idk[:,i])\n",
    "    end\n",
    "    return V, H, res, normRes, b\n",
    "end"
   ]
  },
  {
   "cell_type": "code",
   "execution_count": 57,
   "id": "b6597c02-6cc6-492d-ba05-44d0ee427712",
   "metadata": {},
   "outputs": [],
   "source": [
    "V1, H1, res1, normRes1, b1 = arnoldi_jko(A,v,k);"
   ]
  },
  {
   "cell_type": "code",
   "execution_count": 58,
   "id": "3e186524-75a9-422d-b097-0af2f468d990",
   "metadata": {},
   "outputs": [],
   "source": [
    "# test stuff outside of a function\n",
    "iterator = ArnoldiIterator(A, v)\n",
    "factorization = initialize(iterator)\n",
    "for i in 1:k-1\n",
    "    expand!(iterator, factorization)\n",
    "end\n",
    "\n",
    "(VInt, H, res, normRes, b) = factorization\n",
    "\n",
    "V=zeros(n,k); Idk = Matrix(1.0I,k,k)\n",
    "v=zeros(n)\n",
    "for i in 1:k\n",
    "    V[:,i]=KrylovKit.unproject!(v,VInt,Idk[:,i])\n",
    "end"
   ]
  },
  {
   "cell_type": "code",
   "execution_count": 59,
   "id": "d0750231-a3e2-457b-8639-4da45cab2db9",
   "metadata": {},
   "outputs": [
    {
     "data": {
      "text/plain": [
       "1×5 Matrix{Float64}:\n",
       " 0.0  0.0  0.0  0.0  0.0"
      ]
     },
     "execution_count": 59,
     "metadata": {},
     "output_type": "execute_result"
    }
   ],
   "source": [
    "[norm(V-V1) norm(H-H1) norm(res-res1) norm(normRes-normRes1) norm(b-b1)]"
   ]
  },
  {
   "cell_type": "markdown",
   "id": "e33ed97a-3f14-4aae-90a5-b220a68ff1e0",
   "metadata": {},
   "source": [
    "# Build a GMRES Function"
   ]
  },
  {
   "cell_type": "code",
   "execution_count": 60,
   "id": "4c6f7eba-a11f-44b5-8326-a0c7c77c1c86",
   "metadata": {},
   "outputs": [
    {
     "data": {
      "text/plain": [
       "gmres_jko (generic function with 1 method)"
      ]
     },
     "execution_count": 60,
     "metadata": {},
     "output_type": "execute_result"
    }
   ],
   "source": [
    "function gmres_jko(A, v, k)\n",
    "    V, H, res, normRes, b = arnoldi_jko(A,v,k)\n",
    "    \n",
    "    H_hat = zeros(k+1,k)\n",
    "    H_hat[1:k,:] = Matrix(H)\n",
    "    H_hat[k+1,:] = normRes*b'\n",
    "    \n",
    "    Usvd,Ssvd,Vsvd = svd(H_hat)\n",
    "    e1 = zeros(k+1,1)\n",
    "    e1[k+1] = 1\n",
    "    ym = Vsvd*inv(Diagonal(Ssvd))*Usvd'*(normRes*e1)\n",
    "    xm = V*ym\n",
    "    \n",
    "    return xm\n",
    "end"
   ]
  },
  {
   "cell_type": "markdown",
   "id": "12e7c11b-3a08-40f9-aebe-65b7b162ae51",
   "metadata": {},
   "source": [
    "# Solve A.x = b"
   ]
  },
  {
   "cell_type": "markdown",
   "id": "1f77c522-6af7-4e62-8b50-265f4852158a",
   "metadata": {},
   "source": [
    "Build $H_{hat}$."
   ]
  },
  {
   "cell_type": "code",
   "execution_count": 61,
   "id": "c6893bf9-ca31-4ea4-886a-98d4f24a3d1a",
   "metadata": {},
   "outputs": [],
   "source": [
    "H_hat = zeros(k+1,k)\n",
    "H_hat[1:k,:] = Matrix(H)\n",
    "H_hat[k+1,:] = normRes*b';\n",
    "H_hat;"
   ]
  },
  {
   "cell_type": "markdown",
   "id": "d6d472c9-ae76-49cf-846c-2974ec385780",
   "metadata": {},
   "source": [
    "Recall that $x_m = x_0 + V_m.y_m$ and $y_m$ minimizes the norm of $\\beta*e_1-H_{hat}.y$. Find $y_m$ with an SVD least-squares approach, then find $x_m$."
   ]
  },
  {
   "cell_type": "code",
   "execution_count": 62,
   "id": "991c9aa5-208d-46d0-a70d-83fd2ca2f605",
   "metadata": {},
   "outputs": [],
   "source": [
    "Usvd,Ssvd,Vsvd = svd(H_hat)\n",
    "e1 = zeros(k+1,1)\n",
    "e1[k+1] = 1\n",
    "ym = Vsvd*inv(Diagonal(Ssvd))*Usvd'*(normRes*e1)\n",
    "xm = V*ym;"
   ]
  },
  {
   "cell_type": "code",
   "execution_count": 66,
   "id": "cce9d292-0418-4334-90ab-25416d9a2390",
   "metadata": {},
   "outputs": [
    {
     "data": {
      "text/plain": [
       "0.0"
      ]
     },
     "execution_count": 66,
     "metadata": {},
     "output_type": "execute_result"
    }
   ],
   "source": [
    "xm1 = gmres_jko(A, v1, k)\n",
    "norm(xm-xm1)"
   ]
  },
  {
   "cell_type": "code",
   "execution_count": 65,
   "id": "25cbd8da-9784-4182-abd3-1cc6a8fc6bfa",
   "metadata": {},
   "outputs": [
    {
     "data": {
      "text/plain": [
       "18.577483752867582"
      ]
     },
     "execution_count": 65,
     "metadata": {},
     "output_type": "execute_result"
    }
   ],
   "source": [
    "b_vec = ones(n,1)\n",
    "norm(b_vec-A*x)"
   ]
  },
  {
   "cell_type": "markdown",
   "id": "c5dbb630-3cdb-4258-a78b-8fa0e5a4c5f8",
   "metadata": {},
   "source": [
    "# Test stuff\n",
    "Check whether the GMRES code will work on a matrix with clustered eigenvalues."
   ]
  },
  {
   "cell_type": "code",
   "execution_count": 123,
   "id": "a70f0238-5455-4200-beaf-4bd98863332d",
   "metadata": {},
   "outputs": [
    {
     "data": {
      "text/plain": [
       "4.47213595499958"
      ]
     },
     "execution_count": 123,
     "metadata": {},
     "output_type": "execute_result"
    }
   ],
   "source": [
    "n = 20\n",
    "Lambda_B = spzeros(n,n)\n",
    "for i in 1:n\n",
    "    if i<6; Lambda_B[i,i] = 1;\n",
    "    elseif i<13; Lambda_B[i,i] = 3;\n",
    "    else Lambda_B[i,i] = 5;\n",
    "    end\n",
    "end\n",
    "Q = qr(rand(n,n)).Q\n",
    "B = Q*Lambda_B*Q'\n",
    "b_vec = ones(n,1)\n",
    "w = vec(b_vec/norm(b_vec))\n",
    "j = 20\n",
    "x = gmres_jko(B, w, j)\n",
    "norm(b_vec-B*x)"
   ]
  },
  {
   "cell_type": "code",
   "execution_count": 116,
   "id": "e947e2aa-7a49-4e2a-8b26-2d575464f1d0",
   "metadata": {},
   "outputs": [
    {
     "data": {
      "text/plain": [
       "20-element Vector{Float64}:\n",
       " 0.9999999999999981\n",
       " 0.9999999999999996\n",
       " 1.0\n",
       " 1.0\n",
       " 1.000000000000001\n",
       " 2.9999999999999996\n",
       " 3.0\n",
       " 3.0000000000000004\n",
       " 3.0000000000000013\n",
       " 3.0000000000000013\n",
       " 3.0000000000000018\n",
       " 3.0000000000000027\n",
       " 4.999999999999996\n",
       " 4.9999999999999964\n",
       " 4.999999999999998\n",
       " 5.000000000000002\n",
       " 5.000000000000003\n",
       " 5.0000000000000036\n",
       " 5.0000000000000036\n",
       " 5.000000000000004"
      ]
     },
     "execution_count": 116,
     "metadata": {},
     "output_type": "execute_result"
    }
   ],
   "source": [
    "eigen(B).values"
   ]
  },
  {
   "cell_type": "code",
   "execution_count": null,
   "id": "93ffca57-b0fa-4e40-922f-b0ec1eb8645e",
   "metadata": {},
   "outputs": [],
   "source": []
  }
 ],
 "metadata": {
  "kernelspec": {
   "display_name": "Julia 1.6.2",
   "language": "julia",
   "name": "julia-1.6"
  },
  "language_info": {
   "file_extension": ".jl",
   "mimetype": "application/julia",
   "name": "julia",
   "version": "1.6.2"
  }
 },
 "nbformat": 4,
 "nbformat_minor": 5
}
