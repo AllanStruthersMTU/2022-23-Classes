{
 "cells": [
  {
   "cell_type": "markdown",
   "id": "190eb861-d6e3-4577-9e10-dc91b99224e7",
   "metadata": {},
   "source": [
    "Jonathan Oleson\n",
    "\n",
    "GMRES\n",
    "\n",
    "MA 5631, Advanced Numerical Linear Algebra, Dr. Allan Struthers\n",
    "\n",
    "Michigan Technological University"
   ]
  },
  {
   "cell_type": "markdown",
   "id": "240f6746-0e0c-416b-9b6f-c0daf8a6375f",
   "metadata": {},
   "source": [
    "Adapted from a notebook by Dr. Allan Struthers"
   ]
  },
  {
   "cell_type": "markdown",
   "id": "7b756372-dbf1-4c78-9003-cd8d725a560b",
   "metadata": {},
   "source": [
    "# Check Arnoldi\n",
    "Modify the code here to give a dimension 30 Krylov space for a 345-dimensional 1:-2:1 Dirichlet Laplacian matrix with one extra entry A[12,17]=1.3."
   ]
  },
  {
   "cell_type": "code",
   "execution_count": 3,
   "id": "9a00e33f-9776-4f1d-991e-672c5bd8d7e5",
   "metadata": {},
   "outputs": [],
   "source": [
    "using LinearAlgebra, KrylovKit, SparseArrays\n",
    "n=345\n",
    "A=spzeros(n,n);\n",
    "for i in 2:n\n",
    "    A[i,i]=-2.0; A[i,i-1]=1.0; A[i-1,i]=1.0\n",
    "end\n",
    "A[1,n]=A[n,1]=1.0;A[1,1]=-2.0\n",
    "A[12,17]=1.3\n",
    "v = rand(n)\n",
    "v1 = copy(v)\n",
    "\n",
    "k=30;"
   ]
  },
  {
   "cell_type": "code",
   "execution_count": 1,
   "id": "5ba017b6-ffc3-4886-b49e-5a9bd0d3150a",
   "metadata": {
    "tags": []
   },
   "outputs": [
    {
     "data": {
      "text/plain": [
       "arnoldi_jko (generic function with 1 method)"
      ]
     },
     "execution_count": 1,
     "metadata": {},
     "output_type": "execute_result"
    }
   ],
   "source": [
    "function arnoldi_jko(A, v, k)\n",
    "    n = length(v)\n",
    "    iterator = ArnoldiIterator(A, v)\n",
    "    factorization = initialize(iterator)\n",
    "    for i in 1:k-1\n",
    "        expand!(iterator, factorization)\n",
    "    end\n",
    "\n",
    "    (VInt, H, res, normRes, b) = factorization\n",
    "\n",
    "    V=zeros(n,k); Idk = Matrix(1.0I,k,k)\n",
    "    v=zeros(n)\n",
    "    for i in 1:k\n",
    "        V[:,i]=KrylovKit.unproject!(v,VInt,Idk[:,i])\n",
    "    end\n",
    "    return V, H, res, normRes, b\n",
    "end"
   ]
  },
  {
   "cell_type": "code",
   "execution_count": 10,
   "id": "b6597c02-6cc6-492d-ba05-44d0ee427712",
   "metadata": {},
   "outputs": [
    {
     "data": {
      "text/plain": [
       "345-element Vector{Float64}:\n",
       "  0.05711134873579613\n",
       " -0.05476400891008104\n",
       "  0.128984650969321\n",
       "  0.030280858436243428\n",
       " -0.02671418676815766\n",
       "  0.11732172958420413\n",
       " -0.038050566209011934\n",
       "  0.02726686209472676\n",
       "  0.000541027651618252\n",
       " -0.06997367676763323\n",
       "  0.007616977789766557\n",
       "  0.09256723930501362\n",
       "  0.028745492860796175\n",
       "  ⋮\n",
       "  0.004260798490858781\n",
       "  0.07484667399015357\n",
       "  0.024413750666810535\n",
       "  0.09209760198192528\n",
       "  0.06629316913121143\n",
       " -0.1397027605067228\n",
       " -0.015839169129989866\n",
       "  0.003826255120290359\n",
       "  0.10511474058623724\n",
       "  0.005922732570972464\n",
       "  0.053937608534075435\n",
       " -0.0197967254291019"
      ]
     },
     "execution_count": 10,
     "metadata": {},
     "output_type": "execute_result"
    }
   ],
   "source": [
    "V1, H1, res1, normRes1, b1 = arnoldi_jko(A,v,k);\n",
    "norm(V1'*V1 - I )\n",
    "V1[:,1]./v\n",
    "res1"
   ]
  },
  {
   "cell_type": "code",
   "execution_count": 58,
   "id": "3e186524-75a9-422d-b097-0af2f468d990",
   "metadata": {},
   "outputs": [],
   "source": [
    "# test stuff outside of a function\n",
    "iterator = ArnoldiIterator(A, v)\n",
    "factorization = initialize(iterator)\n",
    "for i in 1:k-1\n",
    "    expand!(iterator, factorization)\n",
    "end\n",
    "\n",
    "(VInt, H, res, normRes, b) = factorization\n",
    "\n",
    "V=zeros(n,k); Idk = Matrix(1.0I,k,k)\n",
    "v=zeros(n)\n",
    "for i in 1:k\n",
    "    V[:,i]=KrylovKit.unproject!(v,VInt,Idk[:,i])\n",
    "end"
   ]
  },
  {
   "cell_type": "code",
   "execution_count": 59,
   "id": "d0750231-a3e2-457b-8639-4da45cab2db9",
   "metadata": {},
   "outputs": [
    {
     "data": {
      "text/plain": [
       "1×5 Matrix{Float64}:\n",
       " 0.0  0.0  0.0  0.0  0.0"
      ]
     },
     "execution_count": 59,
     "metadata": {},
     "output_type": "execute_result"
    }
   ],
   "source": [
    "[norm(V-V1) norm(H-H1) norm(res-res1) norm(normRes-normRes1) norm(b-b1)]"
   ]
  },
  {
   "cell_type": "markdown",
   "id": "e33ed97a-3f14-4aae-90a5-b220a68ff1e0",
   "metadata": {},
   "source": [
    "# Build a GMRES Function"
   ]
  },
  {
   "cell_type": "code",
   "execution_count": 60,
   "id": "4c6f7eba-a11f-44b5-8326-a0c7c77c1c86",
   "metadata": {},
   "outputs": [
    {
     "data": {
      "text/plain": [
       "gmres_jko (generic function with 1 method)"
      ]
     },
     "execution_count": 60,
     "metadata": {},
     "output_type": "execute_result"
    }
   ],
   "source": [
    "function gmres_jko(A, v, k)\n",
    "    V, H, res, normRes, b = arnoldi_jko(A,v,k)\n",
    "    \n",
    "    H_hat = zeros(k+1,k)\n",
    "    H_hat[1:k,:] = Matrix(H)\n",
    "    H_hat[k+1,:] = normRes*b'\n",
    "    \n",
    "    Usvd,Ssvd,Vsvd = svd(H_hat)\n",
    "    e1 = zeros(k+1,1)\n",
    "    e1[k+1] = 1\n",
    "    ym = Vsvd*inv(Diagonal(Ssvd))*Usvd'*(normRes*e1)\n",
    "    xm = V*ym\n",
    "    \n",
    "    return xm\n",
    "end"
   ]
  },
  {
   "cell_type": "markdown",
   "id": "12e7c11b-3a08-40f9-aebe-65b7b162ae51",
   "metadata": {},
   "source": [
    "# Solve A.x = b"
   ]
  },
  {
   "cell_type": "markdown",
   "id": "1f77c522-6af7-4e62-8b50-265f4852158a",
   "metadata": {},
   "source": [
    "Build $H_{hat}$."
   ]
  },
  {
   "cell_type": "code",
   "execution_count": 25,
   "id": "c6893bf9-ca31-4ea4-886a-98d4f24a3d1a",
   "metadata": {},
   "outputs": [
    {
     "data": {
      "text/plain": [
       "345×30 Matrix{Float64}:\n",
       "  6.93889e-18   2.77556e-17  -2.77556e-17  …   1.38778e-16  -0.00259338\n",
       "  0.0           0.0           6.93889e-18     -5.55112e-17   0.00248679\n",
       "  5.20417e-18   6.93889e-18   1.73472e-18     -3.46945e-18  -0.00585708\n",
       "  0.0          -1.38778e-17   0.0              1.04083e-17  -0.00137503\n",
       "  6.93889e-18   0.0           0.0              2.77556e-17   0.00121307\n",
       " -2.71051e-19   1.38778e-17   0.0          …  -2.77556e-17  -0.00532748\n",
       " -6.93889e-18   0.0           1.38778e-17      1.73472e-18   0.00172784\n",
       "  0.0           0.0          -1.73472e-18      1.38778e-17  -0.00123817\n",
       "  1.04083e-17   1.38778e-17  -1.56125e-17     -1.38778e-17  -2.45676e-5\n",
       " -3.46945e-18   6.93889e-18   0.0              2.77556e-17   0.00317745\n",
       "  1.38778e-17   0.0           2.77556e-17  …   3.46945e-18  -0.00034588\n",
       "  2.77556e-17   2.77556e-17   5.55112e-17     -2.77556e-17  -0.0042034\n",
       "  0.0           0.0           0.0             -4.16334e-17  -0.00130531\n",
       "  ⋮                                        ⋱                \n",
       "  0.0           1.38778e-17   0.0             -1.38778e-17  -0.000193479\n",
       "  3.46945e-18   1.38778e-17   0.0              2.77556e-17  -0.00339872\n",
       "  2.08167e-17   1.38778e-17   3.46945e-18  …  -2.77556e-17  -0.00110861\n",
       "  1.38778e-17   0.0           0.0             -2.77556e-17  -0.00418207\n",
       "  6.93889e-18   0.0           0.0             -5.55112e-17  -0.00301032\n",
       "  0.0           0.0          -6.93889e-18      5.55112e-17   0.00634378\n",
       "  1.38778e-17   6.93889e-18   2.77556e-17      1.38778e-17   0.000719243\n",
       "  0.0           5.55112e-17   0.0          …  -1.11022e-16  -0.000173747\n",
       " -2.77556e-17   5.55112e-17   2.77556e-17      1.38778e-17  -0.00477317\n",
       "  0.0           0.0           0.0             -2.77556e-17  -0.000268946\n",
       " -2.77556e-17   0.0           0.0              0.0          -0.00244926\n",
       "  2.08167e-17   0.0           5.55112e-17      0.0           0.000898952"
      ]
     },
     "execution_count": 25,
     "metadata": {},
     "output_type": "execute_result"
    }
   ],
   "source": [
    "V1, H1, res1, normRes1, b1 = arnoldi_jko(A,v,k);\n",
    "\n",
    "H_hat = zeros(k+1,k)\n",
    "H_hat[1:k,:] = Matrix(H1)\n",
    "H_hat[k+1,:] = normRes1*b1';\n",
    "H_hat;\n",
    "A*V1 - [V1 res1]*H_hat"
   ]
  },
  {
   "cell_type": "markdown",
   "id": "d6d472c9-ae76-49cf-846c-2974ec385780",
   "metadata": {},
   "source": [
    "Recall that $x_m = x_0 + V_m.y_m$ and $y_m$ minimizes the norm of $\\beta*e_1-H_{hat}.y$. Find $y_m$ with an SVD least-squares approach, then find $x_m$."
   ]
  },
  {
   "cell_type": "code",
   "execution_count": 62,
   "id": "991c9aa5-208d-46d0-a70d-83fd2ca2f605",
   "metadata": {},
   "outputs": [],
   "source": [
    "Usvd,Ssvd,Vsvd = svd(H_hat)\n",
    "e1 = zeros(k+1,1)\n",
    "e1[k+1] = 1\n",
    "ym = Vsvd*inv(Diagonal(Ssvd))*Usvd'*(normRes*e1)\n",
    "xm = V*ym;"
   ]
  },
  {
   "cell_type": "code",
   "execution_count": 66,
   "id": "cce9d292-0418-4334-90ab-25416d9a2390",
   "metadata": {},
   "outputs": [
    {
     "data": {
      "text/plain": [
       "0.0"
      ]
     },
     "execution_count": 66,
     "metadata": {},
     "output_type": "execute_result"
    }
   ],
   "source": [
    "xm1 = gmres_jko(A, v1, k)\n",
    "norm(xm-xm1)"
   ]
  },
  {
   "cell_type": "code",
   "execution_count": 65,
   "id": "25cbd8da-9784-4182-abd3-1cc6a8fc6bfa",
   "metadata": {},
   "outputs": [
    {
     "data": {
      "text/plain": [
       "18.577483752867582"
      ]
     },
     "execution_count": 65,
     "metadata": {},
     "output_type": "execute_result"
    }
   ],
   "source": [
    "b_vec = ones(n,1)\n",
    "norm(b_vec-A*x)"
   ]
  },
  {
   "cell_type": "markdown",
   "id": "c5dbb630-3cdb-4258-a78b-8fa0e5a4c5f8",
   "metadata": {},
   "source": [
    "# Test stuff\n",
    "Check whether the GMRES code will work on a matrix with clustered eigenvalues."
   ]
  },
  {
   "cell_type": "code",
   "execution_count": 32,
   "id": "a70f0238-5455-4200-beaf-4bd98863332d",
   "metadata": {},
   "outputs": [
    {
     "data": {
      "text/plain": [
       "20×20 LinearAlgebra.QRCompactWYQ{Float64, Matrix{Float64}}:\n",
       " -0.15066     -0.089809    0.187998     …  -0.0392888   -0.354406\n",
       " -0.137322    -0.18048     0.201906         0.0728892   -0.104311\n",
       " -0.0523196   -0.349954   -0.179753        -0.0481637    0.0605832\n",
       " -0.376285     0.0916722  -0.0122019        0.0137714   -0.0971442\n",
       " -0.00701816  -0.634664    0.0481549        0.223155     0.17019\n",
       " -0.221528     0.0437941  -0.066078     …   0.0580552    0.0334094\n",
       " -0.0365726   -0.0775113  -0.299787        -0.279808     0.117791\n",
       " -0.30917      0.160663   -0.219528        -0.239825    -0.201682\n",
       " -0.25152      0.126208   -0.283309         0.365214    -0.131477\n",
       " -0.339325    -0.0126484   0.473346        -0.00339754   0.115123\n",
       " -0.334746     0.214965   -0.235583     …   0.0995228    0.317293\n",
       " -0.194898     0.262056    0.134856         0.285932     0.391824\n",
       " -0.190705     0.0464493  -0.0640216       -0.531061     0.0609135\n",
       " -0.287012    -0.198034   -0.088887        -0.237058     0.318817\n",
       " -0.0368911   -0.0879671  -0.156675         0.300969    -0.258387\n",
       " -0.00949623  -0.0199728  -0.000556303  …  -0.100905    -0.0895603\n",
       " -0.0877318   -0.357748   -0.423794        -0.0243293   -0.0887536\n",
       " -0.350822    -0.0642393  -0.0540142        0.264825    -0.297185\n",
       " -0.290226    -0.217829    0.385593        -0.20272     -0.161359\n",
       " -0.0665233   -0.17863     0.0304478        0.160615     0.422687"
      ]
     },
     "execution_count": 32,
     "metadata": {},
     "output_type": "execute_result"
    }
   ],
   "source": [
    "n = 20\n",
    "Lambda_B = spzeros(n,n)\n",
    "for i in 1:n\n",
    "    if i<6; Lambda_B[i,i] = 1;\n",
    "    elseif i<13; Lambda_B[i,i] = 3;\n",
    "    else Lambda_B[i,i] = 5;\n",
    "    end\n",
    "end\n",
    "Q = qr(rand(n,n)).Q\n",
    "B = Q*Lambda_B*Q'\n",
    "b_vec = ones(n,1)\n",
    "w = vec(b_vec/norm(b_vec))\n",
    "j = 20\n",
    "# x = gmres_jko(B, w, j)\n",
    "# norm(b_vec-B*x)\n",
    "# eigen(B).values\n",
    "Q"
   ]
  },
  {
   "cell_type": "code",
   "execution_count": 116,
   "id": "e947e2aa-7a49-4e2a-8b26-2d575464f1d0",
   "metadata": {},
   "outputs": [
    {
     "data": {
      "text/plain": [
       "20-element Vector{Float64}:\n",
       " 0.9999999999999981\n",
       " 0.9999999999999996\n",
       " 1.0\n",
       " 1.0\n",
       " 1.000000000000001\n",
       " 2.9999999999999996\n",
       " 3.0\n",
       " 3.0000000000000004\n",
       " 3.0000000000000013\n",
       " 3.0000000000000013\n",
       " 3.0000000000000018\n",
       " 3.0000000000000027\n",
       " 4.999999999999996\n",
       " 4.9999999999999964\n",
       " 4.999999999999998\n",
       " 5.000000000000002\n",
       " 5.000000000000003\n",
       " 5.0000000000000036\n",
       " 5.0000000000000036\n",
       " 5.000000000000004"
      ]
     },
     "execution_count": 116,
     "metadata": {},
     "output_type": "execute_result"
    }
   ],
   "source": [
    "eigen(B).values"
   ]
  },
  {
   "cell_type": "code",
   "execution_count": null,
   "id": "93ffca57-b0fa-4e40-922f-b0ec1eb8645e",
   "metadata": {},
   "outputs": [],
   "source": []
  }
 ],
 "metadata": {
  "kernelspec": {
   "display_name": "Julia 1.6.3",
   "language": "julia",
   "name": "julia-1.6"
  },
  "language_info": {
   "file_extension": ".jl",
   "mimetype": "application/julia",
   "name": "julia",
   "version": "1.6.3"
  }
 },
 "nbformat": 4,
 "nbformat_minor": 5
}
