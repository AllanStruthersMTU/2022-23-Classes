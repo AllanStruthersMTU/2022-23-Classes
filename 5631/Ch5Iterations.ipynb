{
 "cells": [
  {
   "cell_type": "markdown",
   "id": "8f6e1192-0441-48e2-a3a7-941302fea81f",
   "metadata": {
    "tags": []
   },
   "source": [
    "# 1D Projection Schemes\n",
    "\n",
    "There are three 1D algorithms in Chapter 5.  Here are fixed iteration count version in Julia"
   ]
  },
  {
   "cell_type": "code",
   "execution_count": 53,
   "id": "8bd567bf-4a0b-4bb6-bad5-1a7738a4f418",
   "metadata": {},
   "outputs": [],
   "source": [
    "using LinearAlgebra, SparseArrays\n",
    "#Steepest Descent Step from Alg 5.2 p138\n",
    "#Assumption A is SPD\n",
    "function SteepDes(A,x,p,r)\n",
    "    alpha = dot(r,r)/dot(p,r)\n",
    "    x+=alpha*r\n",
    "    r-=alpha*p\n",
    "    p=A*r\n",
    "    println(x)\n",
    "    return nothing\n",
    "end\n",
    "\n",
    "#Minimum Residual Step from Alg 5.3 p140\n",
    "#Assumption A+A' is SPD\n",
    "function MinRes(A,x,p,r)\n",
    "    alpha = dot(p,r)/dot(p,p)\n",
    "    x=x+alpha*r\n",
    "    r=r-alpha*p\n",
    "    p=A*r\n",
    "    return nothing\n",
    "end\n",
    "\n",
    "#Residual Norm Step from Alg 5.4 p142\n",
    "#Assumption A'A is non-singular\n",
    "function ResNorm(A,x,r)\n",
    "    v=A'*r\n",
    "    Av=A*v\n",
    "    alpha = dot(v,v)/dot(Av,Av)\n",
    "    x=x+alpha*v\n",
    "    r=r-alpha*Av\n",
    "    return nothing\n",
    "end\n",
    ";"
   ]
  },
  {
   "cell_type": "markdown",
   "id": "730848a0-f811-4d7a-87f9-dbe7f5730b41",
   "metadata": {},
   "source": [
    "# Assumptions\n",
    "The assumptiions are real:\n",
    "\n",
    "- Just because an algorithm runs does not mean it is converging! \n",
    "- Algorithms will (almost certainly) fail to converge on matrices that fail to satisfy the assumptions.\n",
    "- SD has the most stringent assuptions followed by MR followed by RN.\n",
    "- The assumptions for RN are *almost* non existent.\n",
    "\n",
    "# Comparison\n",
    "As a test I am going to copare all three on a randomly generated SPD matrix. "
   ]
  },
  {
   "cell_type": "code",
   "execution_count": 52,
   "id": "0ed38d4b-bb31-448f-ae3e-472d61ad36bd",
   "metadata": {},
   "outputs": [
    {
     "name": "stdout",
     "output_type": "stream",
     "text": [
      "[0.36391440968377164, 0.11130111865725567, 0.1930924397449174, 0.1723692885866912, 0.05102419308552886, 0.43940632240231015, 0.28183144323270626, 0.8821611846369382, 0.17905719834181855, 0.49535468732381704, 0.8036800003567459, 0.5962317452507022]\n",
      "[0.03777714882514793, -0.294806018102989, -0.05602881565131307, -0.12234196497310679, -0.2865123398948496, 0.01671281180349854, -0.143733460142205, 0.6044177532965974, -0.27854487394878186, 0.07394552191217635, 0.4065020685810482, 0.2723788126462024]\n",
      "[0.36391440968377164, 0.11130111865725567, 0.1930924397449174, 0.1723692885866912, 0.05102419308552886, 0.43940632240231015, 0.28183144323270626, 0.8821611846369382, 0.17905719834181855, 0.49535468732381704, 0.8036800003567459, 0.5962317452507022]\n"
     ]
    }
   ],
   "source": [
    "using Plots\n",
    "# Creating an SPD test problem\n",
    "m=12; eps=0.1\n",
    "A=rand(m,m); A=A*A'+ eps*I\n",
    "x0=rand(m);xStar=sin.(2*pi/m*(1:m));b=A*xStar\n",
    "# Making Storage for errors ||x-xStar|| and ||b-A*x||\n",
    "MaxIter=32;\n",
    "SDErrs=zeros(MaxIter,2); MRerrs=zeros(MaxIter,2); NRErrs=zeros(MaxIter,2)\n",
    "# SD\n",
    "x=copy(x0);r=b-A*x0;p=A*r\n",
    "println(x)\n",
    "SteepDes(A,x,p,r)\n",
    "println(x)"
   ]
  },
  {
   "cell_type": "code",
   "execution_count": 35,
   "id": "7cd45151-fc29-4571-9ec8-2004b8d3e14a",
   "metadata": {},
   "outputs": [
    {
     "data": {
      "text/plain": [
       "12-element Vector{Float64}:\n",
       " 0.0\n",
       " 0.0\n",
       " 0.0\n",
       " 0.0\n",
       " 0.0\n",
       " 0.0\n",
       " 0.0\n",
       " 0.0\n",
       " 0.0\n",
       " 0.0\n",
       " 0.0\n",
       " 0.0"
      ]
     },
     "execution_count": 35,
     "metadata": {},
     "output_type": "execute_result"
    }
   ],
   "source": [
    "x-x0"
   ]
  },
  {
   "cell_type": "code",
   "execution_count": null,
   "id": "7e1b9d22-a045-435d-94d8-2cf70316dfe3",
   "metadata": {},
   "outputs": [],
   "source": []
  }
 ],
 "metadata": {
  "kernelspec": {
   "display_name": "Julia 1.6.3",
   "language": "julia",
   "name": "julia-1.6"
  },
  "language_info": {
   "file_extension": ".jl",
   "mimetype": "application/julia",
   "name": "julia",
   "version": "1.6.3"
  }
 },
 "nbformat": 4,
 "nbformat_minor": 5
}
