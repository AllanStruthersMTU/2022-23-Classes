{
 "cells": [
  {
   "cell_type": "markdown",
   "id": "7b756372-dbf1-4c78-9003-cd8d725a560b",
   "metadata": {},
   "source": [
    "# In-place and out-of-place evaluation\n",
    "The inplace evaluation is easier and slightly faster."
   ]
  },
  {
   "cell_type": "code",
   "execution_count": 78,
   "id": "41db03e3-d919-43c9-8602-3d24b6119244",
   "metadata": {},
   "outputs": [
    {
     "name": "stdout",
     "output_type": "stream",
     "text": [
      "  0.027632 seconds (2.44 k allocations: 356.314 KiB, 39.01% compilation time)\n",
      "  0.017009 seconds (14 allocations: 217.703 KiB)\n",
      "  0.017186 seconds (14 allocations: 217.703 KiB)\n",
      "  0.017105 seconds (14 allocations: 217.703 KiB)\n",
      "  0.017827 seconds (14 allocations: 217.703 KiB)\n",
      "  0.089458 seconds (35.51 k allocations: 1.708 MiB, 76.87% compilation time)\n",
      "  0.018121 seconds (6 allocations: 130.547 KiB)\n",
      "  0.019491 seconds (6 allocations: 130.547 KiB)\n",
      "  0.021565 seconds (6 allocations: 130.547 KiB)\n",
      "  0.027706 seconds (6 allocations: 130.547 KiB)\n"
     ]
    },
    {
     "data": {
      "text/plain": [
       "(40.571085241238585, 40.571085241238585)"
      ]
     },
     "execution_count": 78,
     "metadata": {},
     "output_type": "execute_result"
    }
   ],
   "source": [
    "using Plots, LinearAlgebra\n",
    "# Creating an SPD test problem\n",
    "m=5555;eps=0.1\n",
    "A=rand(m,m); A=A*A'+ eps*I\n",
    "x0=rand(m);xStar=sin.(2*pi/m*(1:m));b=A*xStar\n",
    "# Making Storage for errors ||x-xStar|| and ||b-A*x||\n",
    "MaxIter=5\n",
    "SDErrs=zeros(MaxIter,2); MRerrs=zeros(MaxIter,2); NRErrs=zeros(MaxIter,2)\n",
    "\n",
    "#Steepest Descent Step from Alg 5.2 p138\n",
    "#Assumption A is SPD\n",
    "function SteepDes(A,x,p,r)\n",
    "    alpha = dot(r,r)/dot(p,r)\n",
    "    x+=alpha*r\n",
    "    r-=alpha*p\n",
    "    p=A*r\n",
    "    return (x,p,r)\n",
    "end\n",
    "\n",
    "function SteepDes!(A,x,p,r)\n",
    "    alpha = dot(r,r)/dot(p,r)\n",
    "    x.+=alpha*r\n",
    "    r.-=alpha*p\n",
    "    p.=A*r\n",
    "    return nothing\n",
    "end\n",
    "\n",
    "# SD\n",
    "xPass=copy(x0);r=b-A*x0;p=A*r\n",
    "for i in 1:MaxIter\n",
    "    @time (xPass,p,r)= SteepDes(A,xPass,p,r)\n",
    "end\n",
    "\n",
    "xNoPass=copy(x0);r=b-A*x0;p=A*r\n",
    "for i in 1:MaxIter\n",
    "    @time SteepDes!(A,xNoPass,p,r)\n",
    "end\n",
    "\n",
    "(norm(xPass-xStar),norm(xNoPass-xStar))"
   ]
  },
  {
   "cell_type": "markdown",
   "id": "8f6e1192-0441-48e2-a3a7-941302fea81f",
   "metadata": {
    "tags": []
   },
   "source": [
    "# 1D Projection Schemes\n",
    "\n",
    "There are three 1D algorithms in Chapter 5.  Here are fixed iteration count version in Julia"
   ]
  },
  {
   "cell_type": "code",
   "execution_count": 67,
   "id": "8bd567bf-4a0b-4bb6-bad5-1a7738a4f418",
   "metadata": {},
   "outputs": [],
   "source": [
    "using LinearAlgebra, SparseArrays\n",
    "#Steepest Descent Step from Alg 5.2 p138\n",
    "#Assumption A is SPD\n",
    "function SteepDes(A,x,p,r)\n",
    "    alpha = dot(r,r)/dot(p,r)\n",
    "    x.+=alpha*r\n",
    "    r.-=alpha*p\n",
    "    p.=A*r\n",
    "    return nothing\n",
    "end\n",
    "\n",
    "#Minimum Residual Step from Alg 5.3 p140\n",
    "#Assumption A+A' is SPD\n",
    "function MinRes(A,x,p,r)\n",
    "    alpha = dot(p,r)/dot(p,p)\n",
    "    x.=x+alpha*r\n",
    "    r.=r-alpha*p\n",
    "    p.=A*r\n",
    "    return nothing\n",
    "end\n",
    "\n",
    "#Residual Norm Step from Alg 5.4 p142\n",
    "#Assumption A'A is non-singular\n",
    "function ResNorm(A,x,r)\n",
    "    v=A'*r\n",
    "    Av=A*v\n",
    "    alpha = dot(v,v)/dot(Av,Av)\n",
    "    x.=x+alpha*v\n",
    "    r.=r-alpha*Av\n",
    "    return nothing\n",
    "end\n",
    ";"
   ]
  },
  {
   "cell_type": "markdown",
   "id": "730848a0-f811-4d7a-87f9-dbe7f5730b41",
   "metadata": {},
   "source": [
    "# Assumptions\n",
    "The assumptiions are real:\n",
    "\n",
    "- Just because an algorithm runs does not mean it is converging! \n",
    "- Algorithms will (almost certainly) fail to converge on matrices that fail to satisfy the assumptions.\n",
    "- SD has the most stringent assuptions followed by MR followed by RN.\n",
    "- The assumptions for RN are *almost* non existent.\n",
    "\n",
    "# Foot Race\n",
    "As a test I am going to compare all three on a randomly generated SPD matrix. "
   ]
  },
  {
   "cell_type": "code",
   "execution_count": 68,
   "id": "0ed38d4b-bb31-448f-ae3e-472d61ad36bd",
   "metadata": {},
   "outputs": [],
   "source": [
    "using Plots, LinearAlgebra, BenchmarkTools\n",
    "# Creating an SPD test problem\n",
    "m=55;eps=1.2\n",
    "A=rand(m,m); A=A*A'+ eps*I\n",
    "x0=rand(m);xStar=sin.(2*pi/m*(1:m));b=A*xStar\n",
    "# Making Storage for errors ||x-xStar|| and ||b-A*x||\n",
    "MaxIter=50\n",
    "SDErrs=zeros(MaxIter,2); MRErrs=zeros(MaxIter,2); NRErrs=zeros(MaxIter,2)\n",
    "\n",
    "# SD Test\n",
    "x=copy(x0);r=b-A*x0;p=A*r\n",
    "for i in 1:MaxIter\n",
    "    SteepDes(A,x,p,r)\n",
    "    SDErrs[i,1]=norm(r)\n",
    "    SDErrs[i,2]=norm(x-xStar)\n",
    "end\n",
    "\n",
    "# MR Test\n",
    "x=copy(x0);r=b-A*x0;p=A*r\n",
    "for i in 1:MaxIter\n",
    "    MinRes(A,x,p,r)\n",
    "    MRErrs[i,1]=norm(r)\n",
    "    MRErrs[i,2]=norm(x-xStar)\n",
    "end\n",
    "\n",
    "# ResNorm Test\n",
    "x=copy(x0);r=b-A*x0\n",
    "for i in 1:MaxIter\n",
    "    ResNorm(A,x,r)\n",
    "    NRErrs[i,1]=norm(r)\n",
    "    NRErrs[i,2]=norm(x-xStar)\n",
    "end"
   ]
  },
  {
   "cell_type": "markdown",
   "id": "9434c6c4-9901-4ec8-ae32-2d46b689d4f3",
   "metadata": {},
   "source": [
    "Lets look at the results"
   ]
  },
  {
   "cell_type": "code",
   "execution_count": 70,
   "id": "7cd45151-fc29-4571-9ec8-2004b8d3e14a",
   "metadata": {},
   "outputs": [
    {
     "data": {
      "image/svg+xml": [
       "<?xml version=\"1.0\" encoding=\"utf-8\"?>\n",
       "<svg xmlns=\"http://www.w3.org/2000/svg\" xmlns:xlink=\"http://www.w3.org/1999/xlink\" width=\"600\" height=\"400\" viewBox=\"0 0 2400 1600\">\n",
       "<defs>\n",
       "  <clipPath id=\"clip620\">\n",
       "    <rect x=\"0\" y=\"0\" width=\"2400\" height=\"1600\"/>\n",
       "  </clipPath>\n",
       "</defs>\n",
       "<path clip-path=\"url(#clip620)\" d=\"\n",
       "M0 1600 L2400 1600 L2400 0 L0 0  Z\n",
       "  \" fill=\"#ffffff\" fill-rule=\"evenodd\" fill-opacity=\"1\"/>\n",
       "<defs>\n",
       "  <clipPath id=\"clip621\">\n",
       "    <rect x=\"480\" y=\"0\" width=\"1681\" height=\"1600\"/>\n",
       "  </clipPath>\n",
       "</defs>\n",
       "<path clip-path=\"url(#clip620)\" d=\"\n",
       "M195.514 1486.45 L2352.76 1486.45 L2352.76 47.2441 L195.514 47.2441  Z\n",
       "  \" fill=\"#ffffff\" fill-rule=\"evenodd\" fill-opacity=\"1\"/>\n",
       "<defs>\n",
       "  <clipPath id=\"clip622\">\n",
       "    <rect x=\"195\" y=\"47\" width=\"2158\" height=\"1440\"/>\n",
       "  </clipPath>\n",
       "</defs>\n",
       "<polyline clip-path=\"url(#clip622)\" style=\"stroke:#000000; stroke-linecap:butt; stroke-linejoin:round; stroke-width:2; stroke-opacity:0.1; fill:none\" points=\"\n",
       "  523.05,1486.45 523.05,47.2441 \n",
       "  \"/>\n",
       "<polyline clip-path=\"url(#clip622)\" style=\"stroke:#000000; stroke-linecap:butt; stroke-linejoin:round; stroke-width:2; stroke-opacity:0.1; fill:none\" points=\"\n",
       "  1107.82,1486.45 1107.82,47.2441 \n",
       "  \"/>\n",
       "<polyline clip-path=\"url(#clip622)\" style=\"stroke:#000000; stroke-linecap:butt; stroke-linejoin:round; stroke-width:2; stroke-opacity:0.1; fill:none\" points=\"\n",
       "  1692.6,1486.45 1692.6,47.2441 \n",
       "  \"/>\n",
       "<polyline clip-path=\"url(#clip622)\" style=\"stroke:#000000; stroke-linecap:butt; stroke-linejoin:round; stroke-width:2; stroke-opacity:0.1; fill:none\" points=\"\n",
       "  2277.37,1486.45 2277.37,47.2441 \n",
       "  \"/>\n",
       "<polyline clip-path=\"url(#clip620)\" style=\"stroke:#000000; stroke-linecap:butt; stroke-linejoin:round; stroke-width:4; stroke-opacity:1; fill:none\" points=\"\n",
       "  195.514,1486.45 2352.76,1486.45 \n",
       "  \"/>\n",
       "<polyline clip-path=\"url(#clip620)\" style=\"stroke:#000000; stroke-linecap:butt; stroke-linejoin:round; stroke-width:4; stroke-opacity:1; fill:none\" points=\"\n",
       "  523.05,1486.45 523.05,1467.55 \n",
       "  \"/>\n",
       "<polyline clip-path=\"url(#clip620)\" style=\"stroke:#000000; stroke-linecap:butt; stroke-linejoin:round; stroke-width:4; stroke-opacity:1; fill:none\" points=\"\n",
       "  1107.82,1486.45 1107.82,1467.55 \n",
       "  \"/>\n",
       "<polyline clip-path=\"url(#clip620)\" style=\"stroke:#000000; stroke-linecap:butt; stroke-linejoin:round; stroke-width:4; stroke-opacity:1; fill:none\" points=\"\n",
       "  1692.6,1486.45 1692.6,1467.55 \n",
       "  \"/>\n",
       "<polyline clip-path=\"url(#clip620)\" style=\"stroke:#000000; stroke-linecap:butt; stroke-linejoin:round; stroke-width:4; stroke-opacity:1; fill:none\" points=\"\n",
       "  2277.37,1486.45 2277.37,1467.55 \n",
       "  \"/>\n",
       "<path clip-path=\"url(#clip620)\" d=\"M497.737 1544.91 L505.376 1544.91 L505.376 1518.55 L497.066 1520.21 L497.066 1515.95 L505.33 1514.29 L510.006 1514.29 L510.006 1544.91 L517.644 1544.91 L517.644 1548.85 L497.737 1548.85 L497.737 1544.91 Z\" fill=\"#000000\" fill-rule=\"evenodd\" fill-opacity=\"1\" /><path clip-path=\"url(#clip620)\" d=\"M537.089 1517.37 Q533.478 1517.37 531.649 1520.93 Q529.843 1524.47 529.843 1531.6 Q529.843 1538.71 531.649 1542.27 Q533.478 1545.82 537.089 1545.82 Q540.723 1545.82 542.529 1542.27 Q544.357 1538.71 544.357 1531.6 Q544.357 1524.47 542.529 1520.93 Q540.723 1517.37 537.089 1517.37 M537.089 1513.66 Q542.899 1513.66 545.954 1518.27 Q549.033 1522.85 549.033 1531.6 Q549.033 1540.33 545.954 1544.94 Q542.899 1549.52 537.089 1549.52 Q531.279 1549.52 528.2 1544.94 Q525.144 1540.33 525.144 1531.6 Q525.144 1522.85 528.2 1518.27 Q531.279 1513.66 537.089 1513.66 Z\" fill=\"#000000\" fill-rule=\"evenodd\" fill-opacity=\"1\" /><path clip-path=\"url(#clip620)\" d=\"M1086.6 1544.91 L1102.92 1544.91 L1102.92 1548.85 L1080.97 1548.85 L1080.97 1544.91 Q1083.63 1542.16 1088.22 1537.53 Q1092.82 1532.88 1094 1531.53 Q1096.25 1529.01 1097.13 1527.27 Q1098.03 1525.51 1098.03 1523.82 Q1098.03 1521.07 1096.09 1519.33 Q1094.17 1517.6 1091.06 1517.6 Q1088.86 1517.6 1086.41 1518.36 Q1083.98 1519.13 1081.2 1520.68 L1081.2 1515.95 Q1084.03 1514.82 1086.48 1514.24 Q1088.93 1513.66 1090.97 1513.66 Q1096.34 1513.66 1099.54 1516.35 Q1102.73 1519.03 1102.73 1523.52 Q1102.73 1525.65 1101.92 1527.57 Q1101.13 1529.47 1099.03 1532.07 Q1098.45 1532.74 1095.35 1535.95 Q1092.24 1539.15 1086.6 1544.91 Z\" fill=\"#000000\" fill-rule=\"evenodd\" fill-opacity=\"1\" /><path clip-path=\"url(#clip620)\" d=\"M1122.73 1517.37 Q1119.12 1517.37 1117.29 1520.93 Q1115.48 1524.47 1115.48 1531.6 Q1115.48 1538.71 1117.29 1542.27 Q1119.12 1545.82 1122.73 1545.82 Q1126.36 1545.82 1128.17 1542.27 Q1130 1538.71 1130 1531.6 Q1130 1524.47 1128.17 1520.93 Q1126.36 1517.37 1122.73 1517.37 M1122.73 1513.66 Q1128.54 1513.66 1131.6 1518.27 Q1134.67 1522.85 1134.67 1531.6 Q1134.67 1540.33 1131.6 1544.94 Q1128.54 1549.52 1122.73 1549.52 Q1116.92 1549.52 1113.84 1544.94 Q1110.79 1540.33 1110.79 1531.6 Q1110.79 1522.85 1113.84 1518.27 Q1116.92 1513.66 1122.73 1513.66 Z\" fill=\"#000000\" fill-rule=\"evenodd\" fill-opacity=\"1\" /><path clip-path=\"url(#clip620)\" d=\"M1681.44 1530.21 Q1684.79 1530.93 1686.67 1533.2 Q1688.57 1535.47 1688.57 1538.8 Q1688.57 1543.92 1685.05 1546.72 Q1681.53 1549.52 1675.05 1549.52 Q1672.87 1549.52 1670.56 1549.08 Q1668.27 1548.66 1665.81 1547.81 L1665.81 1543.29 Q1667.76 1544.43 1670.07 1545.01 Q1672.39 1545.58 1674.91 1545.58 Q1679.31 1545.58 1681.6 1543.85 Q1683.92 1542.11 1683.92 1538.8 Q1683.92 1535.75 1681.76 1534.03 Q1679.63 1532.3 1675.81 1532.3 L1671.79 1532.3 L1671.79 1528.45 L1676 1528.45 Q1679.45 1528.45 1681.28 1527.09 Q1683.1 1525.7 1683.1 1523.11 Q1683.1 1520.45 1681.21 1519.03 Q1679.33 1517.6 1675.81 1517.6 Q1673.89 1517.6 1671.69 1518.01 Q1669.49 1518.43 1666.86 1519.31 L1666.86 1515.14 Q1669.52 1514.4 1671.83 1514.03 Q1674.17 1513.66 1676.23 1513.66 Q1681.55 1513.66 1684.66 1516.09 Q1687.76 1518.5 1687.76 1522.62 Q1687.76 1525.49 1686.11 1527.48 Q1684.47 1529.45 1681.44 1530.21 Z\" fill=\"#000000\" fill-rule=\"evenodd\" fill-opacity=\"1\" /><path clip-path=\"url(#clip620)\" d=\"M1707.43 1517.37 Q1703.82 1517.37 1701.99 1520.93 Q1700.19 1524.47 1700.19 1531.6 Q1700.19 1538.71 1701.99 1542.27 Q1703.82 1545.82 1707.43 1545.82 Q1711.07 1545.82 1712.87 1542.27 Q1714.7 1538.71 1714.7 1531.6 Q1714.7 1524.47 1712.87 1520.93 Q1711.07 1517.37 1707.43 1517.37 M1707.43 1513.66 Q1713.24 1513.66 1716.3 1518.27 Q1719.38 1522.85 1719.38 1531.6 Q1719.38 1540.33 1716.3 1544.94 Q1713.24 1549.52 1707.43 1549.52 Q1701.62 1549.52 1698.54 1544.94 Q1695.49 1540.33 1695.49 1531.6 Q1695.49 1522.85 1698.54 1518.27 Q1701.62 1513.66 1707.43 1513.66 Z\" fill=\"#000000\" fill-rule=\"evenodd\" fill-opacity=\"1\" /><path clip-path=\"url(#clip620)\" d=\"M2265.54 1518.36 L2253.73 1536.81 L2265.54 1536.81 L2265.54 1518.36 M2264.31 1514.29 L2270.19 1514.29 L2270.19 1536.81 L2275.12 1536.81 L2275.12 1540.7 L2270.19 1540.7 L2270.19 1548.85 L2265.54 1548.85 L2265.54 1540.7 L2249.94 1540.7 L2249.94 1536.19 L2264.31 1514.29 Z\" fill=\"#000000\" fill-rule=\"evenodd\" fill-opacity=\"1\" /><path clip-path=\"url(#clip620)\" d=\"M2292.85 1517.37 Q2289.24 1517.37 2287.42 1520.93 Q2285.61 1524.47 2285.61 1531.6 Q2285.61 1538.71 2287.42 1542.27 Q2289.24 1545.82 2292.85 1545.82 Q2296.49 1545.82 2298.29 1542.27 Q2300.12 1538.71 2300.12 1531.6 Q2300.12 1524.47 2298.29 1520.93 Q2296.49 1517.37 2292.85 1517.37 M2292.85 1513.66 Q2298.66 1513.66 2301.72 1518.27 Q2304.8 1522.85 2304.8 1531.6 Q2304.8 1540.33 2301.72 1544.94 Q2298.66 1549.52 2292.85 1549.52 Q2287.04 1549.52 2283.97 1544.94 Q2280.91 1540.33 2280.91 1531.6 Q2280.91 1522.85 2283.97 1518.27 Q2287.04 1513.66 2292.85 1513.66 Z\" fill=\"#000000\" fill-rule=\"evenodd\" fill-opacity=\"1\" /><polyline clip-path=\"url(#clip622)\" style=\"stroke:#000000; stroke-linecap:butt; stroke-linejoin:round; stroke-width:2; stroke-opacity:0.1; fill:none\" points=\"\n",
       "  195.514,1264.53 2352.76,1264.53 \n",
       "  \"/>\n",
       "<polyline clip-path=\"url(#clip622)\" style=\"stroke:#000000; stroke-linecap:butt; stroke-linejoin:round; stroke-width:2; stroke-opacity:0.1; fill:none\" points=\"\n",
       "  195.514,632.432 2352.76,632.432 \n",
       "  \"/>\n",
       "<polyline clip-path=\"url(#clip620)\" style=\"stroke:#000000; stroke-linecap:butt; stroke-linejoin:round; stroke-width:4; stroke-opacity:1; fill:none\" points=\"\n",
       "  195.514,1486.45 195.514,47.2441 \n",
       "  \"/>\n",
       "<polyline clip-path=\"url(#clip620)\" style=\"stroke:#000000; stroke-linecap:butt; stroke-linejoin:round; stroke-width:4; stroke-opacity:1; fill:none\" points=\"\n",
       "  195.514,1264.53 214.412,1264.53 \n",
       "  \"/>\n",
       "<polyline clip-path=\"url(#clip620)\" style=\"stroke:#000000; stroke-linecap:butt; stroke-linejoin:round; stroke-width:4; stroke-opacity:1; fill:none\" points=\"\n",
       "  195.514,632.432 214.412,632.432 \n",
       "  \"/>\n",
       "<path clip-path=\"url(#clip620)\" d=\"M51.6634 1284.32 L59.3023 1284.32 L59.3023 1257.95 L50.9921 1259.62 L50.9921 1255.36 L59.256 1253.69 L63.9319 1253.69 L63.9319 1284.32 L71.5707 1284.32 L71.5707 1288.25 L51.6634 1288.25 L51.6634 1284.32 Z\" fill=\"#000000\" fill-rule=\"evenodd\" fill-opacity=\"1\" /><path clip-path=\"url(#clip620)\" d=\"M91.0151 1256.77 Q87.404 1256.77 85.5753 1260.34 Q83.7697 1263.88 83.7697 1271.01 Q83.7697 1278.12 85.5753 1281.68 Q87.404 1285.22 91.0151 1285.22 Q94.6493 1285.22 96.4548 1281.68 Q98.2835 1278.12 98.2835 1271.01 Q98.2835 1263.88 96.4548 1260.34 Q94.6493 1256.77 91.0151 1256.77 M91.0151 1253.07 Q96.8252 1253.07 99.8808 1257.68 Q102.959 1262.26 102.959 1271.01 Q102.959 1279.74 99.8808 1284.34 Q96.8252 1288.93 91.0151 1288.93 Q85.2049 1288.93 82.1262 1284.34 Q79.0707 1279.74 79.0707 1271.01 Q79.0707 1262.26 82.1262 1257.68 Q85.2049 1253.07 91.0151 1253.07 Z\" fill=\"#000000\" fill-rule=\"evenodd\" fill-opacity=\"1\" /><path clip-path=\"url(#clip620)\" d=\"M112.664 1235.27 Q109.73 1235.27 108.244 1238.16 Q106.777 1241.04 106.777 1246.83 Q106.777 1252.61 108.244 1255.5 Q109.73 1258.38 112.664 1258.38 Q115.617 1258.38 117.084 1255.5 Q118.57 1252.61 118.57 1246.83 Q118.57 1241.04 117.084 1238.16 Q115.617 1235.27 112.664 1235.27 M112.664 1232.26 Q117.385 1232.26 119.868 1236 Q122.369 1239.72 122.369 1246.83 Q122.369 1253.92 119.868 1257.67 Q117.385 1261.39 112.664 1261.39 Q107.943 1261.39 105.442 1257.67 Q102.959 1253.92 102.959 1246.83 Q102.959 1239.72 105.442 1236 Q107.943 1232.26 112.664 1232.26 Z\" fill=\"#000000\" fill-rule=\"evenodd\" fill-opacity=\"1\" /><path clip-path=\"url(#clip620)\" d=\"M129.046 1256.07 L133.014 1256.07 L133.014 1260.84 L129.046 1260.84 L129.046 1256.07 Z\" fill=\"#000000\" fill-rule=\"evenodd\" fill-opacity=\"1\" /><path clip-path=\"url(#clip620)\" d=\"M151.728 1236.07 L142.136 1251.06 L151.728 1251.06 L151.728 1236.07 M150.731 1232.76 L155.508 1232.76 L155.508 1251.06 L159.514 1251.06 L159.514 1254.22 L155.508 1254.22 L155.508 1260.84 L151.728 1260.84 L151.728 1254.22 L139.052 1254.22 L139.052 1250.56 L150.731 1232.76 Z\" fill=\"#000000\" fill-rule=\"evenodd\" fill-opacity=\"1\" /><path clip-path=\"url(#clip620)\" d=\"M51.9267 652.225 L59.5656 652.225 L59.5656 625.859 L51.2554 627.526 L51.2554 623.266 L59.5193 621.6 L64.1952 621.6 L64.1952 652.225 L71.834 652.225 L71.834 656.16 L51.9267 656.16 L51.9267 652.225 Z\" fill=\"#000000\" fill-rule=\"evenodd\" fill-opacity=\"1\" /><path clip-path=\"url(#clip620)\" d=\"M91.2784 624.678 Q87.6673 624.678 85.8386 628.243 Q84.033 631.785 84.033 638.914 Q84.033 646.021 85.8386 649.586 Q87.6673 653.127 91.2784 653.127 Q94.9126 653.127 96.7182 649.586 Q98.5468 646.021 98.5468 638.914 Q98.5468 631.785 96.7182 628.243 Q94.9126 624.678 91.2784 624.678 M91.2784 620.975 Q97.0885 620.975 100.144 625.581 Q103.223 630.164 103.223 638.914 Q103.223 647.641 100.144 652.248 Q97.0885 656.831 91.2784 656.831 Q85.4682 656.831 82.3895 652.248 Q79.334 647.641 79.334 638.914 Q79.334 630.164 82.3895 625.581 Q85.4682 620.975 91.2784 620.975 Z\" fill=\"#000000\" fill-rule=\"evenodd\" fill-opacity=\"1\" /><path clip-path=\"url(#clip620)\" d=\"M112.928 603.171 Q109.994 603.171 108.508 606.067 Q107.041 608.945 107.041 614.737 Q107.041 620.511 108.508 623.408 Q109.994 626.285 112.928 626.285 Q115.88 626.285 117.347 623.408 Q118.833 620.511 118.833 614.737 Q118.833 608.945 117.347 606.067 Q115.88 603.171 112.928 603.171 M112.928 600.161 Q117.648 600.161 120.131 603.904 Q122.632 607.628 122.632 614.737 Q122.632 621.828 120.131 625.571 Q117.648 629.295 112.928 629.295 Q108.207 629.295 105.705 625.571 Q103.223 621.828 103.223 614.737 Q103.223 607.628 105.705 603.904 Q108.207 600.161 112.928 600.161 Z\" fill=\"#000000\" fill-rule=\"evenodd\" fill-opacity=\"1\" /><path clip-path=\"url(#clip620)\" d=\"M129.309 623.972 L133.278 623.972 L133.278 628.749 L129.309 628.749 L129.309 623.972 Z\" fill=\"#000000\" fill-rule=\"evenodd\" fill-opacity=\"1\" /><path clip-path=\"url(#clip620)\" d=\"M150.148 613.195 Q147.59 613.195 146.086 614.944 Q144.6 616.693 144.6 619.74 Q144.6 622.768 146.086 624.536 Q147.59 626.285 150.148 626.285 Q152.706 626.285 154.192 624.536 Q155.696 622.768 155.696 619.74 Q155.696 616.693 154.192 614.944 Q152.706 613.195 150.148 613.195 M157.69 601.29 L157.69 604.751 Q156.261 604.073 154.794 603.716 Q153.345 603.359 151.916 603.359 Q148.155 603.359 146.161 605.898 Q144.186 608.437 143.904 613.571 Q145.014 611.935 146.688 611.07 Q148.361 610.186 150.374 610.186 Q154.606 610.186 157.051 612.763 Q159.514 615.321 159.514 619.74 Q159.514 624.066 156.957 626.68 Q154.399 629.295 150.148 629.295 Q145.277 629.295 142.7 625.571 Q140.124 621.828 140.124 614.737 Q140.124 608.08 143.283 604.13 Q146.443 600.161 151.766 600.161 Q153.195 600.161 154.643 600.444 Q156.11 600.726 157.69 601.29 Z\" fill=\"#000000\" fill-rule=\"evenodd\" fill-opacity=\"1\" /><polyline clip-path=\"url(#clip622)\" style=\"stroke:#009af9; stroke-linecap:butt; stroke-linejoin:round; stroke-width:4; stroke-opacity:1; fill:none\" points=\"\n",
       "  2245.34,87.9763 2291.7,643.47 889.84,649.899 2093.41,685.169 811.814,691.355 1926.33,725.462 745.933,731.443 1784.62,764.565 689.907,770.372 1663.44,802.647 \n",
       "  641.849,808.303 1558.83,839.84 600.224,845.363 1467.59,876.244 563.794,881.65 1387.17,911.941 531.572,917.241 1315.53,946.994 502.776,952.198 1251.09,981.455 \n",
       "  476.791,986.57 1192.58,1015.37 453.134,1020.4 1139.03,1048.76 431.428,1053.72 1089.65,1081.67 411.373,1086.55 1043.85,1114.12 392.737,1118.93 1001.14,1146.12 \n",
       "  375.332,1150.87 961.133,1177.71 359.011,1182.4 923.527,1208.9 343.652,1213.53 888.069,1239.71 329.158,1244.28 854.551,1270.14 315.447,1274.66 822.8,1300.22 \n",
       "  302.451,1304.68 792.67,1329.96 290.112,1334.37 764.034,1359.36 278.38,1363.72 736.784,1388.45 267.211,1392.76 710.824,1417.23 256.568,1421.5 686.07,1445.72 \n",
       "  \n",
       "  \"/>\n",
       "<path clip-path=\"url(#clip620)\" d=\"\n",
       "M1988.72 198.898 L2280.85 198.898 L2280.85 95.2176 L1988.72 95.2176  Z\n",
       "  \" fill=\"#ffffff\" fill-rule=\"evenodd\" fill-opacity=\"1\"/>\n",
       "<polyline clip-path=\"url(#clip620)\" style=\"stroke:#000000; stroke-linecap:butt; stroke-linejoin:round; stroke-width:4; stroke-opacity:1; fill:none\" points=\"\n",
       "  1988.72,198.898 2280.85,198.898 2280.85,95.2176 1988.72,95.2176 1988.72,198.898 \n",
       "  \"/>\n",
       "<polyline clip-path=\"url(#clip620)\" style=\"stroke:#009af9; stroke-linecap:butt; stroke-linejoin:round; stroke-width:4; stroke-opacity:1; fill:none\" points=\"\n",
       "  2012.69,147.058 2156.51,147.058 \n",
       "  \"/>\n",
       "<path clip-path=\"url(#clip620)\" d=\"M2194.32 166.745 Q2192.52 171.375 2190.8 172.787 Q2189.09 174.199 2186.22 174.199 L2182.82 174.199 L2182.82 170.634 L2185.32 170.634 Q2187.08 170.634 2188.05 169.8 Q2189.02 168.967 2190.2 165.865 L2190.96 163.921 L2180.48 138.412 L2184.99 138.412 L2193.09 158.689 L2201.2 138.412 L2205.71 138.412 L2194.32 166.745 Z\" fill=\"#000000\" fill-rule=\"evenodd\" fill-opacity=\"1\" /><path clip-path=\"url(#clip620)\" d=\"M2213 160.402 L2220.64 160.402 L2220.64 134.037 L2212.33 135.703 L2212.33 131.444 L2220.59 129.778 L2225.27 129.778 L2225.27 160.402 L2232.91 160.402 L2232.91 164.338 L2213 164.338 L2213 160.402 Z\" fill=\"#000000\" fill-rule=\"evenodd\" fill-opacity=\"1\" /></svg>\n"
      ]
     },
     "execution_count": 70,
     "metadata": {},
     "output_type": "execute_result"
    }
   ],
   "source": [
    "using Plots\n",
    "plot(SDErrs[:,1],SDErrs[:,2],yaxis=:log)"
   ]
  },
  {
   "cell_type": "code",
   "execution_count": null,
   "id": "22c7bda2-51fc-44da-8a10-5fa2b4d8286f",
   "metadata": {},
   "outputs": [],
   "source": []
  }
 ],
 "metadata": {
  "kernelspec": {
   "display_name": "Julia 1.6.3",
   "language": "julia",
   "name": "julia-1.6"
  },
  "language_info": {
   "file_extension": ".jl",
   "mimetype": "application/julia",
   "name": "julia",
   "version": "1.6.3"
  }
 },
 "nbformat": 4,
 "nbformat_minor": 5
}
