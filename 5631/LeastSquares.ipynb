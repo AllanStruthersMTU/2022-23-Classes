{
 "cells": [
  {
   "cell_type": "markdown",
   "id": "7b756372-dbf1-4c78-9003-cd8d725a560b",
   "metadata": {},
   "source": [
    "# Least Squares\n",
    "Just like matlab Julia overloads the linear solve command to do least squares"
   ]
  },
  {
   "cell_type": "code",
   "execution_count": 1,
   "id": "bf53d963-3962-4947-928a-3b806260c80d",
   "metadata": {},
   "outputs": [
    {
     "data": {
      "text/plain": [
       "15-element Vector{Float64}:\n",
       "  0.31378861449274775\n",
       " -0.1304205900837143\n",
       "  0.15364140071749938\n",
       "  0.3489430152841211\n",
       "  0.025323517732985475\n",
       "  0.17977275714418392\n",
       "  0.24495674825058886\n",
       "  0.4767881026484384\n",
       " -0.8021327538943351\n",
       " -0.23302755101354958\n",
       " -0.12558829535397006\n",
       "  0.427276196342874\n",
       "  0.471644318794408\n",
       " -0.1445282860785001\n",
       "  0.00949501263677616"
      ]
     },
     "execution_count": 1,
     "metadata": {},
     "output_type": "execute_result"
    }
   ],
   "source": [
    "using LinearAlgebra;\n",
    "(m,n)=(17,15)\n",
    "A = rand(m,n); b=rand(m);\n",
    "xLS=A\\b"
   ]
  },
  {
   "cell_type": "markdown",
   "id": "8dc6a029-1a96-4165-9451-add5a6df25de",
   "metadata": {
    "tags": []
   },
   "source": [
    "# QR algorithm"
   ]
  },
  {
   "cell_type": "code",
   "execution_count": 5,
   "id": "5ba017b6-ffc3-4886-b49e-5a9bd0d3150a",
   "metadata": {},
   "outputs": [
    {
     "data": {
      "text/plain": [
       "1.424960657549164e-14"
      ]
     },
     "execution_count": 5,
     "metadata": {},
     "output_type": "execute_result"
    }
   ],
   "source": [
    "using LinearAlgebra;\n",
    "(m,n)=(17,15)\n",
    "A = rand(m,n); b=rand(m);\n",
    "xLS=A\\b\n",
    "(Q,R) = qr(A) # Q comes out as a \"fancy\" square matrix\n",
    "Q=Matrix(Q)   # Fix Q to be a plain boring matrix\n",
    "xQR=R\\(Q'*b)\n",
    "norm(xLS-xQR)"
   ]
  },
  {
   "cell_type": "markdown",
   "id": "f1d2267b-cd4f-4b7f-b5b4-1bc5dd2cb880",
   "metadata": {
    "tags": []
   },
   "source": [
    "## Normal Equations"
   ]
  },
  {
   "cell_type": "code",
   "execution_count": 7,
   "id": "505db829-8bc8-41d3-9a60-aa5a777530e3",
   "metadata": {},
   "outputs": [
    {
     "data": {
      "text/plain": [
       "1.5702858870664672e-13"
      ]
     },
     "execution_count": 7,
     "metadata": {},
     "output_type": "execute_result"
    }
   ],
   "source": [
    "using LinearAlgebra;\n",
    "(m,n)=(17,15)\n",
    "A = rand(m,n); b=rand(m);\n",
    "xLS=A\\b\n",
    "xNE = (A'*A)\\(A'*b)\n",
    "norm(xLS-xNE)"
   ]
  },
  {
   "cell_type": "markdown",
   "id": "6f423e86-c6fa-40c1-b185-ba36da7dfd3a",
   "metadata": {},
   "source": [
    "## SVD "
   ]
  },
  {
   "cell_type": "code",
   "execution_count": 8,
   "id": "ece572fc-8f45-4892-b997-a5eeaecaff1a",
   "metadata": {},
   "outputs": [
    {
     "data": {
      "text/plain": [
       "3.5609440818195336e-15"
      ]
     },
     "execution_count": 8,
     "metadata": {},
     "output_type": "execute_result"
    }
   ],
   "source": [
    "using LinearAlgebra;\n",
    "(m,n)=(17,15)\n",
    "A = rand(m,n); b=rand(m);\n",
    "xLS=A\\b\n",
    "(U,S,V) = svd(A)  # S is a vector\n",
    "S = diagm(S)      # fixing S\n",
    "xSVD = V*(S\\(U'*b))\n",
    "norm(xSVD-xLS)"
   ]
  },
  {
   "cell_type": "markdown",
   "id": "d82b1ec1-a29d-493f-89bb-b7a6eb68eb56",
   "metadata": {},
   "source": [
    "# Which Algorithm"
   ]
  },
  {
   "cell_type": "code",
   "execution_count": 11,
   "id": "64be3f92-6988-4c82-adc4-664b6fc0adc1",
   "metadata": {},
   "outputs": [
    {
     "data": {
      "text/plain": [
       "(3.7308708385073214e-13, 8.689434748634407e-15, 1.3619529826698178e-14)"
      ]
     },
     "execution_count": 11,
     "metadata": {},
     "output_type": "execute_result"
    }
   ],
   "source": [
    "using LinearAlgebra;\n",
    "(m,n)=(175,156)\n",
    "A = rand(m,n); b=rand(m);\n",
    "xLS=A\\b\n",
    "# SVD\n",
    "(U,S,V) = svd(A)  # S is a vector\n",
    "S = diagm(S)      # fixing S\n",
    "xSVD = V*(S\\(U'*b))\n",
    "# NE\n",
    "xNE = (A'*A)\\(A'*b)\n",
    "# QR\n",
    "(Q,R) = qr(A) # Q comes out as a \"fancy\" square matrix\n",
    "Q=Matrix(Q)   # Fix Q to be a plain boring matrix\n",
    "xQR=R\\(Q'*b)\n",
    "# Comparison\n",
    "(norm(xNE-xLS),norm(xQR-xLS),norm(xSVD-xLS))"
   ]
  },
  {
   "cell_type": "markdown",
   "id": "48040348-59d1-4b19-a117-e8b62957a3d7",
   "metadata": {},
   "source": [
    "I think this indicates that it is probably a QR based algorithm.  It may say in the documentation."
   ]
  }
 ],
 "metadata": {
  "kernelspec": {
   "display_name": "Julia 1.6.3",
   "language": "julia",
   "name": "julia-1.6"
  },
  "language_info": {
   "file_extension": ".jl",
   "mimetype": "application/julia",
   "name": "julia",
   "version": "1.6.3"
  }
 },
 "nbformat": 4,
 "nbformat_minor": 5
}
