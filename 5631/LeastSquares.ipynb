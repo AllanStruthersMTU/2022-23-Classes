{
 "cells": [
  {
   "cell_type": "markdown",
   "id": "7b756372-dbf1-4c78-9003-cd8d725a560b",
   "metadata": {},
   "source": [
    "# Least Squares\n",
    "Just like matlab Julia overloads the linear solve command to do least squares"
   ]
  },
  {
   "cell_type": "code",
   "execution_count": 2,
   "id": "bf53d963-3962-4947-928a-3b806260c80d",
   "metadata": {},
   "outputs": [
    {
     "data": {
      "text/plain": [
       "15-element Vector{Float64}:\n",
       " -0.3662429604412544\n",
       "  0.051840443289334515\n",
       "  1.1916547764112062\n",
       " -0.562048892737243\n",
       " -0.3719895338885824\n",
       " -0.36227474339989585\n",
       " -0.20855054107122\n",
       "  0.048760153927142266\n",
       "  0.18726293381582518\n",
       "  0.6819869043858325\n",
       " -0.4017116066661222\n",
       "  0.6175556862214256\n",
       "  0.5487665424775754\n",
       " -0.7040702590613722\n",
       "  0.6383795026401576"
      ]
     },
     "execution_count": 2,
     "metadata": {},
     "output_type": "execute_result"
    }
   ],
   "source": [
    "using LinearAlgebra;\n",
    "(m,n)=(17,15)\n",
    "A = rand(m,n); b=rand(m);\n",
    "xLS=A\\b"
   ]
  },
  {
   "cell_type": "markdown",
   "id": "8dc6a029-1a96-4165-9451-add5a6df25de",
   "metadata": {
    "tags": []
   },
   "source": [
    "# QR algorithm"
   ]
  },
  {
   "cell_type": "code",
   "execution_count": 12,
   "id": "5ba017b6-ffc3-4886-b49e-5a9bd0d3150a",
   "metadata": {},
   "outputs": [
    {
     "data": {
      "text/plain": [
       "2.7895480825424637e-15"
      ]
     },
     "execution_count": 12,
     "metadata": {},
     "output_type": "execute_result"
    }
   ],
   "source": [
    "using LinearAlgebra;\n",
    "(m,n)=(17,15)\n",
    "A = rand(m,n); b=rand(m);\n",
    "xLS=A\\b\n",
    "(Q,R) = qr(A) # Q comes out as a \"fancy\" square matrix\n",
    "Q=Matrix(Q)   # Fix Q to be a plain boring matrix\n",
    "xQR=R\\(Q'*b)\n",
    "norm(xLS-xQR)"
   ]
  },
  {
   "cell_type": "markdown",
   "id": "f1d2267b-cd4f-4b7f-b5b4-1bc5dd2cb880",
   "metadata": {
    "tags": []
   },
   "source": [
    "## Normal Equations"
   ]
  },
  {
   "cell_type": "code",
   "execution_count": 13,
   "id": "505db829-8bc8-41d3-9a60-aa5a777530e3",
   "metadata": {},
   "outputs": [
    {
     "data": {
      "text/plain": [
       "6.774713583399086e-13"
      ]
     },
     "execution_count": 13,
     "metadata": {},
     "output_type": "execute_result"
    }
   ],
   "source": [
    "using LinearAlgebra;\n",
    "(m,n)=(17,15)\n",
    "A = rand(m,n); b=rand(m);\n",
    "xLS=A\\b\n",
    "xNE = (A'*A)\\(A'*b)\n",
    "norm(xLS-xNE)"
   ]
  },
  {
   "cell_type": "markdown",
   "id": "6f423e86-c6fa-40c1-b185-ba36da7dfd3a",
   "metadata": {},
   "source": [
    "## SVD "
   ]
  },
  {
   "cell_type": "code",
   "execution_count": 19,
   "id": "ece572fc-8f45-4892-b997-a5eeaecaff1a",
   "metadata": {},
   "outputs": [
    {
     "data": {
      "text/plain": [
       "6.382349198278188e-15"
      ]
     },
     "execution_count": 19,
     "metadata": {},
     "output_type": "execute_result"
    }
   ],
   "source": [
    "using LinearAlgebra;\n",
    "(m,n)=(17,15)\n",
    "A = rand(m,n); b=rand(m);\n",
    "xLS=A\\b\n",
    "(U,S,V) = svd(A)  # S is a vector\n",
    "S = diagm(S)      # fixing S\n",
    "xSVD = V*(S\\(U'*b))\n",
    "norm(xSVD-xLS)"
   ]
  },
  {
   "cell_type": "markdown",
   "id": "d82b1ec1-a29d-493f-89bb-b7a6eb68eb56",
   "metadata": {},
   "source": [
    "# Which Algorithm"
   ]
  },
  {
   "cell_type": "code",
   "execution_count": 22,
   "id": "64be3f92-6988-4c82-adc4-664b6fc0adc1",
   "metadata": {},
   "outputs": [
    {
     "data": {
      "text/plain": [
       "(8.536827410690382e-13, 8.43495678747835e-15, 1.6239739667711357e-14)"
      ]
     },
     "execution_count": 22,
     "metadata": {},
     "output_type": "execute_result"
    }
   ],
   "source": [
    "using LinearAlgebra;\n",
    "(m,n)=(175,156)\n",
    "A = rand(m,n); b=rand(m);\n",
    "xLS=A\\b\n",
    "# SVD\n",
    "(U,S,V) = svd(A)  # S is a vector\n",
    "S = diagm(S)      # fixing S\n",
    "xSVD = V*(S\\(U'*b))\n",
    "# NE\n",
    "xNE = (A'*A)\\(A'*b)\n",
    "# QR\n",
    "(Q,R) = qr(A) # Q comes out as a \"fancy\" square matrix\n",
    "Q=Matrix(Q)   # Fix Q to be a plain boring matrix\n",
    "xQR=R\\(Q'*b)\n",
    "# Comparison\n",
    "(norm(xNE-xLS),norm(xQR-xLS),norm(xSVD-xLS))"
   ]
  },
  {
   "cell_type": "markdown",
   "id": "48040348-59d1-4b19-a117-e8b62957a3d7",
   "metadata": {},
   "source": [
    "I think this indicates that it is probably a QR based algorithm.  It may say in the documentation."
   ]
  }
 ],
 "metadata": {
  "kernelspec": {
   "display_name": "Julia 1.6.3",
   "language": "julia",
   "name": "julia-1.6"
  },
  "language_info": {
   "file_extension": ".jl",
   "mimetype": "application/julia",
   "name": "julia",
   "version": "1.6.3"
  }
 },
 "nbformat": 4,
 "nbformat_minor": 5
}
