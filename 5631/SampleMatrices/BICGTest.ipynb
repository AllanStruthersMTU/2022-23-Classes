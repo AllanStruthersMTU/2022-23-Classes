{
 "cells": [
  {
   "cell_type": "markdown",
   "id": "10dde791-35c0-41a1-8b8a-e57445f5f567",
   "metadata": {},
   "source": [
    "# Goals\n",
    "The aim is to recreate FE versions of the test problems form the BICGStab paper and export them as mtx files."
   ]
  },
  {
   "cell_type": "markdown",
   "id": "cbec7605-21ea-4c92-b387-eaa08e70bc30",
   "metadata": {},
   "source": [
    "## Set Up"
   ]
  },
  {
   "cell_type": "code",
   "execution_count": 52,
   "id": "196fc748-60e2-44e2-b35f-678515892af1",
   "metadata": {},
   "outputs": [
    {
     "data": {
      "text/plain": [
       "GenericSparseMatrixAssembler()"
      ]
     },
     "execution_count": 52,
     "metadata": {},
     "output_type": "execute_result"
    }
   ],
   "source": [
    "using Gridap\n",
    "\n",
    "n = 8; Omega = (0.0,1.0,0.0,1.0);\n",
    "Grid = CartesianDiscreteModel(Omega, (n,n))\n",
    "# Grid has 4 corners and 4 edges\n",
    "# \"boundary\" is all elements of the boundary of Omega\n",
    "# Tags 1-4 are the corners and Tags 5-8 are the edges.\n",
    "# Label each of the six sides differently\n",
    "# boundary\n",
    "Tags = get_face_labeling(Grid)\n",
    "add_tag_from_tags!(Tags,\"y=0\",[1,2,5])\n",
    "add_tag_from_tags!(Tags,\"OtherEdges\",[3,4,6,7,8])\n",
    "# Piecewise linear Lagrange elements\n",
    "order = 1; Elements = ReferenceFE(lagrangian,Float64,order)\n",
    "V = TestFESpace(Grid,Elements;conformity=:H1,dirichlet_tags=\"y=0\")\n",
    "# Incorporating Homogeneous Dirichlet boundary conditions.\n",
    "g(x) = 0.0\n",
    "U = TrialFESpace(V,g)\n",
    "# Triangulating and defining measures\n",
    "degree = 2\n",
    "Ω = Triangulation(Grid)\n",
    "dΩ = Measure(Ω,degree)\n",
    "# Setting up boundary triangulation/measure for Neumann conditions \n",
    "Γ = BoundaryTriangulation(Grid,tags=\"OtherEdges\")\n",
    "dΓ = Measure(Γ,degree)\n",
    "# Setting up a simple test problem\n",
    "f(x) = 1.0; h(x) = 3.0\n",
    "a(u,v) = ∫( ∇(v)⋅∇(u) )*dΩ\n",
    "b(v) = ∫( v*f )*dΩ + ∫( v*h )*dΓ\n",
    "# Set up FE operator\n",
    "op = AffineFEOperator(a,b,U,V)\n",
    "# Set up assembler\n",
    "# Define Assembler\n",
    "assem = SparseMatrixAssembler(V,U)"
   ]
  },
  {
   "cell_type": "code",
   "execution_count": 45,
   "id": "262a9029-3b92-4544-9092-e364d108ee9e",
   "metadata": {},
   "outputs": [
    {
     "data": {
      "text/plain": [
       "(:trial, :test, :op)"
      ]
     },
     "execution_count": 45,
     "metadata": {},
     "output_type": "execute_result"
    }
   ],
   "source": [
    "fieldnames(AffineFEOperator)"
   ]
  },
  {
   "cell_type": "code",
   "execution_count": 51,
   "id": "39508e71-bc53-44ab-9fd9-05e39f5d6187",
   "metadata": {},
   "outputs": [
    {
     "data": {
      "text/plain": [
       "UnconstrainedFESpace()"
      ]
     },
     "execution_count": 51,
     "metadata": {},
     "output_type": "execute_result"
    }
   ],
   "source": [
    "op.test"
   ]
  },
  {
   "cell_type": "raw",
   "id": "c425a251-52f9-48d0-b033-3e575996108f",
   "metadata": {},
   "source": [
    "op.trial"
   ]
  },
  {
   "cell_type": "code",
   "execution_count": 29,
   "id": "6eacfaea-0532-4f0c-9f09-d3a759aaa6cb",
   "metadata": {},
   "outputs": [
    {
     "data": {
      "text/plain": [
       "UnconstrainedFESpace()"
      ]
     },
     "execution_count": 29,
     "metadata": {},
     "output_type": "execute_result"
    }
   ],
   "source": [
    "# Piecewise linear Lagrange elements\n",
    "order = 1; Elements = ReferenceFE(lagrangian,Float64,order)\n",
    "V0 = TestFESpace(Grid,Elements;conformity=:H1,dirichlet_tags=\"boundary\")"
   ]
  },
  {
   "cell_type": "code",
   "execution_count": 10,
   "id": "591f6345-4022-49e7-ab52-59a8f2586378",
   "metadata": {},
   "outputs": [
    {
     "ename": "LoadError",
     "evalue": "MethodError: no method matching Gridap.Geometry.CartesianDescriptor(; domain=(0.0, 1.0, 0.0, 1.0), partition=(4, 4))\n\u001b[0mClosest candidates are:\n\u001b[0m  Gridap.Geometry.CartesianDescriptor(\u001b[91m::VectorValue{D, T} where T\u001b[39m, \u001b[91m::VectorValue{D, T} where T\u001b[39m, \u001b[91m::Any\u001b[39m; map, isperiodic) where D at C:\\Users\\struther\\.julia\\packages\\Gridap\\oABgW\\src\\Geometry\\CartesianGrids.jl:82\u001b[91m got unsupported keyword arguments \"domain\", \"partition\"\u001b[39m\n\u001b[0m  Gridap.Geometry.CartesianDescriptor(\u001b[91m::VectorValue{D, T} where T\u001b[39m, \u001b[91m::VectorValue{D, T} where T\u001b[39m, \u001b[91m::Any\u001b[39m, \u001b[91m::Function\u001b[39m) where D at deprecated.jl:70\u001b[91m got unsupported keyword arguments \"domain\", \"partition\"\u001b[39m\n\u001b[0m  Gridap.Geometry.CartesianDescriptor(\u001b[91m::VectorValue{D, T} where T\u001b[39m, \u001b[91m::Tuple{Vararg{T, D}} where T\u001b[39m, \u001b[91m::Any\u001b[39m; map, isperiodic) where D at C:\\Users\\struther\\.julia\\packages\\Gridap\\oABgW\\src\\Geometry\\CartesianGrids.jl:30\u001b[91m got unsupported keyword arguments \"domain\", \"partition\"\u001b[39m\n\u001b[0m  ...",
     "output_type": "error",
     "traceback": [
      "MethodError: no method matching Gridap.Geometry.CartesianDescriptor(; domain=(0.0, 1.0, 0.0, 1.0), partition=(4, 4))\n\u001b[0mClosest candidates are:\n\u001b[0m  Gridap.Geometry.CartesianDescriptor(\u001b[91m::VectorValue{D, T} where T\u001b[39m, \u001b[91m::VectorValue{D, T} where T\u001b[39m, \u001b[91m::Any\u001b[39m; map, isperiodic) where D at C:\\Users\\struther\\.julia\\packages\\Gridap\\oABgW\\src\\Geometry\\CartesianGrids.jl:82\u001b[91m got unsupported keyword arguments \"domain\", \"partition\"\u001b[39m\n\u001b[0m  Gridap.Geometry.CartesianDescriptor(\u001b[91m::VectorValue{D, T} where T\u001b[39m, \u001b[91m::VectorValue{D, T} where T\u001b[39m, \u001b[91m::Any\u001b[39m, \u001b[91m::Function\u001b[39m) where D at deprecated.jl:70\u001b[91m got unsupported keyword arguments \"domain\", \"partition\"\u001b[39m\n\u001b[0m  Gridap.Geometry.CartesianDescriptor(\u001b[91m::VectorValue{D, T} where T\u001b[39m, \u001b[91m::Tuple{Vararg{T, D}} where T\u001b[39m, \u001b[91m::Any\u001b[39m; map, isperiodic) where D at C:\\Users\\struther\\.julia\\packages\\Gridap\\oABgW\\src\\Geometry\\CartesianGrids.jl:30\u001b[91m got unsupported keyword arguments \"domain\", \"partition\"\u001b[39m\n\u001b[0m  ...",
      "",
      "Stacktrace:",
      " [1] CartesianDiscreteModel(; kwargs::Base.Iterators.Pairs{Symbol, Tuple{Real, Real, Vararg{Float64, N} where N}, Tuple{Symbol, Symbol}, NamedTuple{(:domain, :partition), Tuple{NTuple{4, Float64}, Tuple{Int64, Int64}}}})",
      "   @ Gridap.Geometry C:\\Users\\struther\\.julia\\packages\\Gridap\\oABgW\\src\\Geometry\\CartesianDiscreteModels.jl:78",
      " [2] top-level scope",
      "   @ In[10]:10",
      " [3] eval",
      "   @ .\\boot.jl:360 [inlined]",
      " [4] include_string(mapexpr::typeof(REPL.softscope), mod::Module, code::String, filename::String)",
      "   @ Base .\\loading.jl:1116"
     ]
    }
   ],
   "source": [
    "# Construct the discrete model\n",
    "model = CartesianDiscreteModel(domain=(0.0,1.0,0.0,1.0), partition=(4,4))\n",
    "\n",
    "# Construct the FEspace\n",
    "order = 1\n",
    "diritag = \"boundary\"\n",
    "fespace = ConformingFESpace(Float64,model,order,diritag)\n",
    "\n",
    "# Define test and trial spaces\n",
    "V = TestFESpace(fespace)\n",
    "U = TrialFESpace(fespace,ufun)\n",
    "\n",
    "# Define integration mesh and quadrature\n",
    "trian = Triangulation(model)\n",
    "quad = CellQuadrature(trian,order=2)\n",
    "\n",
    "# Define the source term\n",
    "bfield = CellField(trian,bfun)\n",
    "\n",
    "# Define forms of the problem\n",
    "a(v,u) = inner(∇(v), ∇(u))\n",
    "b(v) = inner(v,bfield)\n",
    "\n",
    "# Define Assembler\n",
    "assem = SparseMatrixAssembler(V,U)\n",
    "\n",
    "# Define the FEOperator\n",
    "op = LinearFEOperator(a,b,V,U,assem,trian,quad)\n",
    "degree = 2\n",
    "Ω = Triangulation(model)\n",
    "dΩ = Measure(Ω,degree)"
   ]
  },
  {
   "cell_type": "code",
   "execution_count": 8,
   "id": "eebda9e2-9a9d-465b-a6e6-0099724ad03d",
   "metadata": {},
   "outputs": [
    {
     "name": "stderr",
     "output_type": "stream",
     "text": [
      "\u001b[32m\u001b[1m   Resolving\u001b[22m\u001b[39m package versions...\n",
      "\u001b[32m\u001b[1m   Installed\u001b[22m\u001b[39m ArgCheck ──────────── v2.3.0\n",
      "\u001b[32m\u001b[1m   Installed\u001b[22m\u001b[39m Distances ─────────── v0.10.7\n",
      "\u001b[32m\u001b[1m   Installed\u001b[22m\u001b[39m NLSolversBase ─────── v7.8.3\n",
      "\u001b[32m\u001b[1m   Installed\u001b[22m\u001b[39m ArrayLayouts ──────── v0.8.14\n",
      "\u001b[32m\u001b[1m   Installed\u001b[22m\u001b[39m FastGaussQuadrature ─ v0.4.9\n",
      "\u001b[32m\u001b[1m   Installed\u001b[22m\u001b[39m LineSearches ──────── v7.1.1\n",
      "\u001b[32m\u001b[1m   Installed\u001b[22m\u001b[39m Combinatorics ─────── v1.0.2\n",
      "\u001b[32m\u001b[1m   Installed\u001b[22m\u001b[39m UnPack ────────────── v1.0.2\n",
      "\u001b[32m\u001b[1m   Installed\u001b[22m\u001b[39m Parameters ────────── v0.12.3\n",
      "\u001b[32m\u001b[1m   Installed\u001b[22m\u001b[39m NLsolve ───────────── v4.5.1\n",
      "\u001b[32m\u001b[1m   Installed\u001b[22m\u001b[39m BlockArrays ───────── v0.16.21\n",
      "\u001b[32m\u001b[1m   Installed\u001b[22m\u001b[39m LightXML ──────────── v0.9.0\n",
      "\u001b[32m\u001b[1m   Installed\u001b[22m\u001b[39m Gridap ────────────── v0.17.15\n",
      "\u001b[32m\u001b[1m   Installed\u001b[22m\u001b[39m WriteVTK ──────────── v1.16.0\n",
      "\u001b[32m\u001b[1m   Installed\u001b[22m\u001b[39m SparseMatricesCSR ─── v0.6.6\n",
      "\u001b[32m\u001b[1m   Installed\u001b[22m\u001b[39m NearestNeighbors ──── v0.4.12\n",
      "\u001b[32m\u001b[1m   Installed\u001b[22m\u001b[39m BSON ──────────────── v0.3.6\n",
      "\u001b[32m\u001b[1m   Installed\u001b[22m\u001b[39m PolynomialBases ───── v0.4.14\n",
      "\u001b[32m\u001b[1m   Installed\u001b[22m\u001b[39m AbstractTrees ─────── v0.4.3\n",
      "\u001b[32m\u001b[1m   Installed\u001b[22m\u001b[39m JLD2 ──────────────── v0.4.28\n",
      "\u001b[32m\u001b[1m    Updating\u001b[22m\u001b[39m `C:\\Users\\struther\\.julia\\environments\\v1.6\\Project.toml`\n",
      " \u001b[90m [56d4f2e9] \u001b[39m\u001b[92m+ Gridap v0.17.15\u001b[39m\n",
      "\u001b[32m\u001b[1m    Updating\u001b[22m\u001b[39m `C:\\Users\\struther\\.julia\\environments\\v1.6\\Manifest.toml`\n",
      " \u001b[90m [1520ce14] \u001b[39m\u001b[92m+ AbstractTrees v0.4.3\u001b[39m\n",
      " \u001b[90m [dce04be8] \u001b[39m\u001b[92m+ ArgCheck v2.3.0\u001b[39m\n",
      " \u001b[90m [4c555306] \u001b[39m\u001b[92m+ ArrayLayouts v0.8.14\u001b[39m\n",
      " \u001b[90m [fbb218c0] \u001b[39m\u001b[92m+ BSON v0.3.6\u001b[39m\n",
      " \u001b[90m [8e7c35d0] \u001b[39m\u001b[92m+ BlockArrays v0.16.21\u001b[39m\n",
      " \u001b[90m [861a8166] \u001b[39m\u001b[92m+ Combinatorics v1.0.2\u001b[39m\n",
      " \u001b[90m [b4f34e82] \u001b[39m\u001b[92m+ Distances v0.10.7\u001b[39m\n",
      " \u001b[90m [442a2c76] \u001b[39m\u001b[92m+ FastGaussQuadrature v0.4.9\u001b[39m\n",
      " \u001b[90m [56d4f2e9] \u001b[39m\u001b[92m+ Gridap v0.17.15\u001b[39m\n",
      " \u001b[90m [033835bb] \u001b[39m\u001b[92m+ JLD2 v0.4.28\u001b[39m\n",
      " \u001b[90m [9c8b4983] \u001b[39m\u001b[92m+ LightXML v0.9.0\u001b[39m\n",
      " \u001b[90m [d3d80556] \u001b[39m\u001b[92m+ LineSearches v7.1.1\u001b[39m\n",
      " \u001b[90m [d41bc354] \u001b[39m\u001b[92m+ NLSolversBase v7.8.3\u001b[39m\n",
      " \u001b[90m [2774e3e8] \u001b[39m\u001b[92m+ NLsolve v4.5.1\u001b[39m\n",
      " \u001b[90m [b8a86587] \u001b[39m\u001b[92m+ NearestNeighbors v0.4.12\u001b[39m\n",
      " \u001b[90m [d96e819e] \u001b[39m\u001b[92m+ Parameters v0.12.3\u001b[39m\n",
      " \u001b[90m [c74db56a] \u001b[39m\u001b[92m+ PolynomialBases v0.4.14\u001b[39m\n",
      " \u001b[90m [a0a7dd2c] \u001b[39m\u001b[92m+ SparseMatricesCSR v0.6.6\u001b[39m\n",
      " \u001b[90m [3a884ed6] \u001b[39m\u001b[92m+ UnPack v1.0.2\u001b[39m\n",
      " \u001b[90m [64499a7a] \u001b[39m\u001b[92m+ WriteVTK v1.16.0\u001b[39m\n",
      "\u001b[32m\u001b[1mPrecompiling\u001b[22m\u001b[39m project...\n",
      "\u001b[32m  ✓ \u001b[39m\u001b[90mUnPack\u001b[39m\n",
      "\u001b[32m  ✓ \u001b[39m\u001b[90mArgCheck\u001b[39m\n",
      "\u001b[32m  ✓ \u001b[39m\u001b[90mSparseMatricesCSR\u001b[39m\n",
      "\u001b[32m  ✓ \u001b[39m\u001b[90mAbstractTrees\u001b[39m\n",
      "\u001b[32m  ✓ \u001b[39m\u001b[90mDistances\u001b[39m\n",
      "\u001b[32m  ✓ \u001b[39m\u001b[90mCombinatorics\u001b[39m\n",
      "\u001b[32m  ✓ \u001b[39m\u001b[90mParameters\u001b[39m\n",
      "\u001b[32m  ✓ \u001b[39m\u001b[90mLightXML\u001b[39m\n",
      "\u001b[32m  ✓ \u001b[39m\u001b[90mBSON\u001b[39m\n",
      "\u001b[32m  ✓ \u001b[39m\u001b[90mWriteVTK\u001b[39m\n",
      "\u001b[32m  ✓ \u001b[39m\u001b[90mNearestNeighbors\u001b[39m\n",
      "\u001b[32m  ✓ \u001b[39m\u001b[90mNLSolversBase\u001b[39m\n",
      "\u001b[32m  ✓ \u001b[39m\u001b[90mArrayLayouts\u001b[39m\n",
      "\u001b[32m  ✓ \u001b[39m\u001b[90mFastGaussQuadrature\u001b[39m\n",
      "\u001b[32m  ✓ \u001b[39m\u001b[90mLineSearches\u001b[39m\n",
      "\u001b[32m  ✓ \u001b[39m\u001b[90mPolynomialBases\u001b[39m\n",
      "\u001b[32m  ✓ \u001b[39m\u001b[90mBlockArrays\u001b[39m\n",
      "\u001b[32m  ✓ \u001b[39m\u001b[90mNLsolve\u001b[39m\n",
      "\u001b[32m  ✓ \u001b[39m\u001b[90mJLD2\u001b[39m\n",
      "\u001b[32m  ✓ \u001b[39mGridap\n",
      "  20 dependencies successfully precompiled in 34 seconds (208 already precompiled)\n"
     ]
    }
   ],
   "source": [
    "import Pkg; Pkg.add(\"Gridap\")"
   ]
  },
  {
   "cell_type": "code",
   "execution_count": 6,
   "id": "39247ad9-83e4-4cab-99d8-643193079ce0",
   "metadata": {},
   "outputs": [
    {
     "ename": "LoadError",
     "evalue": "ArgumentError: Package Gridap not found in current path:\n- Run `import Pkg; Pkg.add(\"Gridap\")` to install the Gridap package.\n",
     "output_type": "error",
     "traceback": [
      "ArgumentError: Package Gridap not found in current path:\n- Run `import Pkg; Pkg.add(\"Gridap\")` to install the Gridap package.\n",
      "",
      "Stacktrace:",
      " [1] require(into::Module, mod::Symbol)",
      "   @ Base .\\loading.jl:893",
      " [2] eval",
      "   @ .\\boot.jl:360 [inlined]",
      " [3] include_string(mapexpr::typeof(REPL.softscope), mod::Module, code::String, filename::String)",
      "   @ Base .\\loading.jl:1116"
     ]
    }
   ],
   "source": [
    "using Gridap"
   ]
  },
  {
   "cell_type": "code",
   "execution_count": null,
   "id": "62fedb7f-1da0-45d3-8fab-f01386ff3a18",
   "metadata": {},
   "outputs": [],
   "source": []
  }
 ],
 "metadata": {
  "kernelspec": {
   "display_name": "Julia 1.6.3",
   "language": "julia",
   "name": "julia-1.6"
  },
  "language_info": {
   "file_extension": ".jl",
   "mimetype": "application/julia",
   "name": "julia",
   "version": "1.6.3"
  }
 },
 "nbformat": 4,
 "nbformat_minor": 5
}
