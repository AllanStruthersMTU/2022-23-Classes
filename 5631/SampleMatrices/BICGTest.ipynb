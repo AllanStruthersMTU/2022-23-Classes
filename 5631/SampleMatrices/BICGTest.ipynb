{
 "cells": [
  {
   "cell_type": "markdown",
   "id": "10dde791-35c0-41a1-8b8a-e57445f5f567",
   "metadata": {},
   "source": [
    "# Goals\n",
    "The aim is to recreate FE versions of the test problems form the BICGStab paper and export them as mtx files."
   ]
  },
  {
   "cell_type": "markdown",
   "id": "cbec7605-21ea-4c92-b387-eaa08e70bc30",
   "metadata": {
    "tags": []
   },
   "source": [
    "## Set Up and Test\n",
    "This is assembled from the Gridap tutorials.  It is set up to be as understandable as possible.  This just so that I can see where everything came from. \n",
    "\n",
    "The eigenfunctions and eigenvalues of $-\\Delta u $ on the square domain $(0,\\pi)^2$ with homogeneous Dirichlet conditions on all sides are \n",
    "$$\n",
    "u_{i,j} = \\sin(i x) s\\sin(j y) \\mbox{ with } \\lambda_{i,j} = i^2 + j^2\n",
    "$$\n",
    "for integers $i$ and $j$.\n",
    "This gives the sequence of smallest eigenvalues as \n",
    "$$\n",
    "2,5,5,8,10,10,13,13,17,17,18,20,20,25, \\dots \n",
    "$$\n",
    "\n"
   ]
  },
  {
   "cell_type": "code",
   "execution_count": 15,
   "id": "196fc748-60e2-44e2-b35f-678515892af1",
   "metadata": {},
   "outputs": [
    {
     "name": "stdout",
     "output_type": "stream",
     "text": [
      "α=0.0 p==1:m is true\n",
      "relative residual error L form is 0.017302063030349046\n",
      "relative residual error P form is 0.017302063030349046\n"
     ]
    }
   ],
   "source": [
    "using Gridap, LinearAlgebra, LimitedLDLFactorizations, Preconditioners, SparseArrays\n",
    "\n",
    "n = 30; Omega = (0.0,pi,0.0,pi);\n",
    "Grid = CartesianDiscreteModel(Omega, (n,n))\n",
    "# Grid has 4 corners and 4 edges\n",
    "# \"boundary\" is all elements of the boundary of Omega\n",
    "# Tags 1-4 are the corners and Tags 5-8 are the edges.\n",
    "# Label each of the six sides differently\n",
    "# boundary\n",
    "Tags = get_face_labeling(Grid)\n",
    "add_tag_from_tags!(Tags,\"y=0\",[1,2,5])\n",
    "add_tag_from_tags!(Tags,\"OtherEdges\",[3,4,6,7,8])\n",
    "# Piecewise linear Lagrange elements\n",
    "order = 1; Elements = ReferenceFE(lagrangian,Float64,order)\n",
    "V = TestFESpace(Grid,Elements;conformity=:H1,dirichlet_tags=\"boundary\")\n",
    "# Incorporating Homogeneous Dirichlet boundary conditions.\n",
    "g(x) = 0.0\n",
    "U = TrialFESpace(V,g)\n",
    "# Triangulating and defining measures\n",
    "degree = 2\n",
    "Ω = Triangulation(Grid)\n",
    "dΩ = Measure(Ω,degree)\n",
    "# Setting up a simple test problem\n",
    "f(x) = 1.0\n",
    "a(u,v) = ∫( ∇(v)⋅∇(u) )*dΩ\n",
    "b(v) = ∫( v*f )*dΩ\n",
    "# Set up FE operator\n",
    "op = AffineFEOperator(a,b,U,V)\n",
    "# Extract Stiffness Matrix A\n",
    "A=get_matrix(op)\n",
    "# Compute Incomplete Cholesky Decomposition\n",
    "# Dimensions needed to inhibit pivoting by specifying \"natural order\" 1:m \n",
    "# print(fieldnames(LimitedLDLFactorization))\n",
    "m=size(A)[1]\n",
    "LStructure = lldl(tril(A,-1), diag(A), 1:m, memory=2)\n",
    "L=LStructure.L + I\n",
    "D=spdiagm(LStructure.D)\n",
    "# alpha should be zero and p should be the identity permutation\n",
    "# \\alpha then TAB produces pretty α\n",
    "alpha=LStructure.α\n",
    "p=LStructure.P\n",
    "println(\"α=\",alpha,\" p==1:m is \",p==1:m) \n",
    "# Check preconditioner quality\n",
    "println(\"relative residual error L form is \", norm(A - L*D*L')/norm(A))\n",
    "P=L*spdiagm(sqrt.(abs.(LStructure.D)));\n",
    "println(\"relative residual error P form is \", norm(A - P*P')/norm(A))"
   ]
  },
  {
   "cell_type": "code",
   "execution_count": 18,
   "id": "59741f1c-0732-4034-a62c-37b3e228eae5",
   "metadata": {},
   "outputs": [
    {
     "data": {
      "text/plain": [
       "10×2 Matrix{Float64}:\n",
       " 0.0218724  3.94236\n",
       " 0.0545014  3.94236\n",
       " 0.0545014  3.9528\n",
       " 0.0867729  3.9528\n",
       " 0.108486   3.95677\n",
       " 0.108486   3.95677\n",
       " 0.140166   3.97464\n",
       " 0.140166   3.97464\n",
       " 0.183234   3.98543\n",
       " 0.183234   3.98543"
      ]
     },
     "execution_count": 18,
     "metadata": {},
     "output_type": "execute_result"
    }
   ],
   "source": [
    "λs=eigen(Matrix(A)).values; \n",
    "[λs[1:10] λs[m-9:m]]"
   ]
  },
  {
   "cell_type": "markdown",
   "id": "6a4f528b-5780-44c4-9517-b7c3543c7ee2",
   "metadata": {},
   "source": [
    "# Problem 1\n",
    "$-\\Delta u$\n",
    "All Homogeneous Dirichlet conditions"
   ]
  },
  {
   "cell_type": "markdown",
   "id": "01b230ee-2452-43a4-9a03-66dce8c13b78",
   "metadata": {},
   "source": [
    "# Problem 2\n",
    "$-\\nabla \\cdot (D(x,y) *\\nabla u)$\n",
    "Homogeneous Dirichlet conditions only on y=0"
   ]
  },
  {
   "cell_type": "markdown",
   "id": "587f370c-a8a0-497f-9e16-e508168024fc",
   "metadata": {},
   "source": [
    "# Problem 3\n",
    "$-\\nabla \\cdot (D(x,y) *\\nabla u)$\n",
    "Homogeneous Dirichlet conditions only on y=0"
   ]
  },
  {
   "cell_type": "markdown",
   "id": "a76dd0fd-f7c3-43f0-8f6d-4d8a70fcedac",
   "metadata": {},
   "source": [
    "# Problem 4\n",
    "$-\\nabla \\cdot (D(x,y) *\\nabla u)$\n",
    "Homogeneous Dirichlet conditions only on y=0"
   ]
  }
 ],
 "metadata": {
  "kernelspec": {
   "display_name": "Julia 1.6.3",
   "language": "julia",
   "name": "julia-1.6"
  },
  "language_info": {
   "file_extension": ".jl",
   "mimetype": "application/julia",
   "name": "julia",
   "version": "1.6.3"
  }
 },
 "nbformat": 4,
 "nbformat_minor": 5
}
