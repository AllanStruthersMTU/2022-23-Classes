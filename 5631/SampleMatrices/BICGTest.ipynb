{
 "cells": [
  {
   "cell_type": "markdown",
   "id": "10dde791-35c0-41a1-8b8a-e57445f5f567",
   "metadata": {},
   "source": [
    "# Goals\n",
    "The aim is to recreate FE versions of the test problems form the BICGStab paper and export them as mtx files."
   ]
  },
  {
   "cell_type": "markdown",
   "id": "cbec7605-21ea-4c92-b387-eaa08e70bc30",
   "metadata": {
    "jp-MarkdownHeadingCollapsed": true,
    "tags": []
   },
   "source": [
    "## Set Up and Test\n",
    "This is assembled from the Gridap tutorials.  It is set up to be as understandable as possible.  This just so that I can see where everything came from. \n",
    "\n",
    "The eigenfunctions and eigenvalues of $-\\Delta u $ on the square domain $(0,1)^2$ with homogeneous Dirichlet conditions on all sides are \n",
    "$$\n",
    "u_{i,j} = \\sin(i x/\\pi) s\\sin(j y/\\pi) \\mbox{ with } \\lambda_{i,j} = (i^2 + j^2)/\\pi^2\n",
    "$$\n",
    "for integers $i$ and $j$.\n",
    "This gives the sequence of smallest eigenvalues as \n",
    "$$\n",
    "0.202642, 0.506606, 0.506606, 0.810569, 1.01321, 1.01321, 1.31718, \n",
    "1.31718, 1.72246, 1.72246, 1.82378, 2.02642, \\dots \n",
    "$$\n",
    "scaling them by he smallest eigenvalue we get the ratios\n",
    "$$\n",
    "1, 2, 2, 4, 5, 5, 6, 6, 8, 8, 9, 10, 10, 12, 12, 16, \\dots\n",
    "$$\n",
    "The eigenvalues ratios are visbly correct below.  The values of the eigenvalues are not!  There is a uniform scaling hiding somewhere\n",
    "that I am going to ignore. The lowest eigenvalues always converge faster than the higher ones. \n"
   ]
  },
  {
   "cell_type": "code",
   "execution_count": null,
   "id": "de40aaf3-d4e3-4ec4-8ca7-383181c4ba79",
   "metadata": {},
   "outputs": [],
   "source": [
    "using Gridap, LinearAlgebra, LimitedLDLFactorizations, Preconditioners, SparseArrays\n",
    "\n",
    "n = 30; Omega = (0.0,1.0,0.0,1.0);\n",
    "Grid = CartesianDiscreteModel(Omega, (n,n))\n",
    "# Grid has 4 corners and 4 edges\n",
    "# \"boundary\" is all elements of the boundary of Omega\n",
    "# Tags 1-4 are the corners and Tags 5-8 are the edges.\n",
    "# Label each of the six sides differently\n",
    "# boundary\n",
    "Tags = get_face_labeling(Grid)\n",
    "add_tag_from_tags!(Tags,\"y=0\",[1,2,5])\n",
    "add_tag_from_tags!(Tags,\"OtherEdges\",[3,4,6,7,8])\n",
    "# Piecewise linear Lagrange elements\n",
    "order = 1; Elements = ReferenceFE(lagrangian,Float64,order)\n",
    "V = TestFESpace(Grid,Elements,conformity=:H1,dirichlet_tags=\"boundary\")\n",
    "# Incorporating Homogeneous Dirichlet boundary conditions.\n",
    "g(x) = 0.0\n",
    "U = TrialFESpace(V,g)\n",
    "# Triangulating and defining measures\n",
    "degree = 2\n",
    "Ω = Triangulation(Grid)\n",
    "dΩ = Measure(Ω,degree)\n",
    "# Setting up a simple test problem\n",
    "f(x) = 0.0\n",
    "a(u,v) = ∫( ∇(v)⋅∇(u) )*dΩ\n",
    "b(v) = ∫( v*f )*dΩ\n",
    "# Set up FE operator\n",
    "op = AffineFEOperator(a,b,U,V)\n",
    "# Extract Stiffness Matrix A\n",
    "A=get_matrix(op)\n",
    "λs=eigen(Matrix(A)).values; \n",
    "λs[1:10]/λs[1]"
   ]
  },
  {
   "cell_type": "markdown",
   "id": "ae71f5a8-aa9b-42f8-80d1-89aac7f058ab",
   "metadata": {},
   "source": [
    "We need to make sure that we are computing the incomplete Cholesky correctly as well. "
   ]
  },
  {
   "cell_type": "code",
   "execution_count": null,
   "id": "e9db6c2f-d79b-48e5-9e6a-15e37b8123d1",
   "metadata": {},
   "outputs": [],
   "source": [
    "# Compute Incomplete Cholesky Decomposition\n",
    "# Dimensions needed to inhibit pivoting by specifying \"natural order\" 1:m \n",
    "# print(fieldnames(LimitedLDLFactorization))\n",
    "m=size(A)[1]\n",
    "LStructure = lldl(tril(A,-1), diag(A), 1:m, memory=1)\n",
    "L=LStructure.L + I\n",
    "D=spdiagm(LStructure.D)\n",
    "# alpha should be zero and p should be the identity permutation\n",
    "# \\alpha then TAB produces pretty α\n",
    "alpha=LStructure.α\n",
    "p=LStructure.P\n",
    "println(\"α=\",alpha,\" p==1:m is \",p==1:m) \n",
    "# Check preconditioner quality\n",
    "println(\"relative residual error L form is \", norm(A - L*D*L')/norm(A))\n",
    "P=L*spdiagm(sqrt.(abs.(LStructure.D)));\n",
    "println(\"relative residual error P form is \", norm(A - P*P')/norm(A))"
   ]
  },
  {
   "cell_type": "markdown",
   "id": "6a4f528b-5780-44c4-9517-b7c3543c7ee2",
   "metadata": {
    "jp-MarkdownHeadingCollapsed": true,
    "tags": []
   },
   "source": [
    "# Problem 1\n",
    "$-\\Delta u$\n",
    "All Homogeneous Dirichlet conditions. Assumption is that we have memory level 1. \n",
    "\n",
    "Output matrices are called A1 and P1"
   ]
  },
  {
   "cell_type": "code",
   "execution_count": null,
   "id": "f92d9ed3-b7c1-4ff0-93af-fc24216f5250",
   "metadata": {},
   "outputs": [],
   "source": [
    "using Gridap, LinearAlgebra, LimitedLDLFactorizations, Preconditioners, SparseArrays, MatrixMarket\n",
    "\n",
    "n = 150; Omega = (0.0,1.0,0.0,1.0);\n",
    "Grid = CartesianDiscreteModel(Omega, (n,n))\n",
    "# Grid has 4 corners and 4 edges\n",
    "# \"boundary\" is all elements of the boundary of Omega\n",
    "# Tags 1-4 are the corners and Tags 5-8 are the edges.\n",
    "# Label each of the six sides differently\n",
    "# boundary\n",
    "Tags = get_face_labeling(Grid)\n",
    "add_tag_from_tags!(Tags,\"y=0\",[1,2,5])\n",
    "add_tag_from_tags!(Tags,\"OtherEdges\",[3,4,6,7,8])\n",
    "# Piecewise linear Lagrange elements\n",
    "order = 1; Elements = ReferenceFE(lagrangian,Float64,order)\n",
    "V = TestFESpace(Grid,Elements,conformity=:H1,dirichlet_tags=\"boundary\")\n",
    "# Incorporating Homogeneous Dirichlet boundary conditions.\n",
    "g(x) = 0.0\n",
    "U = TrialFESpace(V,g)\n",
    "# Triangulating and defining measures\n",
    "degree = 2\n",
    "Ω = Triangulation(Grid)\n",
    "dΩ = Measure(Ω,degree)\n",
    "# Setting up a simple test problem\n",
    "f(x) = 0.0\n",
    "a(u,v) = ∫( ∇(v)⋅∇(u) )*dΩ\n",
    "b(v) = ∫( v*f )*dΩ\n",
    "# Set up FE operator\n",
    "op = AffineFEOperator(a,b,U,V)\n",
    "# Extract Stiffness Matrix and compute P1\n",
    "A1=get_matrix(op)\n",
    "# Compute Incomplete Cholesky Decomposition\n",
    "# Dimensions needed to inhibit pivoting by specifying \"natural order\" 1:m \n",
    "# print(fieldnames(LimitedLDLFactorization))\n",
    "m=size(A1)[1]\n",
    "LStructure = lldl(tril(A1,-1), diag(A1), 1:m, memory=1)\n",
    "L=LStructure.L + I\n",
    "D=spdiagm(LStructure.D)\n",
    "P1=L*spdiagm(sqrt.(abs.(LStructure.D)))\n",
    "# Dump Matrices\n",
    "mmwrite(\"A1.mtx\",A1)\n",
    "mmwrite(\"P1.mtx\",P1)"
   ]
  },
  {
   "cell_type": "markdown",
   "id": "01b230ee-2452-43a4-9a03-66dce8c13b78",
   "metadata": {
    "jp-MarkdownHeadingCollapsed": true,
    "tags": []
   },
   "source": [
    "# Problem 2\n",
    "$-\\nabla \\cdot (D(x,y) *\\nabla u)$\n",
    "Homogeneous Dirichlet conditions only on y=0"
   ]
  },
  {
   "cell_type": "code",
   "execution_count": null,
   "id": "1a599c77-b34e-456b-9d42-31b9548beabd",
   "metadata": {},
   "outputs": [],
   "source": [
    "using Gridap, LinearAlgebra, LimitedLDLFactorizations, Preconditioners, SparseArrays, MatrixMarket\n",
    "\n",
    "n = 150; Omega = (0.0,1.0,0.0,1.0);\n",
    "Grid = CartesianDiscreteModel(Omega, (n,n))\n",
    "# Grid has 4 corners and 4 edges\n",
    "# \"boundary\" is all elements of the boundary of Omega\n",
    "# Tags 1-4 are the corners and Tags 5-8 are the edges.\n",
    "# Label each of the six sides differently\n",
    "# boundary\n",
    "Tags = get_face_labeling(Grid)\n",
    "add_tag_from_tags!(Tags,\"y=0\",[1,2,5])\n",
    "add_tag_from_tags!(Tags,\"OtherEdges\",[3,4,6,7,8])\n",
    "# Piecewise linear Lagrange elements\n",
    "order = 1; Elements = ReferenceFE(lagrangian,Float64,order)\n",
    "V = TestFESpace(Grid,Elements,conformity=:H1,dirichlet_tags=\"y=0\")\n",
    "# Incorporating Homogeneous Dirichlet boundary conditions.\n",
    "g(x) = 0.0\n",
    "U = TrialFESpace(V,g)\n",
    "# Triangulating and defining measures\n",
    "degree = 2\n",
    "Ω = Triangulation(Grid)\n",
    "dΩ = Measure(Ω,degree)\n",
    "# Setting up a simple test problem\n",
    "f(x) = 0.0\n",
    "function d(x)\n",
    "    if (0.1 <x[1] && x[1]<0.9 && 0.1 <x[2] && x[2]<0.9) \n",
    "        1000.0\n",
    "    else\n",
    "        1.0\n",
    "    end\n",
    "end\n",
    "a(u,v) = ∫(d*∇(v)⋅∇(u) )*dΩ\n",
    "b(v) = ∫( v*f )*dΩ\n",
    "# Set up FE operator\n",
    "op = AffineFEOperator(a,b,U,V)\n",
    "# Extract Stiffness Matrix and compute P1\n",
    "A2=get_matrix(op)\n",
    "# Compute Incomplete Cholesky Decomposition\n",
    "# Dimensions needed to inhibit pivoting by specifying \"natural order\" 1:m \n",
    "# print(fieldnames(LimitedLDLFactorization))\n",
    "m=size(A2)[1]\n",
    "LStructure = lldl(tril(A2,-1), diag(A2), 1:m, memory=1)\n",
    "L=LStructure.L + I\n",
    "D=spdiagm(LStructure.D)\n",
    "P2=L*spdiagm(sqrt.(abs.(LStructure.D)))\n",
    "# Dump Matrices\n",
    "mmwrite(\"A2.mtx\",A2)\n",
    "mmwrite(\"P2.mtx\",P2)"
   ]
  },
  {
   "cell_type": "markdown",
   "id": "4caf62be-f321-4241-9ae4-ecd3daaf6f2e",
   "metadata": {},
   "source": [
    "Testing that d is defined correctly!"
   ]
  },
  {
   "cell_type": "code",
   "execution_count": null,
   "id": "cfb935c0-b8cd-45a5-a59f-d3614e1494ea",
   "metadata": {},
   "outputs": [],
   "source": [
    "(d([0.01 0.4]), d([0.2,0.4]))"
   ]
  },
  {
   "cell_type": "markdown",
   "id": "587f370c-a8a0-497f-9e16-e508168024fc",
   "metadata": {
    "jp-MarkdownHeadingCollapsed": true,
    "tags": []
   },
   "source": [
    "# Problem 3\n",
    "$-\\Delta u + ((a u)_x + a u_x)/2 == 1$\n",
    "with \n",
    "$n=201$ and $a=20 \\exp(3.5(x^2+y^2))$. \n",
    "Dirichlet conditions on all edges.\n",
    "\n",
    "I need to work out how to build the lower order terms (not as easy as it should be) \n",
    "and how to get the ILU. \n",
    "\n",
    "    - ilu0 does not give matrices!\n",
    "    - IncompleteLU may be better.  It is but it is tolerance based!  There seems to be little fill in for $\\tau=0.01$."
   ]
  },
  {
   "cell_type": "code",
   "execution_count": 2,
   "id": "3d96ca4a-58b0-4541-9ccf-6041267fd91e",
   "metadata": {},
   "outputs": [
    {
     "data": {
      "text/plain": [
       "22201×22201 SparseMatrixCSC{Float64, Int64} with 342683 stored entries:\n",
       "⠳⣄⠀⠀⠀⠀⠀⠀⠀⠀⠀⠀⠀⠀⠀⠀⠀⠀⠀⠀⠀⠀⠀⠀⠀⠀⠀⠀⠀⠀⠀⠀⠀⠀⠀⠀⠀⠀⠀⠀\n",
       "⠀⠈⠳⣄⠀⠀⠀⠀⠀⠀⠀⠀⠀⠀⠀⠀⠀⠀⠀⠀⠀⠀⠀⠀⠀⠀⠀⠀⠀⠀⠀⠀⠀⠀⠀⠀⠀⠀⠀⠀\n",
       "⠀⠀⠀⠈⠳⣄⠀⠀⠀⠀⠀⠀⠀⠀⠀⠀⠀⠀⠀⠀⠀⠀⠀⠀⠀⠀⠀⠀⠀⠀⠀⠀⠀⠀⠀⠀⠀⠀⠀⠀\n",
       "⠀⠀⠀⠀⠀⠈⠳⣄⠀⠀⠀⠀⠀⠀⠀⠀⠀⠀⠀⠀⠀⠀⠀⠀⠀⠀⠀⠀⠀⠀⠀⠀⠀⠀⠀⠀⠀⠀⠀⠀\n",
       "⠀⠀⠀⠀⠀⠀⠀⠈⠳⣄⠀⠀⠀⠀⠀⠀⠀⠀⠀⠀⠀⠀⠀⠀⠀⠀⠀⠀⠀⠀⠀⠀⠀⠀⠀⠀⠀⠀⠀⠀\n",
       "⠀⠀⠀⠀⠀⠀⠀⠀⠀⠈⠳⣄⠀⠀⠀⠀⠀⠀⠀⠀⠀⠀⠀⠀⠀⠀⠀⠀⠀⠀⠀⠀⠀⠀⠀⠀⠀⠀⠀⠀\n",
       "⠀⠀⠀⠀⠀⠀⠀⠀⠀⠀⠀⠈⠳⣄⠀⠀⠀⠀⠀⠀⠀⠀⠀⠀⠀⠀⠀⠀⠀⠀⠀⠀⠀⠀⠀⠀⠀⠀⠀⠀\n",
       "⠀⠀⠀⠀⠀⠀⠀⠀⠀⠀⠀⠀⠀⠈⠳⣄⠀⠀⠀⠀⠀⠀⠀⠀⠀⠀⠀⠀⠀⠀⠀⠀⠀⠀⠀⠀⠀⠀⠀⠀\n",
       "⠀⠀⠀⠀⠀⠀⠀⠀⠀⠀⠀⠀⠀⠀⠀⠈⠳⣄⠀⠀⠀⠀⠀⠀⠀⠀⠀⠀⠀⠀⠀⠀⠀⠀⠀⠀⠀⠀⠀⠀\n",
       "⠀⠀⠀⠀⠀⠀⠀⠀⠀⠀⠀⠀⠀⠀⠀⠀⠀⠈⠳⣄⠀⠀⠀⠀⠀⠀⠀⠀⠀⠀⠀⠀⠀⠀⠀⠀⠀⠀⠀⠀\n",
       "⠀⠀⠀⠀⠀⠀⠀⠀⠀⠀⠀⠀⠀⠀⠀⠀⠀⠀⠀⠈⠳⣄⠀⠀⠀⠀⠀⠀⠀⠀⠀⠀⠀⠀⠀⠀⠀⠀⠀⠀\n",
       "⠀⠀⠀⠀⠀⠀⠀⠀⠀⠀⠀⠀⠀⠀⠀⠀⠀⠀⠀⠀⠀⠈⠳⣄⠀⠀⠀⠀⠀⠀⠀⠀⠀⠀⠀⠀⠀⠀⠀⠀\n",
       "⠀⠀⠀⠀⠀⠀⠀⠀⠀⠀⠀⠀⠀⠀⠀⠀⠀⠀⠀⠀⠀⠀⠀⠈⠳⣄⠀⠀⠀⠀⠀⠀⠀⠀⠀⠀⠀⠀⠀⠀\n",
       "⠀⠀⠀⠀⠀⠀⠀⠀⠀⠀⠀⠀⠀⠀⠀⠀⠀⠀⠀⠀⠀⠀⠀⠀⠀⠈⠳⣄⠀⠀⠀⠀⠀⠀⠀⠀⠀⠀⠀⠀\n",
       "⠀⠀⠀⠀⠀⠀⠀⠀⠀⠀⠀⠀⠀⠀⠀⠀⠀⠀⠀⠀⠀⠀⠀⠀⠀⠀⠀⠈⠳⣄⠀⠀⠀⠀⠀⠀⠀⠀⠀⠀\n",
       "⠀⠀⠀⠀⠀⠀⠀⠀⠀⠀⠀⠀⠀⠀⠀⠀⠀⠀⠀⠀⠀⠀⠀⠀⠀⠀⠀⠀⠀⠈⠳⣄⠀⠀⠀⠀⠀⠀⠀⠀\n",
       "⠀⠀⠀⠀⠀⠀⠀⠀⠀⠀⠀⠀⠀⠀⠀⠀⠀⠀⠀⠀⠀⠀⠀⠀⠀⠀⠀⠀⠀⠀⠀⠈⠳⣄⠀⠀⠀⠀⠀⠀\n",
       "⠀⠀⠀⠀⠀⠀⠀⠀⠀⠀⠀⠀⠀⠀⠀⠀⠀⠀⠀⠀⠀⠀⠀⠀⠀⠀⠀⠀⠀⠀⠀⠀⠀⠈⠳⣄⠀⠀⠀⠀\n",
       "⠀⠀⠀⠀⠀⠀⠀⠀⠀⠀⠀⠀⠀⠀⠀⠀⠀⠀⠀⠀⠀⠀⠀⠀⠀⠀⠀⠀⠀⠀⠀⠀⠀⠀⠀⠈⠳⣄⠀⠀\n",
       "⠀⠀⠀⠀⠀⠀⠀⠀⠀⠀⠀⠀⠀⠀⠀⠀⠀⠀⠀⠀⠀⠀⠀⠀⠀⠀⠀⠀⠀⠀⠀⠀⠀⠀⠀⠀⠀⠈⠳⣄"
      ]
     },
     "execution_count": 2,
     "metadata": {},
     "output_type": "execute_result"
    }
   ],
   "source": [
    "using Gridap, LinearAlgebra, IncompleteLU, Preconditioners, SparseArrays, MatrixMarket, IncompleteLU\n",
    "\n",
    "n = 150; Omega = (0.0,1.0,0.0,1.0);\n",
    "Grid = CartesianDiscreteModel(Omega, (n,n))\n",
    "# Grid has 4 corners and 4 edges\n",
    "# \"boundary\" is all elements of the boundary of Omega\n",
    "# Tags 1-4 are the corners and Tags 5-8 are the edges.\n",
    "# Label each of the six sides differently\n",
    "# boundary\n",
    "Tags = get_face_labeling(Grid)\n",
    "add_tag_from_tags!(Tags,\"y=0\",[1,2,5])\n",
    "add_tag_from_tags!(Tags,\"OtherEdges\",[3,4,6,7,8])\n",
    "# Piecewise linear Lagrange elements\n",
    "order = 1; Elements = ReferenceFE(lagrangian,Float64,order)\n",
    "V = TestFESpace(Grid,Elements,conformity=:H1,dirichlet_tags=\"boundary\")\n",
    "# Incorporating Homogeneous Dirichlet boundary conditions.\n",
    "g(x) = 0.0\n",
    "U = TrialFESpace(V,g)\n",
    "# Triangulating and defining measures\n",
    "degree = 2\n",
    "Ω = Triangulation(Grid)\n",
    "dΩ = Measure(Ω,degree)\n",
    "# Setting up a simple test problem\n",
    "f(x) = 0.0\n",
    "# The coefficient functions are called aFun to avoid name space collisions with the bi linear form \n",
    "function aFun(x)\n",
    "    20.0*exp(3.5*(x[1]^2+x[2]^2))\n",
    "end\n",
    "# The needs to be a function to apply the composition trick in the \n",
    "# tutorials \n",
    "function FirstComp(v)\n",
    "  v[1]\n",
    "end\n",
    "# Weak Form etc. \n",
    "# FirstComp∘∇(aFun*u) is pretty for Operation(FirstComponent)(∇(sFun*u)))\n",
    "# \\circ TAB gives the symbol \"∘\" \n",
    "# It needs the composition to make understand what it is being asked to build. \n",
    "a(u,v) = ∫(∇(v)⋅∇(u) )*dΩ + ∫(0.5*(FirstComp∘∇(aFun*u))*v)*dΩ + ∫(0.5*(aFun*(FirstComp∘∇(u)))*v)*dΩ\n",
    "b(v) = ∫( v*f )*dΩ\n",
    "# Set up FE operator\n",
    "op = AffineFEOperator(a,b,U,V)\n",
    "# Extract Stiffness Matrix and compute P1\n",
    "A3=get_matrix(op)\n",
    "# Compute ILU\n",
    "LUfact = ilu(A3,τ=0.01)\n",
    "# print(fieldnames(IncompleteLU.ILUFactorization))\n",
    "L3 = LUfact.L+I; U3 = LUfact.U\n",
    "# Dump Matrices\n",
    "mmwrite(\"A3.mtx\",A3)\n",
    "mmwrite(\"L3.mtx\",L3)\n",
    "mmwrite(\"U3.mtx\",U3)\n",
    "L3"
   ]
  },
  {
   "cell_type": "markdown",
   "id": "a76dd0fd-f7c3-43f0-8f6d-4d8a70fcedac",
   "metadata": {},
   "source": [
    "# Problem 4\n",
    "$-\\nabla \\cdot (A(x,y) *\\nabla u) + B(x,y)*u_x$\n",
    "Homogeneous Dirichlet conditions on all edges with\n",
    "$B(x,y)=2 \\exp (2(x^2 +y^2)) $ \n",
    "and $A(x,y)$ large in the middle of the square surrounded by a \n",
    "moat of a small value with a bridge, and surrounded by a moderately \n",
    "larege value.  The is no real detail given $n=128$. "
   ]
  },
  {
   "cell_type": "code",
   "execution_count": 2,
   "id": "6e3c508f-4a90-49aa-9a43-0c3fd39a96ac",
   "metadata": {},
   "outputs": [
    {
     "data": {
      "text/plain": [
       "100.0"
      ]
     },
     "execution_count": 2,
     "metadata": {},
     "output_type": "execute_result"
    }
   ],
   "source": [
    "using Gridap, LinearAlgebra, IncompleteLU, Preconditioners, SparseArrays, MatrixMarket, IncompleteLU\n",
    "\n",
    "n = 15; Omega = (0.0,1.0,0.0,1.0);\n",
    "Grid = CartesianDiscreteModel(Omega, (n,n))\n",
    "# Grid has 4 corners and 4 edges\n",
    "# \"boundary\" is all elements of the boundary of Omega\n",
    "# Tags 1-4 are the corners and Tags 5-8 are the edges.\n",
    "# Label each of the six sides differently\n",
    "# boundary\n",
    "Tags = get_face_labeling(Grid)\n",
    "add_tag_from_tags!(Tags,\"y=0\",[1,2,5])\n",
    "add_tag_from_tags!(Tags,\"OtherEdges\",[3,4,6,7,8])\n",
    "# Piecewise linear Lagrange elements\n",
    "order = 1; Elements = ReferenceFE(lagrangian,Float64,order)\n",
    "V = TestFESpace(Grid,Elements,conformity=:H1,dirichlet_tags=\"boundary\")\n",
    "# Incorporating Homogeneous Dirichlet boundary conditions.\n",
    "g(x) = 0.0\n",
    "U = TrialFESpace(V,g)\n",
    "# Triangulating and defining measures\n",
    "degree = 2\n",
    "Ω = Triangulation(Grid)\n",
    "dΩ = Measure(Ω,degree)\n",
    "# Setting up a simple test problem\n",
    "f(x) = 0.0\n",
    "# Coefficient functions\n",
    "# I am interpreting figure 4 for A\n",
    "# bridge 0.1 wide, moat 0.25 wide moat between 2/8 and 3/8 \n",
    "# I made the first version cause I know how to contour plot it\n",
    "function A(x,y)\n",
    "    a=0.25;b=0.125;c=0.02\n",
    "    if (x<=a || x >= 1 - a || y <= a|| y >= 1 - a) return(10)\n",
    "    end\n",
    "    if (abs(x - 1/2) <= c && 0.5 + b <= y) return(10)\n",
    "    end\n",
    "    if (abs(x - 1/2) <= b && abs(y - 1/2) <= b) return(20)\n",
    "    end\n",
    "    return(1)\n",
    "end\n",
    "# This vector argument variant has the correct # from the paper and \n",
    "# can be used in GridApp\n",
    "function Avec(x)\n",
    "    a=0.25;b=0.125;c=0.02\n",
    "    if (x[1]<=a || x[1] >= 1 - a || x[2] <= a|| x[2] >= 1 - a) return(100.0)\n",
    "    end\n",
    "    if (abs(x[1] - 1/2) <= c && 0.5 + b <= x[2]) return(100.0)\n",
    "    end\n",
    "    if (abs(x[1] - 1/2) <= b && abs(x[2] - 1/2) <= b) return(10000.0)\n",
    "    end\n",
    "    return(0.00001)\n",
    "end\n",
    "using Plots\n",
    "contour(0.0:0.001:1.0,0.0:0.001:1.0 , A, fill=true, plot_title=\"A\")\n",
    "Avec([0.1,0.2])"
   ]
  },
  {
   "cell_type": "code",
   "execution_count": 56,
   "id": "da17bbc2-f21e-4d26-a59a-6bb7a55d5202",
   "metadata": {},
   "outputs": [
    {
     "data": {
      "text/plain": [
       "FirstComp (generic function with 1 method)"
      ]
     },
     "execution_count": 56,
     "metadata": {},
     "output_type": "execute_result"
    }
   ],
   "source": [
    "function B(x)\n",
    "    2.0*exp(2.0*(x[1]^2+x[2]^2))\n",
    "end\n",
    "# The needs to be a function to apply the composition trick in the \n",
    "# tutorials \n",
    "function FirstComp(v)\n",
    "  v[1]\n",
    "end\n",
    "# Weak Form etc. \n",
    "# FirstComp∘∇(aFun*u) is pretty for Operation(FirstComponent)(∇(sFun*u)))\n",
    "# \\circ TAB gives the symbol \"∘\" \n",
    "# It needs the composition to make understand what it is being asked to build. \n",
    "a(u,v) = ∫(∇(v)⋅∇(u) )*dΩ + ∫(0.5*(FirstComp∘∇(aFun*u))*v)*dΩ + ∫(0.5*(aFun*(FirstComp∘∇(u)))*v)*dΩ\n",
    "b(v) = ∫( v*f )*dΩ\n",
    "# Set up FE operator\n",
    "op = AffineFEOperator(a,b,U,V)\n",
    "# Extract Stiffness Matrix and compute P1\n",
    "A4=get_matrix(op)\n",
    "# Compute ILU\n",
    "LUfact = ilu(A4,τ=0.01)\n",
    "# Dimensions needed to inhibit pivoting by specifying \"natural order\" 1:m \n",
    "# print(fieldnames(IncompleteLU.ILUFactorization))\n",
    "L4 = LUfact.L+I; U4 = LUfact.U\n",
    "# Dump Matrices\n",
    "mmwrite(\"A4.mtx\",A4)\n",
    "mmwrite(\"L4.mtx\",L4)\n",
    "mmwrite(\"U4.mtx\",U4)"
   ]
  }
 ],
 "metadata": {
  "kernelspec": {
   "display_name": "Julia 1.6.3",
   "language": "julia",
   "name": "julia-1.6"
  },
  "language_info": {
   "file_extension": ".jl",
   "mimetype": "application/julia",
   "name": "julia",
   "version": "1.6.3"
  }
 },
 "nbformat": 4,
 "nbformat_minor": 5
}
