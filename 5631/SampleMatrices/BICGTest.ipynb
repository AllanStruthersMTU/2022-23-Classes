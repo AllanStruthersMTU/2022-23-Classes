{
 "cells": [
  {
   "cell_type": "markdown",
   "id": "10dde791-35c0-41a1-8b8a-e57445f5f567",
   "metadata": {},
   "source": [
    "# Goals\n",
    "The aim is to recreate FE versions of the test problems form the BICGStab paper and export them as mtx files."
   ]
  },
  {
   "cell_type": "markdown",
   "id": "cbec7605-21ea-4c92-b387-eaa08e70bc30",
   "metadata": {},
   "source": [
    "## Set Up"
   ]
  },
  {
   "cell_type": "code",
   "execution_count": 59,
   "id": "196fc748-60e2-44e2-b35f-678515892af1",
   "metadata": {},
   "outputs": [
    {
     "data": {
      "text/plain": [
       "72-element Vector{Float64}:\n",
       " 0.03018854458905018\n",
       " 0.13015869661768198\n",
       " 0.2580940382369534\n",
       " 0.32363449646715736\n",
       " 0.40440555594065186\n",
       " 0.6074817490683664\n",
       " 0.6272406729045628\n",
       " 0.6451495603184632\n",
       " 0.7520522648022361\n",
       " 0.8979375530735099\n",
       " 0.9846668624131869\n",
       " 1.0020966278020107\n",
       " 1.0977663267055304\n",
       " ⋮\n",
       " 3.3005520398401154\n",
       " 3.310329341761117\n",
       " 3.3819154022765274\n",
       " 3.418448382928359\n",
       " 3.452935112363834\n",
       " 3.502261037792478\n",
       " 3.522353392003811\n",
       " 3.5258200837004834\n",
       " 3.7051687302264877\n",
       " 3.71025825360816\n",
       " 3.8236088938001602\n",
       " 3.8354756159661196"
      ]
     },
     "execution_count": 59,
     "metadata": {},
     "output_type": "execute_result"
    }
   ],
   "source": [
    "using Gridap, LinearAlgebra\n",
    "\n",
    "n = 8; Omega = (0.0,1.0,0.0,1.0);\n",
    "Grid = CartesianDiscreteModel(Omega, (n,n))\n",
    "# Grid has 4 corners and 4 edges\n",
    "# \"boundary\" is all elements of the boundary of Omega\n",
    "# Tags 1-4 are the corners and Tags 5-8 are the edges.\n",
    "# Label each of the six sides differently\n",
    "# boundary\n",
    "Tags = get_face_labeling(Grid)\n",
    "add_tag_from_tags!(Tags,\"y=0\",[1,2,5])\n",
    "add_tag_from_tags!(Tags,\"OtherEdges\",[3,4,6,7,8])\n",
    "# Piecewise linear Lagrange elements\n",
    "order = 1; Elements = ReferenceFE(lagrangian,Float64,order)\n",
    "V = TestFESpace(Grid,Elements;conformity=:H1,dirichlet_tags=\"y=0\")\n",
    "# Incorporating Homogeneous Dirichlet boundary conditions.\n",
    "g(x) = 0.0\n",
    "U = TrialFESpace(V,g)\n",
    "# Triangulating and defining measures\n",
    "degree = 2\n",
    "Ω = Triangulation(Grid)\n",
    "dΩ = Measure(Ω,degree)\n",
    "# Setting up boundary triangulation/measure for Neumann conditions \n",
    "Γ = BoundaryTriangulation(Grid,tags=\"OtherEdges\")\n",
    "dΓ = Measure(Γ,degree)\n",
    "# Setting up a simple test problem\n",
    "f(x) = 1.0; h(x) = 3.0\n",
    "a(u,v) = ∫( ∇(v)⋅∇(u) )*dΩ\n",
    "b(v) = ∫( v*f )*dΩ + ∫( v*h )*dΓ\n",
    "# Set up FE operator\n",
    "op = AffineFEOperator(a,b,U,V)\n",
    "# Extract Stiffness Matrix A\n",
    "A=get_matrix(op)\n",
    "eigen(Matrix(A)).values"
   ]
  },
  {
   "cell_type": "code",
   "execution_count": null,
   "id": "2a283217-9fc8-45c5-af13-08c52b201f97",
   "metadata": {},
   "outputs": [],
   "source": []
  }
 ],
 "metadata": {
  "kernelspec": {
   "display_name": "Julia 1.6.3",
   "language": "julia",
   "name": "julia-1.6"
  },
  "language_info": {
   "file_extension": ".jl",
   "mimetype": "application/julia",
   "name": "julia",
   "version": "1.6.3"
  }
 },
 "nbformat": 4,
 "nbformat_minor": 5
}
