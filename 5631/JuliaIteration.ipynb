{
 "cells": [
  {
   "cell_type": "markdown",
   "id": "0b104b9e-5a45-4e41-bc01-6a8c0ea99417",
   "metadata": {},
   "source": [
    "# Iterative Solvers and Sparse Matrices"
   ]
  },
  {
   "cell_type": "markdown",
   "id": "8f6e1192-0441-48e2-a3a7-941302fea81f",
   "metadata": {},
   "source": [
    "## Making Sparse Matrices"
   ]
  },
  {
   "cell_type": "code",
   "execution_count": 30,
   "id": "c05098ac-9544-47c3-8bd2-dfbe8f673291",
   "metadata": {},
   "outputs": [
    {
     "data": {
      "text/plain": [
       "12×12 SparseMatrixCSC{Float64, Int64} with 34 stored entries:\n",
       " -2.0   1.0    ⋅     ⋅     ⋅     ⋅     ⋅     ⋅     ⋅     ⋅     ⋅     ⋅ \n",
       "  1.0  -2.0   1.0    ⋅     ⋅     ⋅     ⋅     ⋅     ⋅     ⋅     ⋅     ⋅ \n",
       "   ⋅    1.0  -2.0   1.0    ⋅     ⋅     ⋅     ⋅     ⋅     ⋅     ⋅     ⋅ \n",
       "   ⋅     ⋅    1.0  -2.0   1.0    ⋅     ⋅     ⋅     ⋅     ⋅     ⋅     ⋅ \n",
       "   ⋅     ⋅     ⋅    1.0  -2.0   1.0    ⋅     ⋅     ⋅     ⋅     ⋅     ⋅ \n",
       "   ⋅     ⋅     ⋅     ⋅    1.0  -2.0   1.0    ⋅     ⋅     ⋅     ⋅     ⋅ \n",
       "   ⋅     ⋅     ⋅     ⋅     ⋅    1.0  -2.0   1.0    ⋅     ⋅     ⋅     ⋅ \n",
       "   ⋅     ⋅     ⋅     ⋅     ⋅     ⋅    1.0  -2.0   1.0    ⋅     ⋅     ⋅ \n",
       "   ⋅     ⋅     ⋅     ⋅     ⋅     ⋅     ⋅    1.0  -2.0   1.0    ⋅     ⋅ \n",
       "   ⋅     ⋅     ⋅     ⋅     ⋅     ⋅     ⋅     ⋅    1.0  -2.0   1.0    ⋅ \n",
       "   ⋅     ⋅     ⋅     ⋅     ⋅     ⋅     ⋅     ⋅     ⋅    1.0  -2.0   1.0\n",
       "   ⋅     ⋅     ⋅     ⋅     ⋅     ⋅     ⋅     ⋅     ⋅     ⋅    1.0  -2.0"
      ]
     },
     "execution_count": 30,
     "metadata": {},
     "output_type": "execute_result"
    }
   ],
   "source": [
    "using SparseArrays, LinearAlgebra\n",
    "m=12\n",
    "A = spzeros(m,m)\n",
    "for i in 2:m\n",
    "    A[i,i]=-2.0; A[i-1,i]=A[i,i-1]=1.0\n",
    "end\n",
    "A[1,1]=-2.0\n",
    "A"
   ]
  },
  {
   "cell_type": "markdown",
   "id": "9210e163-15a6-4a45-b6a9-8adb8d5b9a70",
   "metadata": {},
   "source": [
    "## Doing Things with Sparse Matrices"
   ]
  },
  {
   "cell_type": "markdown",
   "id": "189e2640-e01d-4226-9fd4-be8f297c2af1",
   "metadata": {},
   "source": [
    "Convert the sparse matrix to a dense matrix if you want to use the familiar fancy linear algebra commands. \n",
    "At this point you have lost any and all of the advantages of a sparse matrix"
   ]
  },
  {
   "cell_type": "code",
   "execution_count": 32,
   "id": "4d5dc936-ee80-4a40-b6a0-f29964eec990",
   "metadata": {},
   "outputs": [
    {
     "data": {
      "text/plain": [
       "12×12 Matrix{Float64}:\n",
       " -2.0   1.0   0.0   0.0   0.0   0.0   0.0   0.0   0.0   0.0   0.0   0.0\n",
       "  1.0  -2.0   1.0   0.0   0.0   0.0   0.0   0.0   0.0   0.0   0.0   0.0\n",
       "  0.0   1.0  -2.0   1.0   0.0   0.0   0.0   0.0   0.0   0.0   0.0   0.0\n",
       "  0.0   0.0   1.0  -2.0   1.0   0.0   0.0   0.0   0.0   0.0   0.0   0.0\n",
       "  0.0   0.0   0.0   1.0  -2.0   1.0   0.0   0.0   0.0   0.0   0.0   0.0\n",
       "  0.0   0.0   0.0   0.0   1.0  -2.0   1.0   0.0   0.0   0.0   0.0   0.0\n",
       "  0.0   0.0   0.0   0.0   0.0   1.0  -2.0   1.0   0.0   0.0   0.0   0.0\n",
       "  0.0   0.0   0.0   0.0   0.0   0.0   1.0  -2.0   1.0   0.0   0.0   0.0\n",
       "  0.0   0.0   0.0   0.0   0.0   0.0   0.0   1.0  -2.0   1.0   0.0   0.0\n",
       "  0.0   0.0   0.0   0.0   0.0   0.0   0.0   0.0   1.0  -2.0   1.0   0.0\n",
       "  0.0   0.0   0.0   0.0   0.0   0.0   0.0   0.0   0.0   1.0  -2.0   1.0\n",
       "  0.0   0.0   0.0   0.0   0.0   0.0   0.0   0.0   0.0   0.0   1.0  -2.0"
      ]
     },
     "execution_count": 32,
     "metadata": {},
     "output_type": "execute_result"
    }
   ],
   "source": [
    "DenseA=Matrix(A)"
   ]
  },
  {
   "cell_type": "markdown",
   "id": "d12cd3c0-8f24-4c3a-8cbd-c3450c7906ca",
   "metadata": {},
   "source": [
    "All you can really do with a native sparse matrix is blindingly fast multiplication! There are however quite a lot of things you can do with just multiplication. "
   ]
  },
  {
   "cell_type": "code",
   "execution_count": 62,
   "id": "aca2a6a3-b0b6-416f-9705-f74859d8c2eb",
   "metadata": {},
   "outputs": [
    {
     "data": {
      "text/plain": [
       "12×2 Matrix{Float64}:\n",
       "  0.0936544   0.0938673\n",
       " -0.181902   -0.182279\n",
       "  0.259643    0.260098\n",
       " -0.322373   -0.322801\n",
       "  0.36644     0.366744\n",
       " -0.389263   -0.389372\n",
       "  0.389482    0.389372\n",
       " -0.367047   -0.366744\n",
       "  0.323229    0.322801\n",
       " -0.260552   -0.260098\n",
       "  0.182656    0.182279\n",
       " -0.0940799  -0.0938673"
      ]
     },
     "execution_count": 62,
     "metadata": {},
     "output_type": "execute_result"
    }
   ],
   "source": [
    "x=rand(m)\n",
    "for i in 1:123\n",
    "    x=A*x\n",
    "    x=x/norm(x)\n",
    "end\n",
    " [x (eigen(Matrix(A)).vectors)[:,1]]"
   ]
  },
  {
   "cell_type": "markdown",
   "id": "d2904c6b-1ef0-4092-9b29-9c82dd3a60a9",
   "metadata": {},
   "source": [
    "## Jacobi Iteration\n",
    "Here is our first Iterative solver.  It is called the Jacobi iteration. "
   ]
  },
  {
   "cell_type": "code",
   "execution_count": 64,
   "id": "753687f9-4237-482b-ae7d-b31f8940373f",
   "metadata": {},
   "outputs": [
    {
     "data": {
      "text/plain": [
       "12×2 Matrix{Float64}:\n",
       "  0.227346     0.232068\n",
       "  0.488724     0.493219\n",
       "  0.37553      0.388615\n",
       "  0.287352     0.295312\n",
       "  0.531898     0.550347\n",
       "  0.820642     0.830244\n",
       "  0.453297     0.472885\n",
       "  0.132064     0.141108\n",
       " -0.000149433  0.0160894\n",
       "  0.321863     0.328277\n",
       "  0.569311     0.578481\n",
       "  0.476427     0.478742"
      ]
     },
     "execution_count": 64,
     "metadata": {},
     "output_type": "execute_result"
    }
   ],
   "source": [
    "x=rand(m); b=rand(m)\n",
    "Aoff=A+2.0*I\n",
    "for i in 1:123\n",
    "    x = -0.5*(b-Aoff*x)\n",
    "end\n",
    "[A*x b]"
   ]
  }
 ],
 "metadata": {
  "kernelspec": {
   "display_name": "Julia 1.6.3",
   "language": "julia",
   "name": "julia-1.6"
  },
  "language_info": {
   "file_extension": ".jl",
   "mimetype": "application/julia",
   "name": "julia",
   "version": "1.6.3"
  }
 },
 "nbformat": 4,
 "nbformat_minor": 5
}
