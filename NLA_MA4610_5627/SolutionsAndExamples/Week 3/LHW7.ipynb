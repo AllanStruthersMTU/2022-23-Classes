{
 "cells": [
  {
   "cell_type": "markdown",
   "id": "9808ed88-ae6c-4b4f-acf6-d05c55ef6380",
   "metadata": {},
   "source": [
    "LHW7"
   ]
  },
  {
   "cell_type": "code",
   "execution_count": 9,
   "id": "2425d899-2737-4978-ac5d-204edff444b7",
   "metadata": {},
   "outputs": [
    {
     "data": {
      "text/plain": [
       "48×48 SparseArrays.SparseMatrixCSC{Float64, Int64} with 400 stored entries:\n",
       "⢑⣴⠝⢑⢔⠁⠀⠀⠀⠑⢄⠔⠑⣤⠈⠀⠀⠀⠀⠀⠀⠀⠀⠀\n",
       "⢗⢁⠕⢅⢀⢵⢄⠀⢀⠐⠁⠑⠂⠀⠑⢄⠀⠠⠀⠀⠀⠀⠀⠀\n",
       "⠔⠑⢄⣔⠟⢅⢀⠕⢅⠀⠀⠀⠀⠀⠀⡀⠛⢄⠀⠀⠀⠀⠀⠀\n",
       "⠀⠀⠀⠑⢄⠔⢱⣶⠝⢑⢔⠁⠀⠀⠀⠀⠀⠀⠑⣤⠈⢱⣶⠉\n",
       "⢄⠀⢀⠐⠁⠑⢗⢁⠟⢅⢀⢵⠀⠀⠀⠀⠀⠀⠂⠀⠑⢇⠀⠻\n",
       "⢀⠕⢅⠀⠀⠀⠔⠑⢄⣔⠟⢅⠀⠀⠀⠀⠀⠀⠀⠀⠀⡀⠛⢄\n",
       "⠑⣤⠈⠀⠀⠀⠀⠀⠀⠀⠀⠀⢑⣴⠉⢑⢔⠁⠀⠀⠀⠀⠀⠀\n",
       "⠂⠀⠑⢄⠀⠠⠀⠀⠀⠀⠀⠀⢇⢀⠕⢅⢀⢵⢄⠀⢀⠀⠀⠀\n",
       "⠀⠀⠀⡀⠛⢄⠀⠀⠀⠀⠀⠀⠔⠑⢄⣔⠟⢅⢀⠕⢅⠀⠀⠀\n",
       "⠀⠀⠀⠀⠀⠀⠑⣤⠈⠀⠀⠀⠀⠀⠀⠑⢄⠔⢑⣴⠝⢑⢔⠁\n",
       "⠀⠀⠀⠀⠀⠀⢆⣀⠵⢄⠀⠠⠀⠀⠀⠐⠁⠑⢗⢁⠕⢅⣀⠵\n",
       "⠀⠀⠀⠀⠀⠀⡜⠛⣤⡀⠛⢄⠀⠀⠀⠀⠀⠀⠔⠑⢄⡜⠛⣤"
      ]
     },
     "execution_count": 9,
     "metadata": {},
     "output_type": "execute_result"
    }
   ],
   "source": [
    "using MatrixMarket, LinearAlgebra\n",
    "pwd()\n",
    "As = mmread(\"C:\\\\Users\\\\AllanStruthers\\\\Desktop\\\\Numerical-Linear-Algebra\\\\bcsstk01.mtx\")"
   ]
  },
  {
   "cell_type": "markdown",
   "id": "362dac3b-8d6c-4e6f-bceb-c96c4cd9d935",
   "metadata": {},
   "source": [
    "Output from spare and dens matrices is different. Different algorithms! As is sparse A is the dense equivalent!\n",
    "\n",
    "## Dense \"Tuple\""
   ]
  },
  {
   "cell_type": "code",
   "execution_count": 30,
   "id": "fa8f1ca4-5a39-49c2-b575-e77133ca3ee0",
   "metadata": {},
   "outputs": [
    {
     "name": "stdout",
     "output_type": "stream",
     "text": [
      "(48, 12)\t(48, 48)\t(12, 12)\n",
      "1.7584163179301218e-15\t9.249362348455485e-7\t2.846485958017946e-16\n",
      "1.1814589043473524e-15\t9.13668468662859e-7\t2.8118094722139153e-16\n"
     ]
    }
   ],
   "source": [
    "A = Matrix(As)[:,1:12]\n",
    "(QFat,R) = qr(A)\n",
    "Q=Matrix(QFat)\n",
    "println(size(Q), \"\\t\",  size(QFat), \"\\t\", size(R))\n",
    "println(norm(QFat'*QFat - I), \"\\t\",  norm(A-QFat*R), \"\\t\",norm(A-QFat*R)/norm(A))\n",
    "println(norm(Q'*Q - I), \"\\t\",  norm(A-Q*R), \"\\t\",norm(A-Q*R)/norm(A))"
   ]
  },
  {
   "cell_type": "markdown",
   "id": "2c82c88c-fc96-497a-abcc-8f9590b1ded0",
   "metadata": {},
   "source": [
    "We have thick and thin QR decompositions.  The silent columns of Q i.e. 13:48 provide a basis for the stuff perpendicular to the columns of Q. \n",
    "\n",
    "## Dense \"Structure\""
   ]
  },
  {
   "cell_type": "code",
   "execution_count": 75,
   "id": "3ba7ab0f-5a78-43fb-94c4-c258c07c9c9d",
   "metadata": {},
   "outputs": [
    {
     "name": "stdout",
     "output_type": "stream",
     "text": [
      "(48, 12)\t(48, 48)\t(12, 12)\n",
      "1.7584163179301218e-15\t9.249362348455485e-7\t2.846485958017946e-16\n",
      "1.1814589043473524e-15\t9.13668468662859e-7\t2.8118094722139153e-16\n"
     ]
    }
   ],
   "source": [
    "A = Matrix(As)[:,1:12]\n",
    "F = qr(A)\n",
    "QFat = F.Q\n",
    "R = F.R\n",
    "Q= Matrix(QFat)\n",
    "println(size(Q), \"\\t\",  size(QFat), \"\\t\", size(R))\n",
    "println(norm(QFat'*QFat - I), \"\\t\",  norm(A-QFat*R), \"\\t\",norm(A-QFat*R)/norm(A))\n",
    "println(norm(Q'*Q - I), \"\\t\",  norm(A-Q*R), \"\\t\",norm(A-Q*R)/norm(A))"
   ]
  },
  {
   "cell_type": "markdown",
   "id": "321c605b-390b-46ca-a8c5-0fabed1da68b",
   "metadata": {},
   "source": [
    "Sparse does a different algorithm which returns more \"bits\".  These bits tell you how it moved columns and rows around! If you use the structure it will work very similarly.  You just need to move the rows and columns around. \n",
    "\n",
    "## Sparse: \"Structure\" pivoting"
   ]
  },
  {
   "cell_type": "code",
   "execution_count": 77,
   "id": "f2c47a67-8434-4359-a78f-b43a1d6b0f96",
   "metadata": {},
   "outputs": [
    {
     "data": {
      "text/plain": [
       "5.559729893037616e-16"
      ]
     },
     "execution_count": 77,
     "metadata": {},
     "output_type": "execute_result"
    }
   ],
   "source": [
    "A = As[:,1:12]\n",
    "F = qr(A)\n",
    "R=F.R\n",
    "Q=Matrix(F.Q)\n",
    "pr=F.prow\n",
    "pc=F.pcol\n",
    "norm(A[pr,pc]-Q*R)/norm(A)"
   ]
  },
  {
   "cell_type": "code",
   "execution_count": 82,
   "id": "f9557fb1-2e6f-4235-b716-51456d939e48",
   "metadata": {},
   "outputs": [
    {
     "data": {
      "image/png": "[encoded data removed]",
      "text/plain": [
       "Figure(PyObject <Figure size 400x800 with 1 Axes>)"
      ]
     },
     "metadata": {},
     "output_type": "display_data"
    },
    {
     "data": {
      "text/plain": [
       "PyObject <matplotlib.image.AxesImage object at 0x000000007D416F70>"
      ]
     },
     "execution_count": 82,
     "metadata": {},
     "output_type": "execute_result"
    }
   ],
   "source": [
    "using PyPlot\n",
    "matshow([A A[pr,pc]] )"
   ]
  }
 ],
 "metadata": {
  "kernelspec": {
   "display_name": "Julia 1.6.3",
   "language": "julia",
   "name": "julia-1.6"
  },
  "language_info": {
   "file_extension": ".jl",
   "mimetype": "application/julia",
   "name": "julia",
   "version": "1.6.3"
  }
 },
 "nbformat": 4,
 "nbformat_minor": 5
}
