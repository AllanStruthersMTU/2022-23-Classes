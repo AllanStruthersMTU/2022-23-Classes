{
 "cells": [
  {
   "cell_type": "code",
   "execution_count": 1,
   "id": "666150d4-1c0f-4ca0-84d9-1a5b557f2ec1",
   "metadata": {},
   "outputs": [
    {
     "data": {
      "text/plain": [
       "5×5 UpperTriangular{Float64, Matrix{Float64}}:\n",
       " 1.34979  1.00409  0.678996  0.997398  0.604245\n",
       "  ⋅       0.90941  1.02378   0.738628  0.767139\n",
       "  ⋅        ⋅       0.520779  0.476868  0.109248\n",
       "  ⋅        ⋅        ⋅        0.206581  0.178842\n",
       "  ⋅        ⋅        ⋅         ⋅        0.105738"
      ]
     },
     "execution_count": 1,
     "metadata": {},
     "output_type": "execute_result"
    }
   ],
   "source": [
    "using LinearAlgebra\n",
    "m=5;\n",
    "A= rand(m,m)\n",
    "A0 = A*A'\n",
    "L = cholesky(A0).U"
   ]
  },
  {
   "cell_type": "code",
   "execution_count": 30,
   "id": "bc3bc4bd-4194-4ab6-a923-0283d227e813",
   "metadata": {},
   "outputs": [
    {
     "data": {
      "text/plain": [
       "Cholesky{Float64, Matrix{Float64}}\n",
       "U factor:\n",
       "4×4 UpperTriangular{Float64, Matrix{Float64}}:\n",
       " 0.951986  0.897612   0.543466    1.27801\n",
       "  ⋅        0.729084  -0.0248976   0.378678\n",
       "  ⋅         ⋅         0.517285   -0.0503779\n",
       "  ⋅         ⋅          ⋅          0.352231"
      ]
     },
     "execution_count": 30,
     "metadata": {},
     "output_type": "execute_result"
    }
   ],
   "source": [
    "II =Matrix(I,m,m-1);\n",
    "A1 = II'*A0*II\n",
    "norm(A0[1:m-1,1:m-1]-A1)\n",
    "cholesky(A1).U - "
   ]
  },
  {
   "cell_type": "code",
   "execution_count": 7,
   "id": "b283bae3-371f-470a-83b3-8425e262a409",
   "metadata": {},
   "outputs": [
    {
     "data": {
      "text/plain": [
       "BunchKaufman{Float64, Matrix{Float64}}\n",
       "D factor:\n",
       "12×12 Tridiagonal{Float64, Vector{Float64}}:\n",
       " 1.44523  0.0        ⋅         ⋅        …    ⋅           ⋅        ⋅ \n",
       " 0.0      0.84472   0.0        ⋅             ⋅           ⋅        ⋅ \n",
       "  ⋅       0.0      -2.25921   0.0            ⋅           ⋅        ⋅ \n",
       "  ⋅        ⋅        0.0      -0.563692       ⋅           ⋅        ⋅ \n",
       "  ⋅        ⋅         ⋅        0.382042       ⋅           ⋅        ⋅ \n",
       "  ⋅        ⋅         ⋅         ⋅        …    ⋅           ⋅        ⋅ \n",
       "  ⋅        ⋅         ⋅         ⋅             ⋅           ⋅        ⋅ \n",
       "  ⋅        ⋅         ⋅         ⋅             ⋅           ⋅        ⋅ \n",
       "  ⋅        ⋅         ⋅         ⋅            0.743079     ⋅        ⋅ \n",
       "  ⋅        ⋅         ⋅         ⋅           -0.0862768   0.0       ⋅ \n",
       "  ⋅        ⋅         ⋅         ⋅        …   0.0        -1.62686  0.0\n",
       "  ⋅        ⋅         ⋅         ⋅             ⋅          0.0      1.62799\n",
       "U factor:\n",
       "12×12 UnitUpperTriangular{Float64, Matrix{Float64}}:\n",
       " 1.0  -0.140852  0.543699  0.357279  …   0.0828847   0.22746    0.561274\n",
       "  ⋅    1.0       0.659253  0.944931      0.885189   -0.0741041  0.434051\n",
       "  ⋅     ⋅        1.0       1.06284       0.524463   -0.314157   0.361003\n",
       "  ⋅     ⋅         ⋅        1.0           0.242837   -0.610551   0.0503209\n",
       "  ⋅     ⋅         ⋅         ⋅           -0.232864    0.272682   1.02826\n",
       "  ⋅     ⋅         ⋅         ⋅        …  -0.964667   -0.326195   0.575356\n",
       "  ⋅     ⋅         ⋅         ⋅            0.021696   -0.2747     0.261698\n",
       "  ⋅     ⋅         ⋅         ⋅            0.606348    0.184033   0.575893\n",
       "  ⋅     ⋅         ⋅         ⋅            0.0         0.606716   0.674428\n",
       "  ⋅     ⋅         ⋅         ⋅            1.0         0.0541618  0.709035\n",
       "  ⋅     ⋅         ⋅         ⋅        …    ⋅          1.0        1.00732\n",
       "  ⋅     ⋅         ⋅         ⋅             ⋅           ⋅         1.0\n",
       "permutation:\n",
       "12-element Vector{Int64}:\n",
       "  1\n",
       "  9\n",
       "  4\n",
       "  3\n",
       "  6\n",
       "  5\n",
       "  2\n",
       "  8\n",
       "  7\n",
       " 10\n",
       " 11\n",
       " 12"
      ]
     },
     "execution_count": 7,
     "metadata": {},
     "output_type": "execute_result"
    }
   ],
   "source": [
    "bkfact = bunchkaufman(A)"
   ]
  },
  {
   "cell_type": "code",
   "execution_count": 2,
   "id": "d850daad-2049-4ff3-95bc-48371509ce2e",
   "metadata": {},
   "outputs": [
    {
     "data": {
      "text/plain": [
       "2×2 adjoint(::Matrix{ComplexF64}) with eltype ComplexF64:\n",
       " 1.2-1.3im  2.3-3.4im\n",
       " 3.2+1.2im  6.7+3.4im"
      ]
     },
     "execution_count": 2,
     "metadata": {},
     "output_type": "execute_result"
    }
   ],
   "source": [
    "adjoint(A)"
   ]
  },
  {
   "cell_type": "code",
   "execution_count": null,
   "id": "b6b4dd05-47d1-43cf-8c9c-4d0528e1ca60",
   "metadata": {},
   "outputs": [],
   "source": []
  }
 ],
 "metadata": {
  "kernelspec": {
   "display_name": "Julia 1.6.3",
   "language": "julia",
   "name": "julia-1.6"
  },
  "language_info": {
   "file_extension": ".jl",
   "mimetype": "application/julia",
   "name": "julia",
   "version": "1.6.3"
  }
 },
 "nbformat": 4,
 "nbformat_minor": 5
}
