{
 "cells": [
  {
   "cell_type": "markdown",
   "id": "fc484080-6063-4651-8dcd-30d7408ae844",
   "metadata": {},
   "source": [
    "1+1"
   ]
  },
  {
   "cell_type": "markdown",
   "id": "33dcc3f9-0d8a-4254-892c-7b0a7f754b95",
   "metadata": {},
   "source": [
    "### "
   ]
  },
  {
   "cell_type": "markdown",
   "id": "0537d678-fe4d-45da-a7d8-6ffe005eed25",
   "metadata": {},
   "source": [
    "Test the install"
   ]
  },
  {
   "cell_type": "code",
   "execution_count": 1,
   "id": "f8f0963e-5e86-4b17-be87-fc38ec261920",
   "metadata": {},
   "outputs": [
    {
     "data": {
      "text/plain": [
       "2"
      ]
     },
     "execution_count": 1,
     "metadata": {},
     "output_type": "execute_result"
    }
   ],
   "source": [
    "1+1"
   ]
  },
  {
   "cell_type": "markdown",
   "id": "b7d41919-5422-4187-b1b0-4e9034e84ed2",
   "metadata": {},
   "source": [
    "Read a matrix.  I had to download and uncompress the stupid thing! Because I am lazy I put the matrix in the same directory as the notebook. "
   ]
  },
  {
   "cell_type": "markdown",
   "id": "8727e8f4-360c-4585-9fda-798407cf9c23",
   "metadata": {},
   "source": [
    "# Title\n",
    " 1+2 "
   ]
  },
  {
   "cell_type": "code",
   "execution_count": 3,
   "id": "a261b2fd-3074-4540-9e15-1cc7c9a0f70c",
   "metadata": {},
   "outputs": [],
   "source": [
    "using MatrixMarket\n",
    "A=mmread(\"impcol_b.mtx\");"
   ]
  },
  {
   "cell_type": "code",
   "execution_count": 8,
   "id": "44a71c41-a669-4360-8fb3-2f5772803ee5",
   "metadata": {},
   "outputs": [
    {
     "data": {
      "text/plain": [
       "59-element Vector{ComplexF64}:\n",
       "  -5.157899840792185 + 0.0im\n",
       "   -1.06837799912654 - 0.6126266310539054im\n",
       "   -1.06837799912654 + 0.6126266310539054im\n",
       " -1.0217581484450107 - 0.22447954879507093im\n",
       " -1.0217581484450107 + 0.22447954879507093im\n",
       " -0.9659184096212049 + 0.0im\n",
       " -0.8884452518673291 - 1.0519243397578923im\n",
       " -0.8884452518673291 + 1.0519243397578923im\n",
       " -0.7866430125319164 - 0.28317264824550953im\n",
       " -0.7866430125319164 + 0.28317264824550953im\n",
       " -0.7550746296621452 - 0.8119505906913976im\n",
       " -0.7550746296621452 + 0.8119505906913976im\n",
       " -0.5927076510527043 - 0.609659855509422im\n",
       "                     ⋮\n",
       "  0.9836009360080413 - 1.0036754442357063im\n",
       "  0.9836009360080413 + 1.0036754442357063im\n",
       "  1.2378500891827635 - 0.4804878534895754im\n",
       "  1.2378500891827635 + 0.4804878534895754im\n",
       "  1.2445558718241767 + 0.0im\n",
       "  1.2935502862067942 - 0.4859002989889098im\n",
       "  1.2935502862067942 + 0.4859002989889098im\n",
       "  1.3471365700925082 - 0.1790079294831773im\n",
       "  1.3471365700925082 + 0.1790079294831773im\n",
       "  1.4598213903635715 - 0.486695144883284im\n",
       "  1.4598213903635715 + 0.486695144883284im\n",
       "  1.6141108768807746 + 0.0im"
      ]
     },
     "execution_count": 8,
     "metadata": {},
     "output_type": "execute_result"
    }
   ],
   "source": [
    "using LinearAlgebra\n",
    "A= Matrix(A);\n",
    "eigenstuff = eigen(A);"
   ]
  },
  {
   "cell_type": "code",
   "execution_count": null,
   "id": "b6d9cb63-75e3-46e8-b973-ff37d525f9f1",
   "metadata": {},
   "outputs": [],
   "source": []
  }
 ],
 "metadata": {
  "kernelspec": {
   "display_name": "Julia 1.6.3",
   "language": "julia",
   "name": "julia-1.6"
  },
  "language_info": {
   "file_extension": ".jl",
   "mimetype": "application/julia",
   "name": "julia",
   "version": "1.6.3"
  }
 },
 "nbformat": 4,
 "nbformat_minor": 5
}
