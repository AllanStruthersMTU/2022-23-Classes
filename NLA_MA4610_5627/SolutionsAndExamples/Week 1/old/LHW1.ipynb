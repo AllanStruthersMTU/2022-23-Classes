{
 "cells": [
  {
   "cell_type": "markdown",
   "id": "c5fe6f36-6d5a-418e-9329-b7255c5b9248",
   "metadata": {},
   "source": [
    "LHW1 "
   ]
  },
  {
   "cell_type": "code",
   "execution_count": 18,
   "id": "53ba5038-a1a3-48dc-8fbb-748063c5d2d9",
   "metadata": {},
   "outputs": [
    {
     "name": "stdout",
     "output_type": "stream",
     "text": [
      "  0.119805 seconds (5 allocations: 145.136 MiB, 24.90% gc time)\n"
     ]
    }
   ],
   "source": [
    "(m,n,r) = (4300,4400,24);\n",
    "U = rand(m,r);\n",
    "V=rand(n,r);\n",
    "T=rand(r,r);\n",
    "@time A=U*T*V';"
   ]
  },
  {
   "cell_type": "markdown",
   "id": "fb11a9da-f348-4ad8-b07d-093aa5097187",
   "metadata": {},
   "source": [
    "About 0.1 seconds"
   ]
  },
  {
   "cell_type": "code",
   "execution_count": 21,
   "id": "6208a810-d3d9-49db-974e-91f44c604f90",
   "metadata": {},
   "outputs": [
    {
     "name": "stdout",
     "output_type": "stream",
     "text": [
      "  0.104833 seconds (7 allocations: 145.169 MiB)\n",
      "  0.000569 seconds (5 allocations: 34.250 KiB)\n",
      "  0.148063 seconds (7 allocations: 145.169 MiB, 34.47% gc time)\n"
     ]
    },
    {
     "data": {
      "text/plain": [
       "1.8653321053546544e-15"
      ]
     },
     "execution_count": 21,
     "metadata": {},
     "output_type": "execute_result"
    }
   ],
   "source": [
    "using LinearAlgebra\n",
    "v=rand(n);\n",
    "@time z1 = (U*T*V')*v;\n",
    "@time z2 = (U*(T*(V'*v)));\n",
    "@time z3 = U*T*V'*v;\n",
    "norm(z1-z2)/norm(z1)"
   ]
  },
  {
   "cell_type": "markdown",
   "id": "f152be52-75ee-4263-8379-783aa613af7a",
   "metadata": {},
   "source": [
    "They are essentially the same.  z2 is much faster than z1 because it does less arithmetic!\n",
    "Apparently the default is essentially z1 :("
   ]
  },
  {
   "cell_type": "markdown",
   "id": "44e48c6e-ee10-4abd-aed9-8f42153caec6",
   "metadata": {},
   "source": [
    "# Title\n",
    "## Subtitle\n",
    "---\n",
    "\n",
    "1. $\\int_0^1 \\sin(x) dx$\n",
    "1. xxx"
   ]
  },
  {
   "cell_type": "code",
   "execution_count": null,
   "id": "5d9d29aa-6cc4-4396-bff3-ca378d523ec9",
   "metadata": {},
   "outputs": [],
   "source": []
  },
  {
   "cell_type": "markdown",
   "id": "33217087-edf6-4227-9e89-683e8df39a2e",
   "metadata": {},
   "source": [
    "1+1"
   ]
  },
  {
   "cell_type": "code",
   "execution_count": null,
   "id": "054442f4-8d17-4ce3-b46c-3a0c8b42afe3",
   "metadata": {},
   "outputs": [],
   "source": []
  }
 ],
 "metadata": {
  "kernelspec": {
   "display_name": "Julia 1.6.3",
   "language": "julia",
   "name": "julia-1.6"
  },
  "language_info": {
   "file_extension": ".jl",
   "mimetype": "application/julia",
   "name": "julia",
   "version": "1.6.3"
  }
 },
 "nbformat": 4,
 "nbformat_minor": 5
}
