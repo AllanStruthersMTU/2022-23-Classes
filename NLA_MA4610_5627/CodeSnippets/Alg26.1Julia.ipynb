{
 "cells": [
  {
   "cell_type": "markdown",
   "id": "5dc4b91e-085e-43a6-99ac-a70045e0c066",
   "metadata": {},
   "source": [
    "# Julia Code\n",
    "Algorithm 26.1"
   ]
  },
  {
   "cell_type": "code",
   "execution_count": 75,
   "id": "af1d1222-79ca-4d7e-9f61-ee6ddadd19d2",
   "metadata": {},
   "outputs": [
    {
     "data": {
      "text/plain": [
       "Hessenberg (generic function with 1 method)"
      ]
     },
     "execution_count": 75,
     "metadata": {},
     "output_type": "execute_result"
    }
   ],
   "source": [
    "using LinearAlgebra\n",
    "\n",
    "# define Hessenber Decomposition Algorithm 26.1 T&B p198\n",
    "function Hessenberg(AIn)\n",
    "    A = copy(AIn)\n",
    "    m = size(A)[1]\n",
    "    # Note Linear Algebra indexing\n",
    "    for k in 1:m-2\n",
    "        x = A[k+1:m,k]\n",
    "        v=x\n",
    "        v[1]+=sign(x[1])*norm(x)\n",
    "        v=v/norm(v)\n",
    "        A[k+1:m,k:m] -= 2*v*(v'*A[k+1:m,k:m])\n",
    "        A[1:m,k+1:m] -= 2*(A[1:m,k+1:m]*v)*v'\n",
    "    end\n",
    "    return A\n",
    "end"
   ]
  },
  {
   "cell_type": "markdown",
   "id": "ce2911f6-85fa-48bd-8fa7-348b4f91f5c0",
   "metadata": {},
   "source": [
    "## Testing\n",
    "For square A the output H should be almost upper triangular (with one additional non zero subdiagonal) and have the same eigenvalues as A."
   ]
  },
  {
   "cell_type": "code",
   "execution_count": 76,
   "id": "c25b39d1-579c-46ce-a27e-d4992fcb6f5e",
   "metadata": {},
   "outputs": [
    {
     "name": "stdout",
     "output_type": "stream",
     "text": [
      "eigenvalue Difference is 2.4855675858551875e-15\n"
     ]
    },
    {
     "data": {
      "text/plain": [
       "7×7 Array{Float64,2}:\n",
       "  0.7505       -1.3108       …  -0.010796    0.150964   0.00703837\n",
       " -1.26963       2.95023         -0.086217    0.313268  -0.398205  \n",
       "  0.0          -0.748222         0.257086   -0.339953   0.820792  \n",
       " -1.11022e-16  -2.77556e-17      0.147219   -0.136138  -0.305629  \n",
       " -1.11022e-16   5.55112e-17      0.0463817   0.287717   0.117836  \n",
       "  0.0           0.0          …   0.33004    -0.236915  -0.459836  \n",
       " -1.11022e-16   0.0              0.0        -0.175454  -0.085237  "
      ]
     },
     "execution_count": 76,
     "metadata": {},
     "output_type": "execute_result"
    }
   ],
   "source": [
    "using PyPlot\n",
    "# make random matrix\n",
    "m = 7\n",
    "A = rand(m, m);\n",
    "H = Hessenberg(A)\n",
    "println(\"eigenvalue Difference is \", norm(eigen(A).values-eigen(H).values))\n",
    "H"
   ]
  },
  {
   "cell_type": "code",
   "execution_count": null,
   "id": "00c9f799-a485-4e7d-b837-4737791c7aed",
   "metadata": {},
   "outputs": [],
   "source": []
  }
 ],
 "metadata": {
  "kernelspec": {
   "display_name": "Julia 1.0.5",
   "language": "julia",
   "name": "julia-1.0"
  },
  "language_info": {
   "file_extension": ".jl",
   "mimetype": "application/julia",
   "name": "julia",
   "version": "1.0.5"
  }
 },
 "nbformat": 4,
 "nbformat_minor": 5
}
