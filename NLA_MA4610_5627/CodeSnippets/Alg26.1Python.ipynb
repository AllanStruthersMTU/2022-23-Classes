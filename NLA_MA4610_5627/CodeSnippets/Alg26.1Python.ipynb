{
 "cells": [
  {
   "cell_type": "markdown",
   "id": "5dc4b91e-085e-43a6-99ac-a70045e0c066",
   "metadata": {},
   "source": [
    "# Python Code\n",
    "Algorithm 26.1"
   ]
  },
  {
   "cell_type": "code",
   "execution_count": 68,
   "id": "af1d1222-79ca-4d7e-9f61-ee6ddadd19d2",
   "metadata": {},
   "outputs": [],
   "source": [
    "import numpy as np\n",
    "import scipy.linalg\n",
    "\n",
    "# define Hessenber Decomposition Algorithm 26.1 T&B p198 \n",
    "def Hessenberg(AIn):\n",
    "    A = AIn;\n",
    "    # Note Zero indexing offset throughout\n",
    "    for k in range(0, m-2):\n",
    "        x = A[k:m,k-1]\n",
    "        v = x\n",
    "        v[0]+=np.sign(x[0])*np.linalg.norm(x) \n",
    "        v = v/np.linalg.norm(v)\n",
    "        A[k:m,k-1:m] -= 2*np.outer(v, v@A[k:m,k-1:m])\n",
    "        A[0:m,k:m]   -= 2*np.outer(A[0:m,k:m]@v,v)\n",
    "    return A"
   ]
  },
  {
   "cell_type": "markdown",
   "id": "91fdfe1b-65ba-4819-9f65-774c3bb0683d",
   "metadata": {},
   "source": [
    "## Testing\n",
    "For square A the output H should be almots upper triangular i.e. upper Hessenberg and have the same eigenvalues to reasonable accuracy."
   ]
  },
  {
   "cell_type": "code",
   "execution_count": 69,
   "id": "c25b39d1-579c-46ce-a27e-d4992fcb6f5e",
   "metadata": {},
   "outputs": [
    {
     "name": "stdout",
     "output_type": "stream",
     "text": [
      "[[-0.29166464  0.76184706  1.41375121  0.27643298 -0.87944453]\n",
      " [ 1.57651768 -1.16919965 -1.21489144 -0.09486449  1.81191738]\n",
      " [ 0.60364299 -0.5077866   0.60177731  0.47571419 -0.08076421]\n",
      " [ 0.64285758  0.14260391 -0.19630895  0.7079563   0.38620634]\n",
      " [ 0.64000492 -0.40455089  0.14551048  0.16134852 -0.48169836]]\n",
      "[ 1.38778136+0.j          0.36366298+0.40589703j  0.36366298-0.40589703j\n",
      " -1.37396818+0.21830621j -1.37396818-0.21830621j]\n",
      "[ 1.38778136+0.j          0.36366298+0.40589703j  0.36366298-0.40589703j\n",
      " -1.37396818+0.21830621j -1.37396818-0.21830621j]\n"
     ]
    }
   ],
   "source": [
    "# make random square matrix\n",
    "m = 5\n",
    "A = np.random.rand(m, m)\n",
    "v= np.random.rand(m)\n",
    "lambdaV = np.linalg.eig(A);\n",
    "H = Hessenberg(A)\n",
    "print(H)\n",
    "print(np.linalg.eig(A)[0])\n",
    "print(np.linalg.eig(H)[0])"
   ]
  },
  {
   "cell_type": "code",
   "execution_count": null,
   "id": "a1487a9a-b005-4b2d-99bc-3f9fb55288b0",
   "metadata": {},
   "outputs": [],
   "source": []
  }
 ],
 "metadata": {
  "kernelspec": {
   "display_name": "Python 3",
   "language": "python",
   "name": "python3"
  },
  "language_info": {
   "codemirror_mode": {
    "name": "ipython",
    "version": 3
   },
   "file_extension": ".py",
   "mimetype": "text/x-python",
   "name": "python",
   "nbconvert_exporter": "python",
   "pygments_lexer": "ipython3",
   "version": "3.8.8"
  }
 },
 "nbformat": 4,
 "nbformat_minor": 5
}
