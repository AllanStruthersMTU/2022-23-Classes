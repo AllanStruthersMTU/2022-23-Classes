{
 "cells": [
  {
   "cell_type": "markdown",
   "id": "5dc4b91e-085e-43a6-99ac-a70045e0c066",
   "metadata": {},
   "source": [
    "# Julia Code\n",
    "Algorithm 23.1"
   ]
  },
  {
   "cell_type": "code",
   "execution_count": 21,
   "id": "af1d1222-79ca-4d7e-9f61-ee6ddadd19d2",
   "metadata": {},
   "outputs": [
    {
     "data": {
      "text/plain": [
       "Cholesky (generic function with 1 method)"
      ]
     },
     "execution_count": 21,
     "metadata": {},
     "output_type": "execute_result"
    }
   ],
   "source": [
    "using LinearAlgebra\n",
    "\n",
    "# define Cholesky Decomposition Algorithm 23.1 T&B \n",
    "function Cholesky(A)\n",
    "    R = triu(A)\n",
    "    m = size(R)[1]\n",
    "    # Note Linear Algebra indexing\n",
    "    for k in 1:m\n",
    "        for j in k+1:m\n",
    "            R[j,j:m] -= R[k,j:m]*R[k,j]/R[k,k]\n",
    "        end\n",
    "        R[k,k:m] = R[k,k:m]/sqrt(R[k,k])\n",
    "    end\n",
    "    return R\n",
    "end"
   ]
  },
  {
   "cell_type": "markdown",
   "id": "91fdfe1b-65ba-4819-9f65-774c3bb0683d",
   "metadata": {},
   "source": [
    "## Testing\n",
    "For SPD A the output R should be upper triangular and satisfy the decomposition to reasonable accuracy."
   ]
  },
  {
   "cell_type": "code",
   "execution_count": 38,
   "id": "c25b39d1-579c-46ce-a27e-d4992fcb6f5e",
   "metadata": {},
   "outputs": [
    {
     "data": {
      "image/png": "[encoded data removed]",
      "text/plain": [
       "Figure(PyObject <Figure size 640x480 with 1 Axes>)"
      ]
     },
     "metadata": {},
     "output_type": "display_data"
    },
    {
     "name": "stdout",
     "output_type": "stream",
     "text": [
      "Residual Norm is 8.599750569898517e-16\n"
     ]
    },
    {
     "data": {
      "text/plain": [
       "PyObject <matplotlib.image.AxesImage object at 0x7fd8c0ae0550>"
      ]
     },
     "execution_count": 38,
     "metadata": {},
     "output_type": "execute_result"
    }
   ],
   "source": [
    "using PyPlot\n",
    "# make SPD random matrix\n",
    "m = 5\n",
    "A = rand(m, m); A = A'*A\n",
    "R = Cholesky(A)\n",
    "println(\"Residual Norm is \", norm(A-R'*R))\n",
    "spy(R)"
   ]
  }
 ],
 "metadata": {
  "kernelspec": {
   "display_name": "Julia 1.0.5",
   "language": "julia",
   "name": "julia-1.0"
  },
  "language_info": {
   "file_extension": ".jl",
   "mimetype": "application/julia",
   "name": "julia",
   "version": "1.0.5"
  }
 },
 "nbformat": 4,
 "nbformat_minor": 5
}
