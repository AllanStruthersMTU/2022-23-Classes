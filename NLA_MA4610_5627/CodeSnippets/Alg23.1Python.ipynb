{
 "cells": [
  {
   "cell_type": "markdown",
   "id": "5dc4b91e-085e-43a6-99ac-a70045e0c066",
   "metadata": {},
   "source": [
    "# Python Code\n",
    "Algorithm "
   ]
  },
  {
   "cell_type": "code",
   "execution_count": 2,
   "id": "af1d1222-79ca-4d7e-9f61-ee6ddadd19d2",
   "metadata": {},
   "outputs": [],
   "source": [
    "import numpy as np\n",
    "import scipy.linalg\n",
    "\n",
    "# define Cholesky Decomposition Algorithm 23.1 T&B \n",
    "def Cholesky(A):\n",
    "    R = np.triu(A)\n",
    "    m = np.shape(R)[0]\n",
    "    # Note Zero indexing\n",
    "    for k in range(0, m):\n",
    "        for j in range(k + 1, m):\n",
    "            R[j,j:m] = R[j,j:m]-(R[k,j:m]*np.conjugate(R[k,j])/R[k,k])\n",
    "        R[k,k:m] = R[k,k:m]/np.sqrt(R[k,k])\n",
    "    return R"
   ]
  },
  {
   "cell_type": "markdown",
   "id": "91fdfe1b-65ba-4819-9f65-774c3bb0683d",
   "metadata": {},
   "source": [
    "## Testing\n",
    "For SPD A the output R should be upper triangular and satisfy the decomposition to reasonable accuracy."
   ]
  },
  {
   "cell_type": "code",
   "execution_count": 9,
   "id": "c25b39d1-579c-46ce-a27e-d4992fcb6f5e",
   "metadata": {},
   "outputs": [
    {
     "name": "stdout",
     "output_type": "stream",
     "text": [
      "[[ 1.07393029  0.92362776  0.93352426  1.07157967  0.94216819]\n",
      " [ 0.          0.74196866  0.36942247  0.43097418  0.544755  ]\n",
      " [ 0.          0.          0.74141964  0.11564404 -0.34715565]\n",
      " [ 0.          0.          0.          0.45361408 -0.07470946]\n",
      " [ 0.          0.          0.          0.          0.28803158]]\n",
      "6.661338147750939e-16\n"
     ]
    }
   ],
   "source": [
    "# make SPD random matrix\n",
    "m = 5\n",
    "A = np.random.rand(m, m); A = np.transpose(A)@A\n",
    "R = Cholesky(A)\n",
    "Residual = A-np.transpose(R)@R\n",
    "print(R)\n",
    "print(np.linalg.norm(Residual))"
   ]
  }
 ],
 "metadata": {
  "kernelspec": {
   "display_name": "Python 3",
   "language": "python",
   "name": "python3"
  },
  "language_info": {
   "codemirror_mode": {
    "name": "ipython",
    "version": 3
   },
   "file_extension": ".py",
   "mimetype": "text/x-python",
   "name": "python",
   "nbconvert_exporter": "python",
   "pygments_lexer": "ipython3",
   "version": "3.8.8"
  }
 },
 "nbformat": 4,
 "nbformat_minor": 5
}
