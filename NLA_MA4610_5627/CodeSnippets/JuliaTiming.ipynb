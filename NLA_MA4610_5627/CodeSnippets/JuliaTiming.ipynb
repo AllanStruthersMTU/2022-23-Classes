{
 "cells": [
  {
   "cell_type": "code",
   "execution_count": 2,
   "id": "6f0afb77-a4c0-4f45-8e28-386186923206",
   "metadata": {},
   "outputs": [
    {
     "name": "stdout",
     "output_type": "stream",
     "text": [
      "1\t  0.000021 seconds (3 allocations: 336 bytes)\n",
      "2\t  0.000053 seconds (3 allocations: 624 bytes)\n",
      "3\t  0.000073 seconds (3 allocations: 1.828 KiB)\n",
      "4\t  0.000129 seconds (3 allocations: 6.375 KiB)\n",
      "5\t  0.000239 seconds (3 allocations: 24.375 KiB)\n",
      "6\t  0.000631 seconds (6 allocations: 68.234 KiB)\n",
      "7\t  0.004715 seconds (6 allocations: 200.234 KiB)\n",
      "8\t  0.015125 seconds (6 allocations: 656.234 KiB)\n",
      "9\t  0.045558 seconds (6 allocations: 2.281 MiB)\n",
      "10\t  0.105557 seconds (6 allocations: 8.563 MiB)\n",
      "11\t  0.483152 seconds (6 allocations: 33.125 MiB)\n",
      "12\t  2.887186 seconds (6 allocations: 130.250 MiB, 0.24% gc time)\n"
     ]
    }
   ],
   "source": [
    "using LinearAlgebra\n",
    "for p in 1:12\n",
    "    A=randn(2^p,2^p)\n",
    "    print(p,\"\\t\")\n",
    "    @time Decomp = qr(A) \n",
    "end"
   ]
  },
  {
   "cell_type": "code",
   "execution_count": 4,
   "id": "07c6f457-df03-4c81-be7b-9727c03b6aba",
   "metadata": {},
   "outputs": [
    {
     "name": "stdout",
     "output_type": "stream",
     "text": [
      "1\t  0.000045 seconds (2 allocations: 224 bytes)\n",
      "2\t  0.000075 seconds (2 allocations: 416 bytes)\n",
      "3\t  0.000055 seconds (2 allocations: 1.219 KiB)\n",
      "4\t  0.000102 seconds (2 allocations: 4.250 KiB)\n",
      "5\t  0.000197 seconds (2 allocations: 16.250 KiB)\n",
      "6\t  0.000546 seconds (4 allocations: 36.156 KiB)\n",
      "7\t  0.005857 seconds (4 allocations: 72.156 KiB)\n",
      "8\t  0.016309 seconds (4 allocations: 144.156 KiB)\n",
      "9\t  0.043477 seconds (4 allocations: 288.156 KiB)\n",
      "10\t  0.098223 seconds (4 allocations: 576.156 KiB)\n",
      "11\t  0.465659 seconds (4 allocations: 1.125 MiB)\n",
      "12\t  2.831749 seconds (4 allocations: 2.250 MiB)\n"
     ]
    }
   ],
   "source": [
    "using LinearAlgebra\n",
    "for p in 1:12\n",
    "    A=randn(2^p,2^p)\n",
    "    print(p,\"\\t\")\n",
    "    @time qr!(A) \n",
    "end"
   ]
  },
  {
   "cell_type": "code",
   "execution_count": null,
   "id": "86cb48d7-7525-400b-94eb-d9708d3e96af",
   "metadata": {},
   "outputs": [],
   "source": []
  }
 ],
 "metadata": {
  "kernelspec": {
   "display_name": "Julia 1.6.3",
   "language": "julia",
   "name": "julia-1.6"
  },
  "language_info": {
   "file_extension": ".jl",
   "mimetype": "application/julia",
   "name": "julia",
   "version": "1.6.3"
  }
 },
 "nbformat": 4,
 "nbformat_minor": 5
}
