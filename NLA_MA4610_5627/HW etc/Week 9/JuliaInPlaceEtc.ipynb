{
 "cells": [
  {
   "cell_type": "code",
   "execution_count": 2,
   "id": "53ba5038-a1a3-48dc-8fbb-748063c5d2d9",
   "metadata": {},
   "outputs": [
    {
     "data": {
      "text/plain": [
       "fOut (generic function with 1 method)"
      ]
     },
     "execution_count": 2,
     "metadata": {},
     "output_type": "execute_result"
    }
   ],
   "source": [
    "using LinearAlgebra\n",
    "\n",
    "function fIn(A)\n",
    "    A[1,1]+=2.0\n",
    "end\n",
    "\n",
    "function fOut(AIn)\n",
    "    A=copy(AIn)\n",
    "    A[1,1]+=2.0\n",
    "    return A\n",
    "end"
   ]
  },
  {
   "cell_type": "markdown",
   "id": "7dfe3f66-98b7-429d-8b08-7c5c83efb103",
   "metadata": {},
   "source": [
    "Testing"
   ]
  },
  {
   "cell_type": "code",
   "execution_count": 8,
   "id": "e25e2ee5-aac6-43f7-b5fa-d034aeeba406",
   "metadata": {},
   "outputs": [
    {
     "data": {
      "text/plain": [
       "6×3 Matrix{Float64}:\n",
       " 0.741195   0.354972   0.445254\n",
       " 0.0378731  0.0856014  0.359166\n",
       " 0.928548   0.0690753  0.13937\n",
       " 2.7412     0.354972   0.445254\n",
       " 0.0378731  0.0856014  0.359166\n",
       " 0.928548   0.0690753  0.13937"
      ]
     },
     "execution_count": 8,
     "metadata": {},
     "output_type": "execute_result"
    }
   ],
   "source": [
    "m=3;\n",
    "A=rand(m,m)\n",
    "A0=copy(A)\n",
    "[A0;fOut(A)]"
   ]
  },
  {
   "cell_type": "code",
   "execution_count": 9,
   "id": "a33863d2-12c2-4f28-b101-514c7bd27824",
   "metadata": {},
   "outputs": [
    {
     "data": {
      "text/plain": [
       "6×3 Matrix{Float64}:\n",
       " 0.813088   0.536018  0.10234\n",
       " 0.237189   0.774492  0.0674795\n",
       " 0.0661459  0.564277  0.494478\n",
       " 2.81309    0.536018  0.10234\n",
       " 0.237189   0.774492  0.0674795\n",
       " 0.0661459  0.564277  0.494478"
      ]
     },
     "execution_count": 9,
     "metadata": {},
     "output_type": "execute_result"
    }
   ],
   "source": [
    "m=3;\n",
    "A=rand(m,m)\n",
    "A0=copy(A)\n",
    "fIn(A)\n",
    "[A0;A]"
   ]
  },
  {
   "cell_type": "code",
   "execution_count": 10,
   "id": "961d3197-d242-44a1-baa9-d4b9d7dd9c84",
   "metadata": {},
   "outputs": [
    {
     "data": {
      "text/plain": [
       "Cholesky{Float64, Matrix{Float64}}\n",
       "U factor:\n",
       "4×4 UpperTriangular{Float64, Matrix{Float64}}:\n",
       " 1.41343  0.878331  1.38552   0.664484\n",
       "  ⋅       0.824418  0.749654  0.118503\n",
       "  ⋅        ⋅        0.548281  0.0162501\n",
       "  ⋅        ⋅         ⋅        0.444812"
      ]
     },
     "execution_count": 10,
     "metadata": {},
     "output_type": "execute_result"
    }
   ],
   "source": [
    "using LinearAlgebra\n",
    "\n",
    "m=4;\n",
    "A= rand(m,m); A= A'*A\n",
    "\n",
    "cholesky!(A)"
   ]
  },
  {
   "cell_type": "code",
   "execution_count": 11,
   "id": "a5feca15-aeb3-437f-b0ba-d4e743dc4e6e",
   "metadata": {},
   "outputs": [
    {
     "data": {
      "text/plain": [
       "4×4 Matrix{Float64}:\n",
       " 1.41343  0.878331  1.38552   0.664484\n",
       " 0.0      0.824418  0.749654  0.118503\n",
       " 0.0      0.0       0.548281  0.0162501\n",
       " 0.0      0.0       0.0       0.444812"
      ]
     },
     "execution_count": 11,
     "metadata": {},
     "output_type": "execute_result"
    }
   ],
   "source": [
    "triu(A)"
   ]
  },
  {
   "cell_type": "code",
   "execution_count": 13,
   "id": "2f9f74c2-3c15-4989-b687-c70ad488511c",
   "metadata": {},
   "outputs": [
    {
     "data": {
      "text/plain": [
       "4×4 Matrix{Float64}:\n",
       " 1.41343  0.878331  1.38552   0.664484\n",
       " 0.0      0.824418  0.749654  0.118503\n",
       " 0.0      0.0       0.548281  0.0162501\n",
       " 0.0      0.0       0.0       0.444812"
      ]
     },
     "execution_count": 13,
     "metadata": {},
     "output_type": "execute_result"
    }
   ],
   "source": [
    "triu!(A)"
   ]
  },
  {
   "cell_type": "code",
   "execution_count": 14,
   "id": "106c2f75-07ed-45b8-8984-ad318cbe639e",
   "metadata": {},
   "outputs": [
    {
     "data": {
      "text/plain": [
       "4×4 Matrix{Float64}:\n",
       " 1.41343  0.878331  1.38552   0.664484\n",
       " 0.0      0.824418  0.749654  0.118503\n",
       " 0.0      0.0       0.548281  0.0162501\n",
       " 0.0      0.0       0.0       0.444812"
      ]
     },
     "execution_count": 14,
     "metadata": {},
     "output_type": "execute_result"
    }
   ],
   "source": [
    "A"
   ]
  },
  {
   "cell_type": "code",
   "execution_count": null,
   "id": "4ca7da6a-f674-4e4d-b081-8754d2c56413",
   "metadata": {},
   "outputs": [],
   "source": []
  }
 ],
 "metadata": {
  "kernelspec": {
   "display_name": "Julia 1.6.3",
   "language": "julia",
   "name": "julia-1.6"
  },
  "language_info": {
   "file_extension": ".jl",
   "mimetype": "application/julia",
   "name": "julia",
   "version": "1.6.3"
  }
 },
 "nbformat": 4,
 "nbformat_minor": 5
}
