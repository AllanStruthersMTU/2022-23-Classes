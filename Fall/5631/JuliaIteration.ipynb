{
 "cells": [
  {
   "cell_type": "markdown",
   "id": "0b104b9e-5a45-4e41-bc01-6a8c0ea99417",
   "metadata": {},
   "source": [
    "# Iterative Solvers and Sparse Matrices"
   ]
  },
  {
   "cell_type": "markdown",
   "id": "8f6e1192-0441-48e2-a3a7-941302fea81f",
   "metadata": {},
   "source": [
    "## Making Sparse Matrices"
   ]
  },
  {
   "cell_type": "code",
   "execution_count": 66,
   "id": "c05098ac-9544-47c3-8bd2-dfbe8f673291",
   "metadata": {},
   "outputs": [
    {
     "data": {
      "text/plain": [
       "12×12 SparseMatrixCSC{Float64, Int64} with 34 stored entries:\n",
       " -2.0   1.0    ⋅     ⋅     ⋅     ⋅     ⋅     ⋅     ⋅     ⋅     ⋅     ⋅ \n",
       "  1.0  -2.0   1.0    ⋅     ⋅     ⋅     ⋅     ⋅     ⋅     ⋅     ⋅     ⋅ \n",
       "   ⋅    1.0  -2.0   1.0    ⋅     ⋅     ⋅     ⋅     ⋅     ⋅     ⋅     ⋅ \n",
       "   ⋅     ⋅    1.0  -2.0   1.0    ⋅     ⋅     ⋅     ⋅     ⋅     ⋅     ⋅ \n",
       "   ⋅     ⋅     ⋅    1.0  -2.0   1.0    ⋅     ⋅     ⋅     ⋅     ⋅     ⋅ \n",
       "   ⋅     ⋅     ⋅     ⋅    1.0  -2.0   1.0    ⋅     ⋅     ⋅     ⋅     ⋅ \n",
       "   ⋅     ⋅     ⋅     ⋅     ⋅    1.0  -2.0   1.0    ⋅     ⋅     ⋅     ⋅ \n",
       "   ⋅     ⋅     ⋅     ⋅     ⋅     ⋅    1.0  -2.0   1.0    ⋅     ⋅     ⋅ \n",
       "   ⋅     ⋅     ⋅     ⋅     ⋅     ⋅     ⋅    1.0  -2.0   1.0    ⋅     ⋅ \n",
       "   ⋅     ⋅     ⋅     ⋅     ⋅     ⋅     ⋅     ⋅    1.0  -2.0   1.0    ⋅ \n",
       "   ⋅     ⋅     ⋅     ⋅     ⋅     ⋅     ⋅     ⋅     ⋅    1.0  -2.0   1.0\n",
       "   ⋅     ⋅     ⋅     ⋅     ⋅     ⋅     ⋅     ⋅     ⋅     ⋅    1.0  -2.0"
      ]
     },
     "execution_count": 66,
     "metadata": {},
     "output_type": "execute_result"
    }
   ],
   "source": [
    "using SparseArrays, LinearAlgebra\n",
    "m=12\n",
    "A = spzeros(m,m)\n",
    "for i in 2:m\n",
    "    A[i,i]=-2.0; A[i-1,i]=A[i,i-1]=1.0\n",
    "end\n",
    "A[1,1]=-2.0\n",
    "A"
   ]
  },
  {
   "cell_type": "markdown",
   "id": "9210e163-15a6-4a45-b6a9-8adb8d5b9a70",
   "metadata": {},
   "source": [
    "## Doing Things with Sparse Matrices"
   ]
  },
  {
   "cell_type": "markdown",
   "id": "189e2640-e01d-4226-9fd4-be8f297c2af1",
   "metadata": {},
   "source": [
    "Convert the sparse matrix to a dense matrix if you want to use the familiar fancy linear algebra commands. \n",
    "At this point you have lost any and all of the advantages of a sparse matrix"
   ]
  },
  {
   "cell_type": "code",
   "execution_count": 67,
   "id": "4d5dc936-ee80-4a40-b6a0-f29964eec990",
   "metadata": {},
   "outputs": [
    {
     "data": {
      "text/plain": [
       "12×12 Matrix{Float64}:\n",
       " -2.0   1.0   0.0   0.0   0.0   0.0   0.0   0.0   0.0   0.0   0.0   0.0\n",
       "  1.0  -2.0   1.0   0.0   0.0   0.0   0.0   0.0   0.0   0.0   0.0   0.0\n",
       "  0.0   1.0  -2.0   1.0   0.0   0.0   0.0   0.0   0.0   0.0   0.0   0.0\n",
       "  0.0   0.0   1.0  -2.0   1.0   0.0   0.0   0.0   0.0   0.0   0.0   0.0\n",
       "  0.0   0.0   0.0   1.0  -2.0   1.0   0.0   0.0   0.0   0.0   0.0   0.0\n",
       "  0.0   0.0   0.0   0.0   1.0  -2.0   1.0   0.0   0.0   0.0   0.0   0.0\n",
       "  0.0   0.0   0.0   0.0   0.0   1.0  -2.0   1.0   0.0   0.0   0.0   0.0\n",
       "  0.0   0.0   0.0   0.0   0.0   0.0   1.0  -2.0   1.0   0.0   0.0   0.0\n",
       "  0.0   0.0   0.0   0.0   0.0   0.0   0.0   1.0  -2.0   1.0   0.0   0.0\n",
       "  0.0   0.0   0.0   0.0   0.0   0.0   0.0   0.0   1.0  -2.0   1.0   0.0\n",
       "  0.0   0.0   0.0   0.0   0.0   0.0   0.0   0.0   0.0   1.0  -2.0   1.0\n",
       "  0.0   0.0   0.0   0.0   0.0   0.0   0.0   0.0   0.0   0.0   1.0  -2.0"
      ]
     },
     "execution_count": 67,
     "metadata": {},
     "output_type": "execute_result"
    }
   ],
   "source": [
    "DenseA=Matrix(A)"
   ]
  },
  {
   "cell_type": "markdown",
   "id": "d12cd3c0-8f24-4c3a-8cbd-c3450c7906ca",
   "metadata": {},
   "source": [
    "All you can really do with a native sparse matrix is blindingly fast multiplication! There are however quite a lot of things you can do with just multiplication. "
   ]
  },
  {
   "cell_type": "code",
   "execution_count": 74,
   "id": "aca2a6a3-b0b6-416f-9705-f74859d8c2eb",
   "metadata": {},
   "outputs": [
    {
     "data": {
      "text/plain": [
       "12×2 Matrix{Float64}:\n",
       "  0.0894609   0.0938673\n",
       " -0.174471   -0.182279\n",
       "  0.250668    0.260098\n",
       " -0.313895   -0.322801\n",
       "  0.360387    0.366744\n",
       " -0.387003   -0.389372\n",
       "  0.391514    0.389372\n",
       " -0.372887   -0.366744\n",
       "  0.331521    0.322801\n",
       " -0.269381   -0.260098\n",
       "  0.189985    0.182279\n",
       " -0.0982212  -0.0938673"
      ]
     },
     "execution_count": 74,
     "metadata": {},
     "output_type": "execute_result"
    }
   ],
   "source": [
    "x=rand(m)\n",
    "for i in 1:123\n",
    "    x=A*x\n",
    "    x=x/norm(x)\n",
    "end\n",
    " [x (eigen(Matrix(A)).vectors)[:,1]]"
   ]
  },
  {
   "cell_type": "markdown",
   "id": "d2904c6b-1ef0-4092-9b29-9c82dd3a60a9",
   "metadata": {},
   "source": [
    "## Jacobi Iteration\n",
    "Here is our first Iterative solver.  It is called the Jacobi iteration. "
   ]
  },
  {
   "cell_type": "code",
   "execution_count": 76,
   "id": "753687f9-4237-482b-ae7d-b31f8940373f",
   "metadata": {},
   "outputs": [
    {
     "data": {
      "text/plain": [
       "12×2 Matrix{Float64}:\n",
       " 0.879035    0.879035\n",
       " 0.478901    0.478901\n",
       " 0.00512292  0.00512292\n",
       " 0.611677    0.611677\n",
       " 0.900986    0.900986\n",
       " 0.893156    0.893156\n",
       " 0.274658    0.274658\n",
       " 0.931816    0.931816\n",
       " 0.992835    0.992835\n",
       " 0.721366    0.721366\n",
       " 0.621596    0.621596\n",
       " 0.619942    0.619942"
      ]
     },
     "execution_count": 76,
     "metadata": {},
     "output_type": "execute_result"
    }
   ],
   "source": [
    "x=rand(m); b=rand(m)\n",
    "Aoff=A+2.0*I\n",
    "for i in 1:1234\n",
    "    x = -0.5*(b-Aoff*x)\n",
    "end\n",
    "[A*x b]"
   ]
  },
  {
   "cell_type": "code",
   "execution_count": null,
   "id": "d1cd7298-703f-42ed-b1be-c62aec8914e0",
   "metadata": {},
   "outputs": [],
   "source": []
  }
 ],
 "metadata": {
  "kernelspec": {
   "display_name": "Julia 1.6.3",
   "language": "julia",
   "name": "julia-1.6"
  },
  "language_info": {
   "file_extension": ".jl",
   "mimetype": "application/julia",
   "name": "julia",
   "version": "1.6.3"
  }
 },
 "nbformat": 4,
 "nbformat_minor": 5
}
