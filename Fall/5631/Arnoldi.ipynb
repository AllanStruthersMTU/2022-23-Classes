{
 "cells": [
  {
   "cell_type": "markdown",
   "id": "7b756372-dbf1-4c78-9003-cd8d725a560b",
   "metadata": {},
   "source": [
    "# Check Arnoldi\n",
    "I am going to make sure I understand the output from Arnoldi.  I am going to use our stripey PDE matrix with a few extra non-zeros."
   ]
  },
  {
   "cell_type": "code",
   "execution_count": 1,
   "id": "5ba017b6-ffc3-4886-b49e-5a9bd0d3150a",
   "metadata": {},
   "outputs": [
    {
     "name": "stdout",
     "output_type": "stream",
     "text": [
      "  0.274621 seconds (316.36 k allocations: 18.179 MiB, 5.86% gc time, 99.21% compilation time)\n",
      "  0.002547 seconds (3 allocations: 93.922 KiB)\n",
      "  0.003815 seconds (3 allocations: 94.000 KiB)\n",
      "  0.004243 seconds (3 allocations: 93.906 KiB)\n",
      "  0.006097 seconds (3 allocations: 94.156 KiB)\n",
      "  0.005923 seconds (2 allocations: 93.828 KiB)\n",
      "  0.008155 seconds (3 allocations: 94.484 KiB)\n",
      "  0.005908 seconds (3 allocations: 93.969 KiB)\n",
      "  0.005140 seconds (2 allocations: 93.828 KiB)\n",
      "  0.005886 seconds (2 allocations: 93.828 KiB)\n",
      "  0.007776 seconds (3 allocations: 95.156 KiB)\n",
      "  0.011978 seconds (2 allocations: 93.828 KiB)\n",
      "  0.011551 seconds (2 allocations: 93.828 KiB)\n",
      "  0.015782 seconds (2 allocations: 93.828 KiB)\n",
      "  0.015920 seconds (2 allocations: 93.828 KiB)\n",
      "  0.014554 seconds (4 allocations: 96.656 KiB)\n",
      "  0.017946 seconds (2 allocations: 93.828 KiB)\n",
      "  0.019460 seconds (2 allocations: 93.828 KiB)\n",
      "  0.019356 seconds (2 allocations: 93.828 KiB)\n",
      "  0.025615 seconds (2 allocations: 93.828 KiB)\n",
      "  0.022627 seconds (2 allocations: 93.828 KiB)\n",
      "  0.020162 seconds (2 allocations: 93.828 KiB)\n",
      "  0.030514 seconds (3 allocations: 98.891 KiB)\n",
      "  0.031387 seconds (2 allocations: 93.828 KiB)\n",
      "  0.031619 seconds (2 allocations: 93.828 KiB)\n",
      "  0.032533 seconds (2 allocations: 93.828 KiB)\n",
      "  0.033664 seconds (2 allocations: 93.828 KiB)\n",
      "  0.035194 seconds (2 allocations: 93.828 KiB)\n",
      "  0.029146 seconds (2 allocations: 93.828 KiB)\n",
      "  0.029464 seconds (2 allocations: 93.828 KiB)\n",
      "  0.026868 seconds (2 allocations: 93.828 KiB)\n",
      "  0.036623 seconds (3 allocations: 94.359 KiB)\n",
      "  0.034252 seconds (2 allocations: 93.828 KiB)\n",
      "  0.033355 seconds (3 allocations: 103.891 KiB)\n",
      "  0.035788 seconds (2 allocations: 93.828 KiB)\n",
      "  0.035500 seconds (2 allocations: 93.828 KiB)\n",
      "  0.044575 seconds (2 allocations: 93.828 KiB)\n",
      "  0.032089 seconds (2 allocations: 93.828 KiB)\n",
      "  0.036376 seconds (2 allocations: 93.828 KiB)\n",
      "  0.038658 seconds (2 allocations: 93.828 KiB)\n",
      "  0.051282 seconds (2 allocations: 93.828 KiB)\n",
      "  0.035164 seconds (2 allocations: 93.828 KiB)\n",
      "  0.048730 seconds (2 allocations: 93.828 KiB)\n",
      "  0.039783 seconds (2 allocations: 93.828 KiB)\n"
     ]
    }
   ],
   "source": [
    "using LinearAlgebra, KrylovKit, SparseArrays\n",
    "n=12000\n",
    "A=spzeros(n,n);\n",
    "for i in 2:n\n",
    "    A[i,i]=-2.0; A[i,i-1]=1.0; A[i-1,i]=1.0\n",
    "end\n",
    "A[1,n]=A[n,1]=1.0;A[1,1]=-2.0\n",
    "A[4,5]=A[4,7]=-5.0\n",
    "v=rand(n)\n",
    "\n",
    "k=45;\n",
    "iterator = ArnoldiIterator(A, v)\n",
    "factorization = initialize(iterator)\n",
    "for i in 1:k-1\n",
    "@time expand!(iterator, factorization)\n",
    "end\n",
    "\n",
    "\n",
    "(VInt, H, res, normRes, b) = factorization\n",
    "\n",
    "V=zeros(n,k); Idk = Matrix(1.0I,k,k)\n",
    "v=zeros(n)\n",
    "for i in 1:k\n",
    "    V[:,i]=KrylovKit.unproject!(v,VInt,Idk[:,i])\n",
    "end"
   ]
  },
  {
   "cell_type": "markdown",
   "id": "cc5d230d-fe9c-4e4b-b302-4b73faa00281",
   "metadata": {},
   "source": [
    "# Checking the output!\n",
    "$\\int_0^2$\n",
    "$\\alpha$"
   ]
  },
  {
   "cell_type": "code",
   "execution_count": 15,
   "id": "4645b97b-cfb9-4bb6-83e1-18f9d32c969e",
   "metadata": {},
   "outputs": [
    {
     "data": {
      "text/plain": [
       "4×4 Matrix{Float64}:\n",
       " -2.04871  -0.0524138   0.300822   0.90302\n",
       "  3.76537  -1.05181    -0.90396   -0.173873\n",
       "  0.0       1.28234    -2.00833    0.555896\n",
       "  0.0       0.0         1.05932   -1.95845"
      ]
     },
     "execution_count": 15,
     "metadata": {},
     "output_type": "execute_result"
    }
   ],
   "source": [
    "Matrix(H)"
   ]
  },
  {
   "cell_type": "code",
   "execution_count": 11,
   "id": "711c7144-e1f0-4026-b473-99c279755af3",
   "metadata": {},
   "outputs": [
    {
     "data": {
      "text/plain": [
       "4×4 Matrix{Float64}:\n",
       "  1.0          -3.53436e-17  1.06046e-17  -1.06875e-17\n",
       " -3.53436e-17   1.0          2.10773e-17   2.35194e-17\n",
       "  1.06046e-17   2.10773e-17  1.0           5.17104e-18\n",
       " -1.06875e-17   2.35194e-17  5.17104e-18   1.0"
      ]
     },
     "execution_count": 11,
     "metadata": {},
     "output_type": "execute_result"
    }
   ],
   "source": [
    "V'*V"
   ]
  },
  {
   "cell_type": "code",
   "execution_count": 24,
   "id": "0faad586-7b7e-461e-8802-f583a305557b",
   "metadata": {},
   "outputs": [
    {
     "data": {
      "text/plain": [
       "6.980747984124483e-16"
      ]
     },
     "execution_count": 24,
     "metadata": {},
     "output_type": "execute_result"
    }
   ],
   "source": [
    "norm(A*V-V*H -res*b')"
   ]
  },
  {
   "cell_type": "code",
   "execution_count": 22,
   "id": "6ce071d1-8671-461b-a5a3-3c1ac45ad4d3",
   "metadata": {},
   "outputs": [
    {
     "data": {
      "text/plain": [
       "12×4 Matrix{Float64}:\n",
       " -0.0  -0.0  -0.0  -0.136368\n",
       " -0.0  -0.0  -0.0  -0.307192\n",
       "  0.0   0.0   0.0   0.047899\n",
       " -0.0  -0.0  -0.0  -0.0547694\n",
       "  0.0   0.0   0.0   0.198102\n",
       " -0.0  -0.0  -0.0  -0.269457\n",
       " -0.0  -0.0  -0.0  -0.216468\n",
       " -0.0  -0.0  -0.0  -0.0843728\n",
       "  0.0   0.0   0.0   0.689997\n",
       " -0.0  -0.0  -0.0  -0.192998\n",
       "  0.0   0.0   0.0   0.68098\n",
       " -0.0  -0.0  -0.0  -0.0729946"
      ]
     },
     "execution_count": 22,
     "metadata": {},
     "output_type": "execute_result"
    }
   ],
   "source": [
    "res*b'"
   ]
  },
  {
   "cell_type": "code",
   "execution_count": 90,
   "id": "2ebfa341-b3a3-49d1-a230-e0a40e038a17",
   "metadata": {},
   "outputs": [
    {
     "data": {
      "text/plain": [
       "4-element KrylovKit.SimpleBasisVector:\n",
       " 0\n",
       " 0\n",
       " 0\n",
       " 1"
      ]
     },
     "execution_count": 90,
     "metadata": {},
     "output_type": "execute_result"
    }
   ],
   "source": [
    "b"
   ]
  },
  {
   "cell_type": "code",
   "execution_count": 91,
   "id": "6507cb79-b132-445e-920a-373e36230fb1",
   "metadata": {},
   "outputs": [
    {
     "data": {
      "text/plain": [
       "12-element Vector{Float64}:\n",
       " -0.354296553855302\n",
       " -0.1949490813758623\n",
       " -0.1550573476618112\n",
       "  0.020192650332838017\n",
       "  0.3356775245272991\n",
       " -0.32414696207481647\n",
       " -0.18355859155920165\n",
       "  0.2137432646217389\n",
       "  0.17441839886714403\n",
       "  0.13119479643378384\n",
       " -0.01713166884815578\n",
       "  0.5739445534303531"
      ]
     },
     "execution_count": 91,
     "metadata": {},
     "output_type": "execute_result"
    }
   ],
   "source": [
    "res"
   ]
  },
  {
   "cell_type": "code",
   "execution_count": 103,
   "id": "ae072001-e5c8-4dcf-875b-abdb353f4e2a",
   "metadata": {},
   "outputs": [
    {
     "data": {
      "text/plain": [
       "12×4 Kronecker.KroneckerProduct{Float64, Adjoint{Bool, KrylovKit.SimpleBasisVector}, Matrix{Float64}}:\n",
       " -0.0  -0.0  -0.0  -0.354297\n",
       " -0.0  -0.0  -0.0  -0.194949\n",
       " -0.0  -0.0  -0.0  -0.155057\n",
       "  0.0   0.0   0.0   0.0201927\n",
       "  0.0   0.0   0.0   0.335678\n",
       " -0.0  -0.0  -0.0  -0.324147\n",
       " -0.0  -0.0  -0.0  -0.183559\n",
       "  0.0   0.0   0.0   0.213743\n",
       "  0.0   0.0   0.0   0.174418\n",
       "  0.0   0.0   0.0   0.131195\n",
       " -0.0  -0.0  -0.0  -0.0171317\n",
       "  0.0   0.0   0.0   0.573945"
      ]
     },
     "execution_count": 103,
     "metadata": {},
     "output_type": "execute_result"
    }
   ],
   "source": [
    "using Kronecker\n",
    "kronecker(b',res)"
   ]
  },
  {
   "cell_type": "code",
   "execution_count": null,
   "id": "0b7c68da-ccb0-44e6-92aa-95591f336cdb",
   "metadata": {},
   "outputs": [],
   "source": []
  }
 ],
 "metadata": {
  "kernelspec": {
   "display_name": "Julia 1.6.3",
   "language": "julia",
   "name": "julia-1.6"
  },
  "language_info": {
   "file_extension": ".jl",
   "mimetype": "application/julia",
   "name": "julia",
   "version": "1.6.3"
  }
 },
 "nbformat": 4,
 "nbformat_minor": 5
}
