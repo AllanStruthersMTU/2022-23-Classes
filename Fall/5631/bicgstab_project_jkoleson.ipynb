{
 "cells": [
  {
   "cell_type": "markdown",
   "id": "b6fcd3a5-8820-46d1-a10f-3363bcec29b5",
   "metadata": {},
   "source": [
    "Jonathan Oleson\n",
    "\n",
    "Bi-CGSTAB Project - Building test matrices\n",
    "\n",
    "MA 5631, Advanced Numerical Linear Algebra, Dr. Allan Struthers\n",
    "\n",
    "Michigan Technological University"
   ]
  },
  {
   "cell_type": "code",
   "execution_count": 1,
   "id": "ac5c1189-c3c4-48e8-8ba5-afa8d98f030e",
   "metadata": {},
   "outputs": [],
   "source": [
    "using LinearAlgebra, SparseArrays, MatrixMarket\n",
    "#using Plots"
   ]
  },
  {
   "cell_type": "markdown",
   "id": "7b2791af-7e87-4b5a-8bd5-b0d57c16fb5a",
   "metadata": {},
   "source": [
    "Define a finite difference discretization for the Poisson equation on a 150X150 grid of unknowns"
   ]
  },
  {
   "cell_type": "code",
   "execution_count": 6,
   "id": "1e7537f3-bd42-403e-b27a-88caf6067330",
   "metadata": {},
   "outputs": [
    {
     "data": {
      "text/plain": [
       "100-element Vector{Float64}:\n",
       " -7.837971894457994\n",
       " -7.601493012891357\n",
       " -7.601493012891345\n",
       " -7.365014131324731\n",
       " -7.228707415119568\n",
       " -7.228707415119567\n",
       " -6.992228533552936\n",
       " -6.992228533552922\n",
       " -6.749815973232769\n",
       " -6.749815973232763\n",
       " -6.619442935781142\n",
       " -6.51333709166614\n",
       " -6.513337091666136\n",
       "  ⋮\n",
       " -1.4866629083338634\n",
       " -1.3805570642188603\n",
       " -1.2501840267672328\n",
       " -1.250184026767232\n",
       " -1.0077714664470698\n",
       " -1.0077714664470674\n",
       " -0.771292584880436\n",
       " -0.7712925848804346\n",
       " -0.6349858686752753\n",
       " -0.39850698710864363\n",
       " -0.39850698710864324\n",
       " -0.16202810554201086"
      ]
     },
     "execution_count": 6,
     "metadata": {},
     "output_type": "execute_result"
    }
   ],
   "source": [
    "# do we need to divide by h (or maybe 2h)?\n",
    "n = 10 # use 150 for the test problem\n",
    "m = n^2\n",
    "A = spzeros(m,m)\n",
    "for j in 1:n\n",
    "    for i in 1:n\n",
    "        k = i + (j-1)*n\n",
    "        A[k,k] = -4.0\n",
    "        #print(i,' ',j,' ',k,'\\n') #troubleshooting\n",
    "        if (1<=(i+1) & (i+1)<=n); A[k,k+1] = 1.0; end\n",
    "        if (1<=(i-1) & (i-1)<=n); A[k,k-1] = 1.0; end\n",
    "        if (1<=(j+1) & (j+1)<=n); A[k,k+n] = 1.0; end\n",
    "        if (1<=(j-1) & (j-1)<=n); A[k,k-n] = 1.0; end\n",
    "    end\n",
    "end\n",
    "\n",
    "eigen(Matrix(A)).values"
   ]
  },
  {
   "cell_type": "markdown",
   "id": "efeb1f62-f95f-48c7-b6b0-396bed075795",
   "metadata": {},
   "source": [
    "Export $A$ to a .mtx file."
   ]
  },
  {
   "cell_type": "code",
   "execution_count": 10,
   "id": "b357ba1d-af9a-4aa4-92f6-d4d131fdcd95",
   "metadata": {},
   "outputs": [
    {
     "name": "stdout",
     "output_type": "stream",
     "text": [
      "A is not the right size"
     ]
    }
   ],
   "source": [
    "if n == 150; mmwrite(\"test_problem_1.mtx\",A); else; print(\"A is not the right size\"); end"
   ]
  },
  {
   "cell_type": "code",
   "execution_count": 4,
   "id": "dd045294-4607-4293-a37e-571e1bfdfc88",
   "metadata": {},
   "outputs": [
    {
     "data": {
      "text/plain": [
       "10-element Vector{Float64}:\n",
       "  0.003746600467795444\n",
       "  0.1322042254408411\n",
       "  0.20967264076641065\n",
       "  0.43634529418046286\n",
       "  0.703445004195287\n",
       "  0.922780816112448\n",
       "  1.1820716841147583\n",
       "  1.4393142787595232\n",
       "  2.2203717115510337\n",
       " 25.353721383369113"
      ]
     },
     "execution_count": 4,
     "metadata": {},
     "output_type": "execute_result"
    }
   ],
   "source": [
    "# test stuff to make sure I know how to use the Julia cholesky function\n",
    "testmat = rand(n,n)\n",
    "testmat = testmat*testmat'\n",
    "#cholesky(testmat)\n",
    "eigen(testmat).values"
   ]
  },
  {
   "cell_type": "markdown",
   "id": "1e69fe75-bd71-4d5c-8930-834c2176c381",
   "metadata": {},
   "source": [
    "The paper preconditions the problem as $L^{-1}.A.U^{-1}.\\tilde x = L^{-1}.b$. Create one of the preconditioner matrices for A using a Cholesky factorization (paper calls for modified incomplete, but use plain for now). The other one is just the transpose of the first."
   ]
  },
  {
   "cell_type": "code",
   "execution_count": 3,
   "id": "83027aa2-12e3-42a7-b19e-db9b05f8ecb7",
   "metadata": {},
   "outputs": [
    {
     "data": {
      "text/plain": [
       "100-element Vector{Float64}:\n",
       " -7.837971894457992\n",
       " -7.601493012891357\n",
       " -7.601493012891353\n",
       " -7.365014131324727\n",
       " -7.228707415119571\n",
       " -7.228707415119569\n",
       " -6.992228533552937\n",
       " -6.992228533552932\n",
       " -6.749815973232768\n",
       " -6.749815973232758\n",
       " -6.619442935781139\n",
       " -6.5133370916661395\n",
       " -6.513337091666136\n",
       "  ⋮\n",
       " -1.4866629083338625\n",
       " -1.380557064218859\n",
       " -1.2501840267672322\n",
       " -1.2501840267672315\n",
       " -1.0077714664470685\n",
       " -1.007771466447066\n",
       " -0.7712925848804354\n",
       " -0.7712925848804345\n",
       " -0.6349858686752753\n",
       " -0.398506987108643\n",
       " -0.3985069871086423\n",
       " -0.16202810554201033"
      ]
     },
     "execution_count": 3,
     "metadata": {},
     "output_type": "execute_result"
    }
   ],
   "source": [
    "eigen(Matrix(A)).values # negative eigenvalues? cholesky won't work since A isn't SPD!"
   ]
  },
  {
   "cell_type": "code",
   "execution_count": 4,
   "id": "bde2802c-096f-4a7d-99c6-9cee2233f934",
   "metadata": {},
   "outputs": [
    {
     "ename": "LoadError",
     "evalue": "PosDefException: matrix is not positive definite; Cholesky factorization failed.",
     "output_type": "error",
     "traceback": [
      "PosDefException: matrix is not positive definite; Cholesky factorization failed.",
      "",
      "Stacktrace:",
      " [1] cholesky!(F::SuiteSparse.CHOLMOD.Factor{Float64}, A::SuiteSparse.CHOLMOD.Sparse{Float64}; shift::Float64, check::Bool)",
      "   @ SuiteSparse.CHOLMOD C:\\buildbot\\worker\\package_win64\\build\\usr\\share\\julia\\stdlib\\v1.6\\SuiteSparse\\src\\cholmod.jl:1308",
      " [2] cholesky(A::SuiteSparse.CHOLMOD.Sparse{Float64}; shift::Float64, check::Bool, perm::Nothing)",
      "   @ SuiteSparse.CHOLMOD C:\\buildbot\\worker\\package_win64\\build\\usr\\share\\julia\\stdlib\\v1.6\\SuiteSparse\\src\\cholmod.jl:1346",
      " [3] cholesky",
      "   @ C:\\buildbot\\worker\\package_win64\\build\\usr\\share\\julia\\stdlib\\v1.6\\SuiteSparse\\src\\cholmod.jl:1339 [inlined]",
      " [4] #cholesky#9",
      "   @ C:\\buildbot\\worker\\package_win64\\build\\usr\\share\\julia\\stdlib\\v1.6\\SuiteSparse\\src\\cholmod.jl:1458 [inlined]",
      " [5] cholesky(A::Hermitian{Float64, SparseMatrixCSC{Float64, Int64}})",
      "   @ SuiteSparse.CHOLMOD C:\\buildbot\\worker\\package_win64\\build\\usr\\share\\julia\\stdlib\\v1.6\\SuiteSparse\\src\\cholmod.jl:1458",
      " [6] top-level scope",
      "   @ In[4]:1",
      " [7] eval",
      "   @ .\\boot.jl:360 [inlined]",
      " [8] include_string(mapexpr::typeof(REPL.softscope), mod::Module, code::String, filename::String)",
      "   @ Base .\\loading.jl:1116"
     ]
    }
   ],
   "source": [
    "cholesky(Hermitian(A))"
   ]
  }
 ],
 "metadata": {
  "kernelspec": {
   "display_name": "Julia 1.6.3",
   "language": "julia",
   "name": "julia-1.6"
  },
  "language_info": {
   "file_extension": ".jl",
   "mimetype": "application/julia",
   "name": "julia",
   "version": "1.6.3"
  }
 },
 "nbformat": 4,
 "nbformat_minor": 5
}
